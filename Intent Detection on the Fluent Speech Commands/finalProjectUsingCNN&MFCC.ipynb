{
  "cells": [
    {
      "cell_type": "markdown",
      "source": [
        "<h1> Loading Development Dataset </h1>"
      ],
      "metadata": {
        "id": "nQI9y6x7w7o2"
      }
    },
    {
      "cell_type": "code",
      "execution_count": null,
      "metadata": {
        "colab": {
          "base_uri": "https://localhost:8080/",
          "height": 371
        },
        "id": "Kq2v4T0jb1YE",
        "outputId": "ef4c7711-2e84-4001-913d-598d452c1e6b"
      },
      "outputs": [
        {
          "output_type": "stream",
          "name": "stdout",
          "text": [
            "Mounted at /content/drive\n"
          ]
        },
        {
          "output_type": "execute_result",
          "data": {
            "text/plain": [
              "   Id                                               path         speakerId  \\\n",
              "0   0  dsl_data/audio/speakers/2BqVo8kVB2Skwgyb/0a312...  2BqVo8kVB2Skwgyb   \n",
              "1   1  dsl_data/audio/speakers/2BqVo8kVB2Skwgyb/0ee42...  2BqVo8kVB2Skwgyb   \n",
              "2   2  dsl_data/audio/speakers/2BqVo8kVB2Skwgyb/1d9f3...  2BqVo8kVB2Skwgyb   \n",
              "3   3  dsl_data/audio/speakers/2BqVo8kVB2Skwgyb/269fc...  2BqVo8kVB2Skwgyb   \n",
              "4   4  dsl_data/audio/speakers/2BqVo8kVB2Skwgyb/5bbda...  2BqVo8kVB2Skwgyb   \n",
              "\n",
              "            action  object Self-reported fluency level   \\\n",
              "0  change language    none                     advanced   \n",
              "1         activate   music                     advanced   \n",
              "2       deactivate  lights                     advanced   \n",
              "3         increase  volume                     advanced   \n",
              "4         increase  volume                     advanced   \n",
              "\n",
              "     First Language spoken Current language used for work/school  gender  \\\n",
              "0  English (United States)               English (United States)  female   \n",
              "1  English (United States)               English (United States)  female   \n",
              "2  English (United States)               English (United States)  female   \n",
              "3  English (United States)               English (United States)  female   \n",
              "4  English (United States)               English (United States)  female   \n",
              "\n",
              "  ageRange  \n",
              "0    22-40  \n",
              "1    22-40  \n",
              "2    22-40  \n",
              "3    22-40  \n",
              "4    22-40  "
            ],
            "text/html": [
              "\n",
              "  <div id=\"df-d9d46f3c-3828-45bb-9ccc-358508cc7ee6\">\n",
              "    <div class=\"colab-df-container\">\n",
              "      <div>\n",
              "<style scoped>\n",
              "    .dataframe tbody tr th:only-of-type {\n",
              "        vertical-align: middle;\n",
              "    }\n",
              "\n",
              "    .dataframe tbody tr th {\n",
              "        vertical-align: top;\n",
              "    }\n",
              "\n",
              "    .dataframe thead th {\n",
              "        text-align: right;\n",
              "    }\n",
              "</style>\n",
              "<table border=\"1\" class=\"dataframe\">\n",
              "  <thead>\n",
              "    <tr style=\"text-align: right;\">\n",
              "      <th></th>\n",
              "      <th>Id</th>\n",
              "      <th>path</th>\n",
              "      <th>speakerId</th>\n",
              "      <th>action</th>\n",
              "      <th>object</th>\n",
              "      <th>Self-reported fluency level</th>\n",
              "      <th>First Language spoken</th>\n",
              "      <th>Current language used for work/school</th>\n",
              "      <th>gender</th>\n",
              "      <th>ageRange</th>\n",
              "    </tr>\n",
              "  </thead>\n",
              "  <tbody>\n",
              "    <tr>\n",
              "      <th>0</th>\n",
              "      <td>0</td>\n",
              "      <td>dsl_data/audio/speakers/2BqVo8kVB2Skwgyb/0a312...</td>\n",
              "      <td>2BqVo8kVB2Skwgyb</td>\n",
              "      <td>change language</td>\n",
              "      <td>none</td>\n",
              "      <td>advanced</td>\n",
              "      <td>English (United States)</td>\n",
              "      <td>English (United States)</td>\n",
              "      <td>female</td>\n",
              "      <td>22-40</td>\n",
              "    </tr>\n",
              "    <tr>\n",
              "      <th>1</th>\n",
              "      <td>1</td>\n",
              "      <td>dsl_data/audio/speakers/2BqVo8kVB2Skwgyb/0ee42...</td>\n",
              "      <td>2BqVo8kVB2Skwgyb</td>\n",
              "      <td>activate</td>\n",
              "      <td>music</td>\n",
              "      <td>advanced</td>\n",
              "      <td>English (United States)</td>\n",
              "      <td>English (United States)</td>\n",
              "      <td>female</td>\n",
              "      <td>22-40</td>\n",
              "    </tr>\n",
              "    <tr>\n",
              "      <th>2</th>\n",
              "      <td>2</td>\n",
              "      <td>dsl_data/audio/speakers/2BqVo8kVB2Skwgyb/1d9f3...</td>\n",
              "      <td>2BqVo8kVB2Skwgyb</td>\n",
              "      <td>deactivate</td>\n",
              "      <td>lights</td>\n",
              "      <td>advanced</td>\n",
              "      <td>English (United States)</td>\n",
              "      <td>English (United States)</td>\n",
              "      <td>female</td>\n",
              "      <td>22-40</td>\n",
              "    </tr>\n",
              "    <tr>\n",
              "      <th>3</th>\n",
              "      <td>3</td>\n",
              "      <td>dsl_data/audio/speakers/2BqVo8kVB2Skwgyb/269fc...</td>\n",
              "      <td>2BqVo8kVB2Skwgyb</td>\n",
              "      <td>increase</td>\n",
              "      <td>volume</td>\n",
              "      <td>advanced</td>\n",
              "      <td>English (United States)</td>\n",
              "      <td>English (United States)</td>\n",
              "      <td>female</td>\n",
              "      <td>22-40</td>\n",
              "    </tr>\n",
              "    <tr>\n",
              "      <th>4</th>\n",
              "      <td>4</td>\n",
              "      <td>dsl_data/audio/speakers/2BqVo8kVB2Skwgyb/5bbda...</td>\n",
              "      <td>2BqVo8kVB2Skwgyb</td>\n",
              "      <td>increase</td>\n",
              "      <td>volume</td>\n",
              "      <td>advanced</td>\n",
              "      <td>English (United States)</td>\n",
              "      <td>English (United States)</td>\n",
              "      <td>female</td>\n",
              "      <td>22-40</td>\n",
              "    </tr>\n",
              "  </tbody>\n",
              "</table>\n",
              "</div>\n",
              "      <button class=\"colab-df-convert\" onclick=\"convertToInteractive('df-d9d46f3c-3828-45bb-9ccc-358508cc7ee6')\"\n",
              "              title=\"Convert this dataframe to an interactive table.\"\n",
              "              style=\"display:none;\">\n",
              "        \n",
              "  <svg xmlns=\"http://www.w3.org/2000/svg\" height=\"24px\"viewBox=\"0 0 24 24\"\n",
              "       width=\"24px\">\n",
              "    <path d=\"M0 0h24v24H0V0z\" fill=\"none\"/>\n",
              "    <path d=\"M18.56 5.44l.94 2.06.94-2.06 2.06-.94-2.06-.94-.94-2.06-.94 2.06-2.06.94zm-11 1L8.5 8.5l.94-2.06 2.06-.94-2.06-.94L8.5 2.5l-.94 2.06-2.06.94zm10 10l.94 2.06.94-2.06 2.06-.94-2.06-.94-.94-2.06-.94 2.06-2.06.94z\"/><path d=\"M17.41 7.96l-1.37-1.37c-.4-.4-.92-.59-1.43-.59-.52 0-1.04.2-1.43.59L10.3 9.45l-7.72 7.72c-.78.78-.78 2.05 0 2.83L4 21.41c.39.39.9.59 1.41.59.51 0 1.02-.2 1.41-.59l7.78-7.78 2.81-2.81c.8-.78.8-2.07 0-2.86zM5.41 20L4 18.59l7.72-7.72 1.47 1.35L5.41 20z\"/>\n",
              "  </svg>\n",
              "      </button>\n",
              "      \n",
              "  <style>\n",
              "    .colab-df-container {\n",
              "      display:flex;\n",
              "      flex-wrap:wrap;\n",
              "      gap: 12px;\n",
              "    }\n",
              "\n",
              "    .colab-df-convert {\n",
              "      background-color: #E8F0FE;\n",
              "      border: none;\n",
              "      border-radius: 50%;\n",
              "      cursor: pointer;\n",
              "      display: none;\n",
              "      fill: #1967D2;\n",
              "      height: 32px;\n",
              "      padding: 0 0 0 0;\n",
              "      width: 32px;\n",
              "    }\n",
              "\n",
              "    .colab-df-convert:hover {\n",
              "      background-color: #E2EBFA;\n",
              "      box-shadow: 0px 1px 2px rgba(60, 64, 67, 0.3), 0px 1px 3px 1px rgba(60, 64, 67, 0.15);\n",
              "      fill: #174EA6;\n",
              "    }\n",
              "\n",
              "    [theme=dark] .colab-df-convert {\n",
              "      background-color: #3B4455;\n",
              "      fill: #D2E3FC;\n",
              "    }\n",
              "\n",
              "    [theme=dark] .colab-df-convert:hover {\n",
              "      background-color: #434B5C;\n",
              "      box-shadow: 0px 1px 3px 1px rgba(0, 0, 0, 0.15);\n",
              "      filter: drop-shadow(0px 1px 2px rgba(0, 0, 0, 0.3));\n",
              "      fill: #FFFFFF;\n",
              "    }\n",
              "  </style>\n",
              "\n",
              "      <script>\n",
              "        const buttonEl =\n",
              "          document.querySelector('#df-d9d46f3c-3828-45bb-9ccc-358508cc7ee6 button.colab-df-convert');\n",
              "        buttonEl.style.display =\n",
              "          google.colab.kernel.accessAllowed ? 'block' : 'none';\n",
              "\n",
              "        async function convertToInteractive(key) {\n",
              "          const element = document.querySelector('#df-d9d46f3c-3828-45bb-9ccc-358508cc7ee6');\n",
              "          const dataTable =\n",
              "            await google.colab.kernel.invokeFunction('convertToInteractive',\n",
              "                                                     [key], {});\n",
              "          if (!dataTable) return;\n",
              "\n",
              "          const docLinkHtml = 'Like what you see? Visit the ' +\n",
              "            '<a target=\"_blank\" href=https://colab.research.google.com/notebooks/data_table.ipynb>data table notebook</a>'\n",
              "            + ' to learn more about interactive tables.';\n",
              "          element.innerHTML = '';\n",
              "          dataTable['output_type'] = 'display_data';\n",
              "          await google.colab.output.renderOutput(dataTable, element);\n",
              "          const docLink = document.createElement('div');\n",
              "          docLink.innerHTML = docLinkHtml;\n",
              "          element.appendChild(docLink);\n",
              "        }\n",
              "      </script>\n",
              "    </div>\n",
              "  </div>\n",
              "  "
            ]
          },
          "metadata": {},
          "execution_count": 2
        }
      ],
      "source": [
        "#audio_dataset_path='F:\\myPolito\\DSL\\Final Project'\n",
        "import pandas as pd\n",
        "import numpy as np\n",
        "import tensorflow as tf\n",
        "import os\n",
        "from google.colab import drive\n",
        "drive.mount('/content/drive')\n",
        "file_path = '/content/drive/My Drive/DSL_Final_Project/development.csv'\n",
        "metadata = pd.read_csv(file_path)\n",
        "metadata.head()"
      ]
    },
    {
      "cell_type": "markdown",
      "source": [
        "<h1> Loading audio using librosa library </h1>"
      ],
      "metadata": {
        "id": "26d_NGQxxP4j"
      }
    },
    {
      "cell_type": "code",
      "execution_count": null,
      "metadata": {
        "colab": {
          "base_uri": "https://localhost:8080/",
          "height": 397
        },
        "id": "tp3rR9SSeYl1",
        "outputId": "45ab7130-e8f8-4e63-aec6-13192dc17a53"
      },
      "outputs": [
        {
          "output_type": "stream",
          "name": "stderr",
          "text": [
            "245it [03:32,  1.15it/s]\n"
          ]
        },
        {
          "output_type": "error",
          "ename": "KeyboardInterrupt",
          "evalue": "ignored",
          "traceback": [
            "\u001b[0;31m---------------------------------------------------------------------------\u001b[0m",
            "\u001b[0;31mKeyboardInterrupt\u001b[0m                         Traceback (most recent call last)",
            "\u001b[0;32m<ipython-input-3-b5d7a3d61073>\u001b[0m in \u001b[0;36m<module>\u001b[0;34m\u001b[0m\n\u001b[1;32m      8\u001b[0m     \u001b[0mfile_name\u001b[0m \u001b[0;34m=\u001b[0m \u001b[0mos\u001b[0m\u001b[0;34m.\u001b[0m\u001b[0mpath\u001b[0m\u001b[0;34m.\u001b[0m\u001b[0mjoin\u001b[0m\u001b[0;34m(\u001b[0m\u001b[0;34m'/content/drive/My Drive/DSL_Final_Project'\u001b[0m\u001b[0;34m,\u001b[0m\u001b[0mstr\u001b[0m\u001b[0;34m(\u001b[0m\u001b[0mrow\u001b[0m\u001b[0;34m[\u001b[0m\u001b[0;34m\"path\"\u001b[0m\u001b[0;34m]\u001b[0m\u001b[0;34m)\u001b[0m\u001b[0;34m)\u001b[0m\u001b[0;34m\u001b[0m\u001b[0;34m\u001b[0m\u001b[0m\n\u001b[1;32m      9\u001b[0m \u001b[0;34m\u001b[0m\u001b[0m\n\u001b[0;32m---> 10\u001b[0;31m     \u001b[0maudio\u001b[0m\u001b[0;34m,\u001b[0m \u001b[0msample_rate\u001b[0m \u001b[0;34m=\u001b[0m \u001b[0mlibrosa\u001b[0m\u001b[0;34m.\u001b[0m\u001b[0mload\u001b[0m\u001b[0;34m(\u001b[0m\u001b[0mfile_name\u001b[0m\u001b[0;34m,\u001b[0m \u001b[0mres_type\u001b[0m\u001b[0;34m=\u001b[0m\u001b[0;34m'kaiser_best'\u001b[0m\u001b[0;34m)\u001b[0m\u001b[0;34m\u001b[0m\u001b[0;34m\u001b[0m\u001b[0m\n\u001b[0m\u001b[1;32m     11\u001b[0m     \u001b[0maudios\u001b[0m\u001b[0;34m.\u001b[0m\u001b[0mappend\u001b[0m\u001b[0;34m(\u001b[0m\u001b[0maudio\u001b[0m\u001b[0;34m)\u001b[0m\u001b[0;34m\u001b[0m\u001b[0;34m\u001b[0m\u001b[0m\n\u001b[1;32m     12\u001b[0m     \u001b[0mlabels\u001b[0m \u001b[0;34m=\u001b[0m \u001b[0mrow\u001b[0m\u001b[0;34m[\u001b[0m\u001b[0;34m\"action\"\u001b[0m\u001b[0;34m]\u001b[0m  \u001b[0;34m+\u001b[0m \u001b[0mrow\u001b[0m\u001b[0;34m[\u001b[0m\u001b[0;34m\"object\"\u001b[0m\u001b[0;34m]\u001b[0m\u001b[0;34m\u001b[0m\u001b[0;34m\u001b[0m\u001b[0m\n",
            "\u001b[0;32m/usr/local/lib/python3.8/dist-packages/librosa/core/audio.py\u001b[0m in \u001b[0;36mload\u001b[0;34m(path, sr, mono, offset, duration, dtype, res_type)\u001b[0m\n\u001b[1;32m    147\u001b[0m \u001b[0;34m\u001b[0m\u001b[0m\n\u001b[1;32m    148\u001b[0m     \u001b[0;32mtry\u001b[0m\u001b[0;34m:\u001b[0m\u001b[0;34m\u001b[0m\u001b[0;34m\u001b[0m\u001b[0m\n\u001b[0;32m--> 149\u001b[0;31m         \u001b[0;32mwith\u001b[0m \u001b[0msf\u001b[0m\u001b[0;34m.\u001b[0m\u001b[0mSoundFile\u001b[0m\u001b[0;34m(\u001b[0m\u001b[0mpath\u001b[0m\u001b[0;34m)\u001b[0m \u001b[0;32mas\u001b[0m \u001b[0msf_desc\u001b[0m\u001b[0;34m:\u001b[0m\u001b[0;34m\u001b[0m\u001b[0;34m\u001b[0m\u001b[0m\n\u001b[0m\u001b[1;32m    150\u001b[0m             \u001b[0msr_native\u001b[0m \u001b[0;34m=\u001b[0m \u001b[0msf_desc\u001b[0m\u001b[0;34m.\u001b[0m\u001b[0msamplerate\u001b[0m\u001b[0;34m\u001b[0m\u001b[0;34m\u001b[0m\u001b[0m\n\u001b[1;32m    151\u001b[0m             \u001b[0;32mif\u001b[0m \u001b[0moffset\u001b[0m\u001b[0;34m:\u001b[0m\u001b[0;34m\u001b[0m\u001b[0;34m\u001b[0m\u001b[0m\n",
            "\u001b[0;32m/usr/local/lib/python3.8/dist-packages/soundfile.py\u001b[0m in \u001b[0;36m__init__\u001b[0;34m(self, file, mode, samplerate, channels, subtype, endian, format, closefd)\u001b[0m\n\u001b[1;32m    653\u001b[0m         self._info = _create_info_struct(file, mode, samplerate, channels,\n\u001b[1;32m    654\u001b[0m                                          format, subtype, endian)\n\u001b[0;32m--> 655\u001b[0;31m         \u001b[0mself\u001b[0m\u001b[0;34m.\u001b[0m\u001b[0m_file\u001b[0m \u001b[0;34m=\u001b[0m \u001b[0mself\u001b[0m\u001b[0;34m.\u001b[0m\u001b[0m_open\u001b[0m\u001b[0;34m(\u001b[0m\u001b[0mfile\u001b[0m\u001b[0;34m,\u001b[0m \u001b[0mmode_int\u001b[0m\u001b[0;34m,\u001b[0m \u001b[0mclosefd\u001b[0m\u001b[0;34m)\u001b[0m\u001b[0;34m\u001b[0m\u001b[0;34m\u001b[0m\u001b[0m\n\u001b[0m\u001b[1;32m    656\u001b[0m         \u001b[0;32mif\u001b[0m \u001b[0mset\u001b[0m\u001b[0;34m(\u001b[0m\u001b[0mmode\u001b[0m\u001b[0;34m)\u001b[0m\u001b[0;34m.\u001b[0m\u001b[0missuperset\u001b[0m\u001b[0;34m(\u001b[0m\u001b[0;34m'r+'\u001b[0m\u001b[0;34m)\u001b[0m \u001b[0;32mand\u001b[0m \u001b[0mself\u001b[0m\u001b[0;34m.\u001b[0m\u001b[0mseekable\u001b[0m\u001b[0;34m(\u001b[0m\u001b[0;34m)\u001b[0m\u001b[0;34m:\u001b[0m\u001b[0;34m\u001b[0m\u001b[0;34m\u001b[0m\u001b[0m\n\u001b[1;32m    657\u001b[0m             \u001b[0;31m# Move write position to 0 (like in Python file objects)\u001b[0m\u001b[0;34m\u001b[0m\u001b[0;34m\u001b[0m\u001b[0;34m\u001b[0m\u001b[0m\n",
            "\u001b[0;32m/usr/local/lib/python3.8/dist-packages/soundfile.py\u001b[0m in \u001b[0;36m_open\u001b[0;34m(self, file, mode_int, closefd)\u001b[0m\n\u001b[1;32m   1200\u001b[0m                 \u001b[0;32melse\u001b[0m\u001b[0;34m:\u001b[0m\u001b[0;34m\u001b[0m\u001b[0;34m\u001b[0m\u001b[0m\n\u001b[1;32m   1201\u001b[0m                     \u001b[0mfile\u001b[0m \u001b[0;34m=\u001b[0m \u001b[0mfile\u001b[0m\u001b[0;34m.\u001b[0m\u001b[0mencode\u001b[0m\u001b[0;34m(\u001b[0m\u001b[0m_sys\u001b[0m\u001b[0;34m.\u001b[0m\u001b[0mgetfilesystemencoding\u001b[0m\u001b[0;34m(\u001b[0m\u001b[0;34m)\u001b[0m\u001b[0;34m)\u001b[0m\u001b[0;34m\u001b[0m\u001b[0;34m\u001b[0m\u001b[0m\n\u001b[0;32m-> 1202\u001b[0;31m             \u001b[0mfile_ptr\u001b[0m \u001b[0;34m=\u001b[0m \u001b[0mopenfunction\u001b[0m\u001b[0;34m(\u001b[0m\u001b[0mfile\u001b[0m\u001b[0;34m,\u001b[0m \u001b[0mmode_int\u001b[0m\u001b[0;34m,\u001b[0m \u001b[0mself\u001b[0m\u001b[0;34m.\u001b[0m\u001b[0m_info\u001b[0m\u001b[0;34m)\u001b[0m\u001b[0;34m\u001b[0m\u001b[0;34m\u001b[0m\u001b[0m\n\u001b[0m\u001b[1;32m   1203\u001b[0m         \u001b[0;32melif\u001b[0m \u001b[0misinstance\u001b[0m\u001b[0;34m(\u001b[0m\u001b[0mfile\u001b[0m\u001b[0;34m,\u001b[0m \u001b[0mint\u001b[0m\u001b[0;34m)\u001b[0m\u001b[0;34m:\u001b[0m\u001b[0;34m\u001b[0m\u001b[0;34m\u001b[0m\u001b[0m\n\u001b[1;32m   1204\u001b[0m             \u001b[0mfile_ptr\u001b[0m \u001b[0;34m=\u001b[0m \u001b[0m_snd\u001b[0m\u001b[0;34m.\u001b[0m\u001b[0msf_open_fd\u001b[0m\u001b[0;34m(\u001b[0m\u001b[0mfile\u001b[0m\u001b[0;34m,\u001b[0m \u001b[0mmode_int\u001b[0m\u001b[0;34m,\u001b[0m \u001b[0mself\u001b[0m\u001b[0;34m.\u001b[0m\u001b[0m_info\u001b[0m\u001b[0;34m,\u001b[0m \u001b[0mclosefd\u001b[0m\u001b[0;34m)\u001b[0m\u001b[0;34m\u001b[0m\u001b[0;34m\u001b[0m\u001b[0m\n",
            "\u001b[0;31mKeyboardInterrupt\u001b[0m: "
          ]
        }
      ],
      "source": [
        "import librosa\n",
        "from tqdm import tqdm\n",
        "### Now we iterate through every audio file and extract features\n",
        "### using Mel-Frequency Cepstral Coefficients\n",
        "audio_lengthes =[]\n",
        "audios = []\n",
        "for index_num,row in tqdm(metadata.iterrows()):\n",
        "    file_name = os.path.join('/content/drive/My Drive/DSL_Final_Project',str(row[\"path\"]))\n",
        "\n",
        "    audio, sample_rate = librosa.load(file_name, res_type='kaiser_best')\n",
        "    audios.append(audio)\n",
        "    labels = row[\"action\"]  + row[\"object\"]\n",
        "    audio_lengthes.append([len(audio), labels])"
      ]
    },
    {
      "cell_type": "markdown",
      "source": [
        "<h1> Preprocess </h1>"
      ],
      "metadata": {
        "id": "S8gQ6-q_yKmq"
      }
    },
    {
      "cell_type": "code",
      "execution_count": null,
      "metadata": {
        "id": "j8koKzbUhZXr"
      },
      "outputs": [],
      "source": [
        "audio_lengthes_df = pd.DataFrame(audio_lengthes)\n",
        "header = [\"length\",\"class\"]\n",
        "audio_lengthes_df.columns = header"
      ]
    },
    {
      "cell_type": "code",
      "execution_count": null,
      "metadata": {
        "colab": {
          "base_uri": "https://localhost:8080/",
          "height": 423
        },
        "id": "6TwqZ-lchqVy",
        "outputId": "fdc04707-3934-4051-f1b6-828a28b389e6"
      },
      "outputs": [
        {
          "output_type": "execute_result",
          "data": {
            "text/plain": [
              "      length                class\n",
              "0      40961  change languagenone\n",
              "1      30720        activatemusic\n",
              "2      43009     deactivatelights\n",
              "3      38912       increasevolume\n",
              "4      53248       increasevolume\n",
              "...      ...                  ...\n",
              "9849   60212       decreasevolume\n",
              "9850   58330     deactivatelights\n",
              "9851   58330     deactivatelights\n",
              "9852   50804     deactivatelights\n",
              "9853   62093       increasevolume\n",
              "\n",
              "[9854 rows x 2 columns]"
            ],
            "text/html": [
              "\n",
              "  <div id=\"df-6accc3b2-9d41-4111-bed4-c08defacf518\">\n",
              "    <div class=\"colab-df-container\">\n",
              "      <div>\n",
              "<style scoped>\n",
              "    .dataframe tbody tr th:only-of-type {\n",
              "        vertical-align: middle;\n",
              "    }\n",
              "\n",
              "    .dataframe tbody tr th {\n",
              "        vertical-align: top;\n",
              "    }\n",
              "\n",
              "    .dataframe thead th {\n",
              "        text-align: right;\n",
              "    }\n",
              "</style>\n",
              "<table border=\"1\" class=\"dataframe\">\n",
              "  <thead>\n",
              "    <tr style=\"text-align: right;\">\n",
              "      <th></th>\n",
              "      <th>length</th>\n",
              "      <th>class</th>\n",
              "    </tr>\n",
              "  </thead>\n",
              "  <tbody>\n",
              "    <tr>\n",
              "      <th>0</th>\n",
              "      <td>40961</td>\n",
              "      <td>change languagenone</td>\n",
              "    </tr>\n",
              "    <tr>\n",
              "      <th>1</th>\n",
              "      <td>30720</td>\n",
              "      <td>activatemusic</td>\n",
              "    </tr>\n",
              "    <tr>\n",
              "      <th>2</th>\n",
              "      <td>43009</td>\n",
              "      <td>deactivatelights</td>\n",
              "    </tr>\n",
              "    <tr>\n",
              "      <th>3</th>\n",
              "      <td>38912</td>\n",
              "      <td>increasevolume</td>\n",
              "    </tr>\n",
              "    <tr>\n",
              "      <th>4</th>\n",
              "      <td>53248</td>\n",
              "      <td>increasevolume</td>\n",
              "    </tr>\n",
              "    <tr>\n",
              "      <th>...</th>\n",
              "      <td>...</td>\n",
              "      <td>...</td>\n",
              "    </tr>\n",
              "    <tr>\n",
              "      <th>9849</th>\n",
              "      <td>60212</td>\n",
              "      <td>decreasevolume</td>\n",
              "    </tr>\n",
              "    <tr>\n",
              "      <th>9850</th>\n",
              "      <td>58330</td>\n",
              "      <td>deactivatelights</td>\n",
              "    </tr>\n",
              "    <tr>\n",
              "      <th>9851</th>\n",
              "      <td>58330</td>\n",
              "      <td>deactivatelights</td>\n",
              "    </tr>\n",
              "    <tr>\n",
              "      <th>9852</th>\n",
              "      <td>50804</td>\n",
              "      <td>deactivatelights</td>\n",
              "    </tr>\n",
              "    <tr>\n",
              "      <th>9853</th>\n",
              "      <td>62093</td>\n",
              "      <td>increasevolume</td>\n",
              "    </tr>\n",
              "  </tbody>\n",
              "</table>\n",
              "<p>9854 rows × 2 columns</p>\n",
              "</div>\n",
              "      <button class=\"colab-df-convert\" onclick=\"convertToInteractive('df-6accc3b2-9d41-4111-bed4-c08defacf518')\"\n",
              "              title=\"Convert this dataframe to an interactive table.\"\n",
              "              style=\"display:none;\">\n",
              "        \n",
              "  <svg xmlns=\"http://www.w3.org/2000/svg\" height=\"24px\"viewBox=\"0 0 24 24\"\n",
              "       width=\"24px\">\n",
              "    <path d=\"M0 0h24v24H0V0z\" fill=\"none\"/>\n",
              "    <path d=\"M18.56 5.44l.94 2.06.94-2.06 2.06-.94-2.06-.94-.94-2.06-.94 2.06-2.06.94zm-11 1L8.5 8.5l.94-2.06 2.06-.94-2.06-.94L8.5 2.5l-.94 2.06-2.06.94zm10 10l.94 2.06.94-2.06 2.06-.94-2.06-.94-.94-2.06-.94 2.06-2.06.94z\"/><path d=\"M17.41 7.96l-1.37-1.37c-.4-.4-.92-.59-1.43-.59-.52 0-1.04.2-1.43.59L10.3 9.45l-7.72 7.72c-.78.78-.78 2.05 0 2.83L4 21.41c.39.39.9.59 1.41.59.51 0 1.02-.2 1.41-.59l7.78-7.78 2.81-2.81c.8-.78.8-2.07 0-2.86zM5.41 20L4 18.59l7.72-7.72 1.47 1.35L5.41 20z\"/>\n",
              "  </svg>\n",
              "      </button>\n",
              "      \n",
              "  <style>\n",
              "    .colab-df-container {\n",
              "      display:flex;\n",
              "      flex-wrap:wrap;\n",
              "      gap: 12px;\n",
              "    }\n",
              "\n",
              "    .colab-df-convert {\n",
              "      background-color: #E8F0FE;\n",
              "      border: none;\n",
              "      border-radius: 50%;\n",
              "      cursor: pointer;\n",
              "      display: none;\n",
              "      fill: #1967D2;\n",
              "      height: 32px;\n",
              "      padding: 0 0 0 0;\n",
              "      width: 32px;\n",
              "    }\n",
              "\n",
              "    .colab-df-convert:hover {\n",
              "      background-color: #E2EBFA;\n",
              "      box-shadow: 0px 1px 2px rgba(60, 64, 67, 0.3), 0px 1px 3px 1px rgba(60, 64, 67, 0.15);\n",
              "      fill: #174EA6;\n",
              "    }\n",
              "\n",
              "    [theme=dark] .colab-df-convert {\n",
              "      background-color: #3B4455;\n",
              "      fill: #D2E3FC;\n",
              "    }\n",
              "\n",
              "    [theme=dark] .colab-df-convert:hover {\n",
              "      background-color: #434B5C;\n",
              "      box-shadow: 0px 1px 3px 1px rgba(0, 0, 0, 0.15);\n",
              "      filter: drop-shadow(0px 1px 2px rgba(0, 0, 0, 0.3));\n",
              "      fill: #FFFFFF;\n",
              "    }\n",
              "  </style>\n",
              "\n",
              "      <script>\n",
              "        const buttonEl =\n",
              "          document.querySelector('#df-6accc3b2-9d41-4111-bed4-c08defacf518 button.colab-df-convert');\n",
              "        buttonEl.style.display =\n",
              "          google.colab.kernel.accessAllowed ? 'block' : 'none';\n",
              "\n",
              "        async function convertToInteractive(key) {\n",
              "          const element = document.querySelector('#df-6accc3b2-9d41-4111-bed4-c08defacf518');\n",
              "          const dataTable =\n",
              "            await google.colab.kernel.invokeFunction('convertToInteractive',\n",
              "                                                     [key], {});\n",
              "          if (!dataTable) return;\n",
              "\n",
              "          const docLinkHtml = 'Like what you see? Visit the ' +\n",
              "            '<a target=\"_blank\" href=https://colab.research.google.com/notebooks/data_table.ipynb>data table notebook</a>'\n",
              "            + ' to learn more about interactive tables.';\n",
              "          element.innerHTML = '';\n",
              "          dataTable['output_type'] = 'display_data';\n",
              "          await google.colab.output.renderOutput(dataTable, element);\n",
              "          const docLink = document.createElement('div');\n",
              "          docLink.innerHTML = docLinkHtml;\n",
              "          element.appendChild(docLink);\n",
              "        }\n",
              "      </script>\n",
              "    </div>\n",
              "  </div>\n",
              "  "
            ]
          },
          "metadata": {},
          "execution_count": 8
        }
      ],
      "source": [
        "audio_lengthes_df"
      ]
    },
    {
      "cell_type": "code",
      "execution_count": null,
      "metadata": {
        "id": "j1H5UtH4hsZy"
      },
      "outputs": [],
      "source": [
        "grouped_df = audio_lengthes_df.groupby(\"class\")"
      ]
    },
    {
      "cell_type": "code",
      "execution_count": null,
      "metadata": {
        "colab": {
          "base_uri": "https://localhost:8080/"
        },
        "id": "pU5lXI9nhupy",
        "outputId": "df896c44-363f-4d5c-ecf6-e0f3f97b5b4b"
      },
      "outputs": [
        {
          "output_type": "stream",
          "name": "stdout",
          "text": [
            "      length          class\n",
            "1      30720  activatemusic\n",
            "12     32768  activatemusic\n",
            "13     28672  activatemusic\n",
            "14     30720  activatemusic\n",
            "63     38912  activatemusic\n",
            "...      ...            ...\n",
            "9818   36864  activatemusic\n",
            "9834   40961  activatemusic\n",
            "9835   36864  activatemusic\n",
            "9836   38912  activatemusic\n",
            "9848   58330  activatemusic\n",
            "\n",
            "[791 rows x 2 columns]\n",
            "activatemusic\n",
            "      length                class\n",
            "0      40961  change languagenone\n",
            "47     32768  change languagenone\n",
            "48     49153  change languagenone\n",
            "49     55296  change languagenone\n",
            "50     36864  change languagenone\n",
            "...      ...                  ...\n",
            "9815   40961  change languagenone\n",
            "9816   38912  change languagenone\n",
            "9817   30720  change languagenone\n",
            "9845   34816  change languagenone\n",
            "9847   52685  change languagenone\n",
            "\n",
            "[1113 rows x 2 columns]\n",
            "change languagenone\n",
            "      length             class\n",
            "2      43009  deactivatelights\n",
            "15     55296  deactivatelights\n",
            "52     40961  deactivatelights\n",
            "55    441000  deactivatelights\n",
            "56     51201  deactivatelights\n",
            "...      ...               ...\n",
            "9821   43009  deactivatelights\n",
            "9846   50804  deactivatelights\n",
            "9850   58330  deactivatelights\n",
            "9851   58330  deactivatelights\n",
            "9852   50804  deactivatelights\n",
            "\n",
            "[552 rows x 2 columns]\n",
            "deactivatelights\n",
            "      length         class\n",
            "8      47105  decreaseheat\n",
            "9      51201  decreaseheat\n",
            "10     51201  decreaseheat\n",
            "11     53248  decreaseheat\n",
            "44     34816  decreaseheat\n",
            "...      ...           ...\n",
            "9831   40961  decreaseheat\n",
            "9832  441000  decreaseheat\n",
            "9833  441000  decreaseheat\n",
            "9843   30720  decreaseheat\n",
            "9844   30720  decreaseheat\n",
            "\n",
            "[1189 rows x 2 columns]\n",
            "decreaseheat\n",
            "      length           class\n",
            "5      49153  decreasevolume\n",
            "26     47105  decreasevolume\n",
            "27     45057  decreasevolume\n",
            "28     45057  decreasevolume\n",
            "29     26624  decreasevolume\n",
            "...      ...             ...\n",
            "9825   38912  decreasevolume\n",
            "9839   34816  decreasevolume\n",
            "9840   32768  decreasevolume\n",
            "9841   32768  decreasevolume\n",
            "9849   60212  decreasevolume\n",
            "\n",
            "[2386 rows x 2 columns]\n",
            "decreasevolume\n",
            "      length         class\n",
            "6      43009  increaseheat\n",
            "7      45057  increaseheat\n",
            "38     49153  increaseheat\n",
            "39     49153  increaseheat\n",
            "40     63488  increaseheat\n",
            "...      ...           ...\n",
            "9826   40961  increaseheat\n",
            "9827   43009  increaseheat\n",
            "9828   36864  increaseheat\n",
            "9829  441000  increaseheat\n",
            "9842   24577  increaseheat\n",
            "\n",
            "[1209 rows x 2 columns]\n",
            "increaseheat\n",
            "      length           class\n",
            "3      38912  increasevolume\n",
            "4      53248  increasevolume\n",
            "16     38912  increasevolume\n",
            "17     34816  increasevolume\n",
            "18     32768  increasevolume\n",
            "...      ...             ...\n",
            "9822   36864  increasevolume\n",
            "9823   49153  increasevolume\n",
            "9837   38912  increasevolume\n",
            "9838   38912  increasevolume\n",
            "9853   62093  increasevolume\n",
            "\n",
            "[2614 rows x 2 columns]\n",
            "increasevolume\n"
          ]
        }
      ],
      "source": [
        "import matplotlib.pyplot as plt\n",
        "\n",
        "Content = []\n",
        "Class = []\n",
        "for length, classs in grouped_df:\n",
        "    print(classs)\n",
        "    print(length)\n",
        "    Class.append(classs)\n",
        "    Content.append(length)"
      ]
    },
    {
      "cell_type": "code",
      "execution_count": null,
      "metadata": {
        "colab": {
          "base_uri": "https://localhost:8080/",
          "height": 276
        },
        "id": "t31aR4Mlhxya",
        "outputId": "5185b672-52b2-46af-b524-88ebf546ca47"
      },
      "outputs": [
        {
          "output_type": "display_data",
          "data": {
            "text/plain": [
              "<Figure size 432x288 with 1 Axes>"
            ],
            "image/png": "[encoded data removed]"
          },
          "metadata": {
            "needs_background": "light"
          }
        }
      ],
      "source": [
        "for label in Content:\n",
        "    ih = grouped_df.get_group(label)\n",
        "    ih[\"length\"].plot(kind='kde')"
      ]
    },
    {
      "cell_type": "code",
      "execution_count": null,
      "metadata": {
        "colab": {
          "base_uri": "https://localhost:8080/"
        },
        "id": "2XItVKrmh1-a",
        "outputId": "94e3ae00-2987-4418-885e-7a9bf816123b"
      },
      "outputs": [
        {
          "output_type": "execute_result",
          "data": {
            "text/plain": [
              "['activatemusic',\n",
              " 'change languagenone',\n",
              " 'deactivatelights',\n",
              " 'decreaseheat',\n",
              " 'decreasevolume',\n",
              " 'increaseheat',\n",
              " 'increasevolume']"
            ]
          },
          "metadata": {},
          "execution_count": 12
        }
      ],
      "source": [
        "Content"
      ]
    },
    {
      "cell_type": "code",
      "execution_count": null,
      "metadata": {
        "colab": {
          "base_uri": "https://localhost:8080/"
        },
        "id": "uiCsJfMviGiC",
        "outputId": "38c98d41-5061-4d04-c46c-03f9cff00ad6"
      },
      "outputs": [
        {
          "output_type": "execute_result",
          "data": {
            "text/plain": [
              "0       40961\n",
              "1       30720\n",
              "2       43009\n",
              "3       38912\n",
              "4       53248\n",
              "        ...  \n",
              "9849    60212\n",
              "9850    58330\n",
              "9851    58330\n",
              "9852    50804\n",
              "9853    62093\n",
              "Name: length, Length: 9854, dtype: int64"
            ]
          },
          "metadata": {},
          "execution_count": 13
        }
      ],
      "source": [
        "audio_lengthes_df[\"length\"]"
      ]
    },
    {
      "cell_type": "code",
      "execution_count": null,
      "metadata": {
        "colab": {
          "base_uri": "https://localhost:8080/",
          "height": 265
        },
        "id": "jJCZ9rGIiGqi",
        "outputId": "e2fb5ea6-940e-46c7-91ab-47972f052788"
      },
      "outputs": [
        {
          "output_type": "display_data",
          "data": {
            "text/plain": [
              "<Figure size 432x288 with 1 Axes>"
            ],
            "image/png": "[encoded data removed]"
          },
          "metadata": {
            "needs_background": "light"
          }
        }
      ],
      "source": [
        "import matplotlib.pyplot as plt\n",
        "\n",
        "plt.hist(audio_lengthes_df[\"length\"], bins=5)\n",
        "plt.show()"
      ]
    },
    {
      "cell_type": "code",
      "execution_count": null,
      "metadata": {
        "colab": {
          "base_uri": "https://localhost:8080/"
        },
        "id": "haqtxSTMiGtr",
        "outputId": "bbdc7370-08dd-4ef8-c639-ba49acb87075"
      },
      "outputs": [
        {
          "output_type": "stream",
          "name": "stdout",
          "text": [
            "Outliers:  [86016, 86016, 108544, 441000, 441000, 83968, 102401, 86016, 441000, 441000, 441000, 441000, 82791, 84672, 441000, 441000, 86554, 441000, 441000, 441000, 441000, 95962, 77147, 441000, 79028, 77147, 92198, 441000, 441000, 441000, 441000, 441000, 178177, 441000, 79872, 94209, 86016, 441000, 94209, 441000, 83968, 81920, 441000, 79028, 80909, 441000, 84672, 441000, 441000, 441000, 80909, 441000, 441000, 79028, 441000, 80909, 441000, 441000, 441000, 441000, 80909, 441000, 441000, 441000, 441000, 441000, 441000, 441000, 441000, 77147, 88436, 441000, 441000, 441000, 83968, 441000, 441000, 441000, 441000, 441000, 441000, 441000, 441000, 441000, 441000, 441000, 441000, 441000, 79028, 441000, 441000, 80909, 79028, 441000, 441000, 441000, 101607, 441000, 441000, 441000, 441000, 441000, 441000, 441000, 441000, 441000, 441000, 441000, 95962, 441000, 83968, 79872, 79872, 441000, 441000, 143360, 441000, 81920, 81920, 98305, 441000, 441000, 441000, 83968, 159744, 441000, 441000, 441000, 441000, 441000, 441000, 441000, 77825, 86016, 86016, 77825, 441000, 441000, 441000, 441000, 441000, 88064, 77825, 79028, 107252, 441000, 90317, 97843, 86554, 92198, 86554, 127950, 79028, 82791, 84672, 86554, 150529, 79028, 84672, 77147, 441000, 441000, 86554, 77147, 79028, 90317, 86554, 112896, 79028, 86554, 80909, 79028, 82791, 79028, 82791, 80909, 79028, 82791, 90317, 92198, 79028, 84672, 77147, 80909, 82791, 80909, 90317, 441000, 441000, 90317, 441000, 441000, 146765, 109133, 441000, 441000, 441000, 441000, 88064, 441000, 77825, 441000, 441000, 441000, 441000, 441000, 441000, 77147, 77147, 84672, 79028, 95962, 77147, 79028, 84672, 84672, 77147, 84672, 97843, 99726, 80909, 88436, 90317, 107252, 441000, 86554, 79028, 441000, 441000, 441000, 77825, 81920, 86016, 441000, 141120, 441000, 441000, 94081, 441000, 441000, 441000, 441000, 77825, 79872, 441000, 79872, 441000, 441000, 441000, 441000, 441000, 441000, 441000, 441000, 441000, 441000, 441000, 441000, 441000, 441000, 92198, 441000, 441000, 79028, 88436, 97843, 441000, 441000, 441000, 441000, 441000, 80909, 82791, 441000, 80909, 101607, 441000, 77147, 86554, 441000, 441000, 77147, 84672, 77147, 99726, 97843, 441000, 441000, 441000, 441000, 77825, 441000, 80909, 77147, 82791, 441000, 441000, 441000, 80909, 92198, 441000, 86554, 101607, 82791, 441000, 441000, 441000, 441000, 441000, 79028, 441000, 441000, 441000, 97843, 441000, 441000, 441000, 94081, 79028, 79028, 97843, 441000, 79028, 90317, 97843, 79028, 77147, 88436, 441000, 163700, 79028, 80909, 99726, 79028, 77147, 82791, 291649, 95962, 441000, 84672, 441000, 86554, 441000, 77825, 441000, 90112, 81920, 441000, 441000, 441000, 81920, 441000, 441000, 77147, 441000, 441000, 441000, 441000, 86554, 120422, 441000, 80909, 88436, 441000, 88436, 86554, 441000, 79028, 441000, 77147, 199450, 80909, 92198, 105371, 441000, 441000, 441000, 441000, 441000, 197568, 97843, 111015, 118541, 77147, 441000, 86554, 99726, 86554, 77147, 79028, 79028, 82791, 97843, 86554, 80909, 80909, 79028, 80909, 79028, 92198, 86554, 441000, 77147, 84672, 111015, 114778, 127950, 84672, 79028, 90317, 79028, 94081, 109133, 82791, 441000, 441000, 79872, 96257, 106496, 86016, 104449, 77825, 441000, 441000, 94081, 101607, 116660, 90317, 99726, 77147, 77147, 441000, 86554, 101607, 101607, 77147, 80909, 441000, 441000, 441000, 441000, 441000, 441000, 441000, 441000, 441000, 441000, 441000, 441000, 441000, 441000, 441000, 441000, 441000, 441000, 441000, 86554, 77147, 88436, 80909, 441000, 441000, 441000, 90317, 441000, 441000, 441000, 441000, 441000, 441000, 441000, 441000, 82791, 99726, 80909, 441000, 441000, 441000, 77147, 441000, 441000, 441000, 441000, 441000, 441000, 441000, 77147, 441000, 441000, 441000, 441000, 441000, 441000, 441000, 441000, 441000, 441000, 441000, 86554, 441000, 441000, 441000, 441000, 441000, 441000, 441000, 441000, 441000, 441000, 441000, 441000, 441000, 441000, 441000, 90317, 441000, 80909, 441000, 441000, 92198, 441000, 441000, 441000, 441000, 86554, 95962, 441000, 441000, 441000, 441000, 441000, 441000, 441000, 441000, 441000, 441000, 441000, 90317, 441000, 441000, 441000, 441000, 441000, 441000, 441000, 441000, 86554, 441000, 441000, 441000, 441000, 441000, 441000, 79028, 441000, 86016, 441000, 441000, 441000]\n"
          ]
        }
      ],
      "source": [
        "import numpy as np\n",
        "# calculate quartiles\n",
        "quartile_1, quartile_3 = np.percentile(audio_lengthes_df[\"length\"], [25, 75])\n",
        "\n",
        "# calculate interquartile range\n",
        "iqr = quartile_3 - quartile_1\n",
        "\n",
        "# identify outliers\n",
        "outliers = []\n",
        "for i in audio_lengthes_df[\"length\"]:\n",
        "    if i < (quartile_1 - 1.5 * iqr) or i > (quartile_3 + 1.5 * iqr):\n",
        "        outliers.append(i)\n",
        "\n",
        "print(\"Outliers: \", outliers)"
      ]
    },
    {
      "cell_type": "code",
      "execution_count": null,
      "metadata": {
        "colab": {
          "base_uri": "https://localhost:8080/"
        },
        "id": "-tEtDwBniSK3",
        "outputId": "39eb2f56-e451-4818-f2cf-9e4c14928a87"
      },
      "outputs": [
        {
          "output_type": "stream",
          "name": "stdout",
          "text": [
            "76670.5\n"
          ]
        }
      ],
      "source": [
        "print(quartile_3 + 1.5 * iqr)\n"
      ]
    },
    {
      "cell_type": "code",
      "execution_count": null,
      "metadata": {
        "colab": {
          "base_uri": "https://localhost:8080/"
        },
        "id": "gOFUFNZNiGwZ",
        "outputId": "ddfaec4f-6611-4a34-9b30-682947b1f97f"
      },
      "outputs": [
        {
          "output_type": "execute_result",
          "data": {
            "text/plain": [
              "0       False\n",
              "1       False\n",
              "2       False\n",
              "3       False\n",
              "4       False\n",
              "        ...  \n",
              "9849    False\n",
              "9850    False\n",
              "9851    False\n",
              "9852    False\n",
              "9853    False\n",
              "Name: length, Length: 9854, dtype: bool"
            ]
          },
          "metadata": {},
          "execution_count": 17
        }
      ],
      "source": [
        "outlier_mask = audio_lengthes_df[\"length\"]>76670\n",
        "outlier_mask"
      ]
    },
    {
      "cell_type": "code",
      "execution_count": null,
      "metadata": {
        "colab": {
          "base_uri": "https://localhost:8080/"
        },
        "id": "WOnHyhtZmn1p",
        "outputId": "96437cc6-25b5-4c91-9a13-e8a8bffcaa25"
      },
      "outputs": [
        {
          "output_type": "execute_result",
          "data": {
            "text/plain": [
              "pandas.core.frame.DataFrame"
            ]
          },
          "metadata": {},
          "execution_count": 18
        }
      ],
      "source": [
        "outlier_mask_df =pd.DataFrame(outlier_mask)\n",
        "type(outlier_mask_df)"
      ]
    },
    {
      "cell_type": "code",
      "execution_count": null,
      "metadata": {
        "colab": {
          "base_uri": "https://localhost:8080/"
        },
        "id": "fuPfXWuis0ig",
        "outputId": "d1ac9419-1924-40de-cedb-f058f846a1e9"
      },
      "outputs": [
        {
          "output_type": "execute_result",
          "data": {
            "text/plain": [
              "<bound method NDFrame.head of       length\n",
              "0      False\n",
              "1      False\n",
              "2      False\n",
              "3      False\n",
              "4      False\n",
              "...      ...\n",
              "9849   False\n",
              "9850   False\n",
              "9851   False\n",
              "9852   False\n",
              "9853   False\n",
              "\n",
              "[9854 rows x 1 columns]>"
            ]
          },
          "metadata": {},
          "execution_count": 19
        }
      ],
      "source": [
        "outlier_mask_df.head"
      ]
    },
    {
      "cell_type": "code",
      "execution_count": null,
      "metadata": {
        "id": "qjHfS2qTrgEZ"
      },
      "outputs": [],
      "source": [
        "\n",
        "import csv\n",
        "filename = \"outlier_mask.csv\"\n",
        "with open(filename, 'w', newline='') as csvfile:\n",
        "    # Creating a CSV writer object\n",
        "    csvwriter = csv.writer(csvfile)\n",
        "\n",
        "    # Writing the column headers and data rows\n",
        "    csvwriter.writerows(outlier_mask_df)"
      ]
    },
    {
      "cell_type": "code",
      "execution_count": null,
      "metadata": {
        "colab": {
          "base_uri": "https://localhost:8080/"
        },
        "id": "bKHHi7hmiGzN",
        "outputId": "322ecb70-0451-475f-c7bf-b18fd8a298a2"
      },
      "outputs": [
        {
          "output_type": "execute_result",
          "data": {
            "text/plain": [
              "(9295, 10)"
            ]
          },
          "metadata": {},
          "execution_count": 20
        }
      ],
      "source": [
        "dff = metadata\n",
        "dff.drop(dff[outlier_mask].index, inplace=True)\n",
        "dff.shape"
      ]
    },
    {
      "cell_type": "code",
      "execution_count": null,
      "metadata": {
        "colab": {
          "base_uri": "https://localhost:8080/",
          "height": 1000
        },
        "id": "K_D_uwbcixRi",
        "outputId": "ab6de678-140c-4c3d-fcd4-b1cc6de5d08f"
      },
      "outputs": [
        {
          "output_type": "execute_result",
          "data": {
            "text/plain": [
              "    Id                                               path         speakerId  \\\n",
              "0    0  dsl_data/audio/speakers/2BqVo8kVB2Skwgyb/0a312...  2BqVo8kVB2Skwgyb   \n",
              "1    1  dsl_data/audio/speakers/2BqVo8kVB2Skwgyb/0ee42...  2BqVo8kVB2Skwgyb   \n",
              "2    2  dsl_data/audio/speakers/2BqVo8kVB2Skwgyb/1d9f3...  2BqVo8kVB2Skwgyb   \n",
              "3    3  dsl_data/audio/speakers/2BqVo8kVB2Skwgyb/269fc...  2BqVo8kVB2Skwgyb   \n",
              "4    4  dsl_data/audio/speakers/2BqVo8kVB2Skwgyb/5bbda...  2BqVo8kVB2Skwgyb   \n",
              "5    5  dsl_data/audio/speakers/2BqVo8kVB2Skwgyb/6436a...  2BqVo8kVB2Skwgyb   \n",
              "6    6  dsl_data/audio/speakers/2BqVo8kVB2Skwgyb/6a1cd...  2BqVo8kVB2Skwgyb   \n",
              "7    7  dsl_data/audio/speakers/2BqVo8kVB2Skwgyb/72160...  2BqVo8kVB2Skwgyb   \n",
              "8    8  dsl_data/audio/speakers/2BqVo8kVB2Skwgyb/74d26...  2BqVo8kVB2Skwgyb   \n",
              "9    9  dsl_data/audio/speakers/2BqVo8kVB2Skwgyb/77cb5...  2BqVo8kVB2Skwgyb   \n",
              "10  10  dsl_data/audio/speakers/2BqVo8kVB2Skwgyb/7aab1...  2BqVo8kVB2Skwgyb   \n",
              "11  11  dsl_data/audio/speakers/2BqVo8kVB2Skwgyb/7d87b...  2BqVo8kVB2Skwgyb   \n",
              "12  12  dsl_data/audio/speakers/2BqVo8kVB2Skwgyb/870ef...  2BqVo8kVB2Skwgyb   \n",
              "13  13  dsl_data/audio/speakers/2BqVo8kVB2Skwgyb/892a8...  2BqVo8kVB2Skwgyb   \n",
              "14  14  dsl_data/audio/speakers/2BqVo8kVB2Skwgyb/8b443...  2BqVo8kVB2Skwgyb   \n",
              "15  15  dsl_data/audio/speakers/2BqVo8kVB2Skwgyb/ecdad...  2BqVo8kVB2Skwgyb   \n",
              "16  16  dsl_data/audio/speakers/2BqVo8kVB2Skwgyb/256b2...  2BqVo8kVB2Skwgyb   \n",
              "17  17  dsl_data/audio/speakers/2BqVo8kVB2Skwgyb/2bf9e...  2BqVo8kVB2Skwgyb   \n",
              "18  18  dsl_data/audio/speakers/2BqVo8kVB2Skwgyb/2e4b5...  2BqVo8kVB2Skwgyb   \n",
              "19  19  dsl_data/audio/speakers/2BqVo8kVB2Skwgyb/30e3d...  2BqVo8kVB2Skwgyb   \n",
              "20  20  dsl_data/audio/speakers/2BqVo8kVB2Skwgyb/33a69...  2BqVo8kVB2Skwgyb   \n",
              "21  21  dsl_data/audio/speakers/2BqVo8kVB2Skwgyb/35fdd...  2BqVo8kVB2Skwgyb   \n",
              "22  22  dsl_data/audio/speakers/2BqVo8kVB2Skwgyb/3acc7...  2BqVo8kVB2Skwgyb   \n",
              "26  26  dsl_data/audio/speakers/2BqVo8kVB2Skwgyb/5fa28...  2BqVo8kVB2Skwgyb   \n",
              "27  27  dsl_data/audio/speakers/2BqVo8kVB2Skwgyb/623cb...  2BqVo8kVB2Skwgyb   \n",
              "28  28  dsl_data/audio/speakers/2BqVo8kVB2Skwgyb/64d89...  2BqVo8kVB2Skwgyb   \n",
              "29  29  dsl_data/audio/speakers/2BqVo8kVB2Skwgyb/69445...  2BqVo8kVB2Skwgyb   \n",
              "30  30  dsl_data/audio/speakers/2BqVo8kVB2Skwgyb/6bfc4...  2BqVo8kVB2Skwgyb   \n",
              "31  31  dsl_data/audio/speakers/2BqVo8kVB2Skwgyb/6ece8...  2BqVo8kVB2Skwgyb   \n",
              "32  32  dsl_data/audio/speakers/2BqVo8kVB2Skwgyb/769cf...  2BqVo8kVB2Skwgyb   \n",
              "33  33  dsl_data/audio/speakers/2BqVo8kVB2Skwgyb/78895...  2BqVo8kVB2Skwgyb   \n",
              "34  34  dsl_data/audio/speakers/2BqVo8kVB2Skwgyb/7ad87...  2BqVo8kVB2Skwgyb   \n",
              "35  35  dsl_data/audio/speakers/2BqVo8kVB2Skwgyb/7d5d7...  2BqVo8kVB2Skwgyb   \n",
              "37  37  dsl_data/audio/speakers/2BqVo8kVB2Skwgyb/894c6...  2BqVo8kVB2Skwgyb   \n",
              "38  38  dsl_data/audio/speakers/2BqVo8kVB2Skwgyb/8c300...  2BqVo8kVB2Skwgyb   \n",
              "39  39  dsl_data/audio/speakers/2BqVo8kVB2Skwgyb/8f0c4...  2BqVo8kVB2Skwgyb   \n",
              "40  40  dsl_data/audio/speakers/2BqVo8kVB2Skwgyb/96357...  2BqVo8kVB2Skwgyb   \n",
              "41  41  dsl_data/audio/speakers/2BqVo8kVB2Skwgyb/98c88...  2BqVo8kVB2Skwgyb   \n",
              "42  42  dsl_data/audio/speakers/2BqVo8kVB2Skwgyb/9ae5e...  2BqVo8kVB2Skwgyb   \n",
              "43  43  dsl_data/audio/speakers/2BqVo8kVB2Skwgyb/9da79...  2BqVo8kVB2Skwgyb   \n",
              "\n",
              "             action  object Self-reported fluency level   \\\n",
              "0   change language    none                     advanced   \n",
              "1          activate   music                     advanced   \n",
              "2        deactivate  lights                     advanced   \n",
              "3          increase  volume                     advanced   \n",
              "4          increase  volume                     advanced   \n",
              "5          decrease  volume                     advanced   \n",
              "6          increase    heat                     advanced   \n",
              "7          increase    heat                     advanced   \n",
              "8          decrease    heat                     advanced   \n",
              "9          decrease    heat                     advanced   \n",
              "10         decrease    heat                     advanced   \n",
              "11         decrease    heat                     advanced   \n",
              "12         activate   music                     advanced   \n",
              "13         activate   music                     advanced   \n",
              "14         activate   music                     advanced   \n",
              "15       deactivate  lights                     advanced   \n",
              "16         increase  volume                     advanced   \n",
              "17         increase  volume                     advanced   \n",
              "18         increase  volume                     advanced   \n",
              "19         increase  volume                     advanced   \n",
              "20         increase  volume                     advanced   \n",
              "21         increase  volume                     advanced   \n",
              "22         increase  volume                     advanced   \n",
              "26         decrease  volume                     advanced   \n",
              "27         decrease  volume                     advanced   \n",
              "28         decrease  volume                     advanced   \n",
              "29         decrease  volume                     advanced   \n",
              "30         decrease  volume                     advanced   \n",
              "31         decrease  volume                     advanced   \n",
              "32         decrease  volume                     advanced   \n",
              "33         decrease  volume                     advanced   \n",
              "34         decrease  volume                     advanced   \n",
              "35         decrease  volume                     advanced   \n",
              "37         decrease  volume                     advanced   \n",
              "38         increase    heat                     advanced   \n",
              "39         increase    heat                     advanced   \n",
              "40         increase    heat                     advanced   \n",
              "41         increase    heat                     advanced   \n",
              "42         increase    heat                     advanced   \n",
              "43         increase    heat                     advanced   \n",
              "\n",
              "      First Language spoken Current language used for work/school  gender  \\\n",
              "0   English (United States)               English (United States)  female   \n",
              "1   English (United States)               English (United States)  female   \n",
              "2   English (United States)               English (United States)  female   \n",
              "3   English (United States)               English (United States)  female   \n",
              "4   English (United States)               English (United States)  female   \n",
              "5   English (United States)               English (United States)  female   \n",
              "6   English (United States)               English (United States)  female   \n",
              "7   English (United States)               English (United States)  female   \n",
              "8   English (United States)               English (United States)  female   \n",
              "9   English (United States)               English (United States)  female   \n",
              "10  English (United States)               English (United States)  female   \n",
              "11  English (United States)               English (United States)  female   \n",
              "12  English (United States)               English (United States)  female   \n",
              "13  English (United States)               English (United States)  female   \n",
              "14  English (United States)               English (United States)  female   \n",
              "15  English (United States)               English (United States)  female   \n",
              "16  English (United States)               English (United States)  female   \n",
              "17  English (United States)               English (United States)  female   \n",
              "18  English (United States)               English (United States)  female   \n",
              "19  English (United States)               English (United States)  female   \n",
              "20  English (United States)               English (United States)  female   \n",
              "21  English (United States)               English (United States)  female   \n",
              "22  English (United States)               English (United States)  female   \n",
              "26  English (United States)               English (United States)  female   \n",
              "27  English (United States)               English (United States)  female   \n",
              "28  English (United States)               English (United States)  female   \n",
              "29  English (United States)               English (United States)  female   \n",
              "30  English (United States)               English (United States)  female   \n",
              "31  English (United States)               English (United States)  female   \n",
              "32  English (United States)               English (United States)  female   \n",
              "33  English (United States)               English (United States)  female   \n",
              "34  English (United States)               English (United States)  female   \n",
              "35  English (United States)               English (United States)  female   \n",
              "37  English (United States)               English (United States)  female   \n",
              "38  English (United States)               English (United States)  female   \n",
              "39  English (United States)               English (United States)  female   \n",
              "40  English (United States)               English (United States)  female   \n",
              "41  English (United States)               English (United States)  female   \n",
              "42  English (United States)               English (United States)  female   \n",
              "43  English (United States)               English (United States)  female   \n",
              "\n",
              "   ageRange  \n",
              "0     22-40  \n",
              "1     22-40  \n",
              "2     22-40  \n",
              "3     22-40  \n",
              "4     22-40  \n",
              "5     22-40  \n",
              "6     22-40  \n",
              "7     22-40  \n",
              "8     22-40  \n",
              "9     22-40  \n",
              "10    22-40  \n",
              "11    22-40  \n",
              "12    22-40  \n",
              "13    22-40  \n",
              "14    22-40  \n",
              "15    22-40  \n",
              "16    22-40  \n",
              "17    22-40  \n",
              "18    22-40  \n",
              "19    22-40  \n",
              "20    22-40  \n",
              "21    22-40  \n",
              "22    22-40  \n",
              "26    22-40  \n",
              "27    22-40  \n",
              "28    22-40  \n",
              "29    22-40  \n",
              "30    22-40  \n",
              "31    22-40  \n",
              "32    22-40  \n",
              "33    22-40  \n",
              "34    22-40  \n",
              "35    22-40  \n",
              "37    22-40  \n",
              "38    22-40  \n",
              "39    22-40  \n",
              "40    22-40  \n",
              "41    22-40  \n",
              "42    22-40  \n",
              "43    22-40  "
            ],
            "text/html": [
              "\n",
              "  <div id=\"df-fb5737fb-b6ad-475e-a8e0-911e56a32910\">\n",
              "    <div class=\"colab-df-container\">\n",
              "      <div>\n",
              "<style scoped>\n",
              "    .dataframe tbody tr th:only-of-type {\n",
              "        vertical-align: middle;\n",
              "    }\n",
              "\n",
              "    .dataframe tbody tr th {\n",
              "        vertical-align: top;\n",
              "    }\n",
              "\n",
              "    .dataframe thead th {\n",
              "        text-align: right;\n",
              "    }\n",
              "</style>\n",
              "<table border=\"1\" class=\"dataframe\">\n",
              "  <thead>\n",
              "    <tr style=\"text-align: right;\">\n",
              "      <th></th>\n",
              "      <th>Id</th>\n",
              "      <th>path</th>\n",
              "      <th>speakerId</th>\n",
              "      <th>action</th>\n",
              "      <th>object</th>\n",
              "      <th>Self-reported fluency level</th>\n",
              "      <th>First Language spoken</th>\n",
              "      <th>Current language used for work/school</th>\n",
              "      <th>gender</th>\n",
              "      <th>ageRange</th>\n",
              "    </tr>\n",
              "  </thead>\n",
              "  <tbody>\n",
              "    <tr>\n",
              "      <th>0</th>\n",
              "      <td>0</td>\n",
              "      <td>dsl_data/audio/speakers/2BqVo8kVB2Skwgyb/0a312...</td>\n",
              "      <td>2BqVo8kVB2Skwgyb</td>\n",
              "      <td>change language</td>\n",
              "      <td>none</td>\n",
              "      <td>advanced</td>\n",
              "      <td>English (United States)</td>\n",
              "      <td>English (United States)</td>\n",
              "      <td>female</td>\n",
              "      <td>22-40</td>\n",
              "    </tr>\n",
              "    <tr>\n",
              "      <th>1</th>\n",
              "      <td>1</td>\n",
              "      <td>dsl_data/audio/speakers/2BqVo8kVB2Skwgyb/0ee42...</td>\n",
              "      <td>2BqVo8kVB2Skwgyb</td>\n",
              "      <td>activate</td>\n",
              "      <td>music</td>\n",
              "      <td>advanced</td>\n",
              "      <td>English (United States)</td>\n",
              "      <td>English (United States)</td>\n",
              "      <td>female</td>\n",
              "      <td>22-40</td>\n",
              "    </tr>\n",
              "    <tr>\n",
              "      <th>2</th>\n",
              "      <td>2</td>\n",
              "      <td>dsl_data/audio/speakers/2BqVo8kVB2Skwgyb/1d9f3...</td>\n",
              "      <td>2BqVo8kVB2Skwgyb</td>\n",
              "      <td>deactivate</td>\n",
              "      <td>lights</td>\n",
              "      <td>advanced</td>\n",
              "      <td>English (United States)</td>\n",
              "      <td>English (United States)</td>\n",
              "      <td>female</td>\n",
              "      <td>22-40</td>\n",
              "    </tr>\n",
              "    <tr>\n",
              "      <th>3</th>\n",
              "      <td>3</td>\n",
              "      <td>dsl_data/audio/speakers/2BqVo8kVB2Skwgyb/269fc...</td>\n",
              "      <td>2BqVo8kVB2Skwgyb</td>\n",
              "      <td>increase</td>\n",
              "      <td>volume</td>\n",
              "      <td>advanced</td>\n",
              "      <td>English (United States)</td>\n",
              "      <td>English (United States)</td>\n",
              "      <td>female</td>\n",
              "      <td>22-40</td>\n",
              "    </tr>\n",
              "    <tr>\n",
              "      <th>4</th>\n",
              "      <td>4</td>\n",
              "      <td>dsl_data/audio/speakers/2BqVo8kVB2Skwgyb/5bbda...</td>\n",
              "      <td>2BqVo8kVB2Skwgyb</td>\n",
              "      <td>increase</td>\n",
              "      <td>volume</td>\n",
              "      <td>advanced</td>\n",
              "      <td>English (United States)</td>\n",
              "      <td>English (United States)</td>\n",
              "      <td>female</td>\n",
              "      <td>22-40</td>\n",
              "    </tr>\n",
              "    <tr>\n",
              "      <th>5</th>\n",
              "      <td>5</td>\n",
              "      <td>dsl_data/audio/speakers/2BqVo8kVB2Skwgyb/6436a...</td>\n",
              "      <td>2BqVo8kVB2Skwgyb</td>\n",
              "      <td>decrease</td>\n",
              "      <td>volume</td>\n",
              "      <td>advanced</td>\n",
              "      <td>English (United States)</td>\n",
              "      <td>English (United States)</td>\n",
              "      <td>female</td>\n",
              "      <td>22-40</td>\n",
              "    </tr>\n",
              "    <tr>\n",
              "      <th>6</th>\n",
              "      <td>6</td>\n",
              "      <td>dsl_data/audio/speakers/2BqVo8kVB2Skwgyb/6a1cd...</td>\n",
              "      <td>2BqVo8kVB2Skwgyb</td>\n",
              "      <td>increase</td>\n",
              "      <td>heat</td>\n",
              "      <td>advanced</td>\n",
              "      <td>English (United States)</td>\n",
              "      <td>English (United States)</td>\n",
              "      <td>female</td>\n",
              "      <td>22-40</td>\n",
              "    </tr>\n",
              "    <tr>\n",
              "      <th>7</th>\n",
              "      <td>7</td>\n",
              "      <td>dsl_data/audio/speakers/2BqVo8kVB2Skwgyb/72160...</td>\n",
              "      <td>2BqVo8kVB2Skwgyb</td>\n",
              "      <td>increase</td>\n",
              "      <td>heat</td>\n",
              "      <td>advanced</td>\n",
              "      <td>English (United States)</td>\n",
              "      <td>English (United States)</td>\n",
              "      <td>female</td>\n",
              "      <td>22-40</td>\n",
              "    </tr>\n",
              "    <tr>\n",
              "      <th>8</th>\n",
              "      <td>8</td>\n",
              "      <td>dsl_data/audio/speakers/2BqVo8kVB2Skwgyb/74d26...</td>\n",
              "      <td>2BqVo8kVB2Skwgyb</td>\n",
              "      <td>decrease</td>\n",
              "      <td>heat</td>\n",
              "      <td>advanced</td>\n",
              "      <td>English (United States)</td>\n",
              "      <td>English (United States)</td>\n",
              "      <td>female</td>\n",
              "      <td>22-40</td>\n",
              "    </tr>\n",
              "    <tr>\n",
              "      <th>9</th>\n",
              "      <td>9</td>\n",
              "      <td>dsl_data/audio/speakers/2BqVo8kVB2Skwgyb/77cb5...</td>\n",
              "      <td>2BqVo8kVB2Skwgyb</td>\n",
              "      <td>decrease</td>\n",
              "      <td>heat</td>\n",
              "      <td>advanced</td>\n",
              "      <td>English (United States)</td>\n",
              "      <td>English (United States)</td>\n",
              "      <td>female</td>\n",
              "      <td>22-40</td>\n",
              "    </tr>\n",
              "    <tr>\n",
              "      <th>10</th>\n",
              "      <td>10</td>\n",
              "      <td>dsl_data/audio/speakers/2BqVo8kVB2Skwgyb/7aab1...</td>\n",
              "      <td>2BqVo8kVB2Skwgyb</td>\n",
              "      <td>decrease</td>\n",
              "      <td>heat</td>\n",
              "      <td>advanced</td>\n",
              "      <td>English (United States)</td>\n",
              "      <td>English (United States)</td>\n",
              "      <td>female</td>\n",
              "      <td>22-40</td>\n",
              "    </tr>\n",
              "    <tr>\n",
              "      <th>11</th>\n",
              "      <td>11</td>\n",
              "      <td>dsl_data/audio/speakers/2BqVo8kVB2Skwgyb/7d87b...</td>\n",
              "      <td>2BqVo8kVB2Skwgyb</td>\n",
              "      <td>decrease</td>\n",
              "      <td>heat</td>\n",
              "      <td>advanced</td>\n",
              "      <td>English (United States)</td>\n",
              "      <td>English (United States)</td>\n",
              "      <td>female</td>\n",
              "      <td>22-40</td>\n",
              "    </tr>\n",
              "    <tr>\n",
              "      <th>12</th>\n",
              "      <td>12</td>\n",
              "      <td>dsl_data/audio/speakers/2BqVo8kVB2Skwgyb/870ef...</td>\n",
              "      <td>2BqVo8kVB2Skwgyb</td>\n",
              "      <td>activate</td>\n",
              "      <td>music</td>\n",
              "      <td>advanced</td>\n",
              "      <td>English (United States)</td>\n",
              "      <td>English (United States)</td>\n",
              "      <td>female</td>\n",
              "      <td>22-40</td>\n",
              "    </tr>\n",
              "    <tr>\n",
              "      <th>13</th>\n",
              "      <td>13</td>\n",
              "      <td>dsl_data/audio/speakers/2BqVo8kVB2Skwgyb/892a8...</td>\n",
              "      <td>2BqVo8kVB2Skwgyb</td>\n",
              "      <td>activate</td>\n",
              "      <td>music</td>\n",
              "      <td>advanced</td>\n",
              "      <td>English (United States)</td>\n",
              "      <td>English (United States)</td>\n",
              "      <td>female</td>\n",
              "      <td>22-40</td>\n",
              "    </tr>\n",
              "    <tr>\n",
              "      <th>14</th>\n",
              "      <td>14</td>\n",
              "      <td>dsl_data/audio/speakers/2BqVo8kVB2Skwgyb/8b443...</td>\n",
              "      <td>2BqVo8kVB2Skwgyb</td>\n",
              "      <td>activate</td>\n",
              "      <td>music</td>\n",
              "      <td>advanced</td>\n",
              "      <td>English (United States)</td>\n",
              "      <td>English (United States)</td>\n",
              "      <td>female</td>\n",
              "      <td>22-40</td>\n",
              "    </tr>\n",
              "    <tr>\n",
              "      <th>15</th>\n",
              "      <td>15</td>\n",
              "      <td>dsl_data/audio/speakers/2BqVo8kVB2Skwgyb/ecdad...</td>\n",
              "      <td>2BqVo8kVB2Skwgyb</td>\n",
              "      <td>deactivate</td>\n",
              "      <td>lights</td>\n",
              "      <td>advanced</td>\n",
              "      <td>English (United States)</td>\n",
              "      <td>English (United States)</td>\n",
              "      <td>female</td>\n",
              "      <td>22-40</td>\n",
              "    </tr>\n",
              "    <tr>\n",
              "      <th>16</th>\n",
              "      <td>16</td>\n",
              "      <td>dsl_data/audio/speakers/2BqVo8kVB2Skwgyb/256b2...</td>\n",
              "      <td>2BqVo8kVB2Skwgyb</td>\n",
              "      <td>increase</td>\n",
              "      <td>volume</td>\n",
              "      <td>advanced</td>\n",
              "      <td>English (United States)</td>\n",
              "      <td>English (United States)</td>\n",
              "      <td>female</td>\n",
              "      <td>22-40</td>\n",
              "    </tr>\n",
              "    <tr>\n",
              "      <th>17</th>\n",
              "      <td>17</td>\n",
              "      <td>dsl_data/audio/speakers/2BqVo8kVB2Skwgyb/2bf9e...</td>\n",
              "      <td>2BqVo8kVB2Skwgyb</td>\n",
              "      <td>increase</td>\n",
              "      <td>volume</td>\n",
              "      <td>advanced</td>\n",
              "      <td>English (United States)</td>\n",
              "      <td>English (United States)</td>\n",
              "      <td>female</td>\n",
              "      <td>22-40</td>\n",
              "    </tr>\n",
              "    <tr>\n",
              "      <th>18</th>\n",
              "      <td>18</td>\n",
              "      <td>dsl_data/audio/speakers/2BqVo8kVB2Skwgyb/2e4b5...</td>\n",
              "      <td>2BqVo8kVB2Skwgyb</td>\n",
              "      <td>increase</td>\n",
              "      <td>volume</td>\n",
              "      <td>advanced</td>\n",
              "      <td>English (United States)</td>\n",
              "      <td>English (United States)</td>\n",
              "      <td>female</td>\n",
              "      <td>22-40</td>\n",
              "    </tr>\n",
              "    <tr>\n",
              "      <th>19</th>\n",
              "      <td>19</td>\n",
              "      <td>dsl_data/audio/speakers/2BqVo8kVB2Skwgyb/30e3d...</td>\n",
              "      <td>2BqVo8kVB2Skwgyb</td>\n",
              "      <td>increase</td>\n",
              "      <td>volume</td>\n",
              "      <td>advanced</td>\n",
              "      <td>English (United States)</td>\n",
              "      <td>English (United States)</td>\n",
              "      <td>female</td>\n",
              "      <td>22-40</td>\n",
              "    </tr>\n",
              "    <tr>\n",
              "      <th>20</th>\n",
              "      <td>20</td>\n",
              "      <td>dsl_data/audio/speakers/2BqVo8kVB2Skwgyb/33a69...</td>\n",
              "      <td>2BqVo8kVB2Skwgyb</td>\n",
              "      <td>increase</td>\n",
              "      <td>volume</td>\n",
              "      <td>advanced</td>\n",
              "      <td>English (United States)</td>\n",
              "      <td>English (United States)</td>\n",
              "      <td>female</td>\n",
              "      <td>22-40</td>\n",
              "    </tr>\n",
              "    <tr>\n",
              "      <th>21</th>\n",
              "      <td>21</td>\n",
              "      <td>dsl_data/audio/speakers/2BqVo8kVB2Skwgyb/35fdd...</td>\n",
              "      <td>2BqVo8kVB2Skwgyb</td>\n",
              "      <td>increase</td>\n",
              "      <td>volume</td>\n",
              "      <td>advanced</td>\n",
              "      <td>English (United States)</td>\n",
              "      <td>English (United States)</td>\n",
              "      <td>female</td>\n",
              "      <td>22-40</td>\n",
              "    </tr>\n",
              "    <tr>\n",
              "      <th>22</th>\n",
              "      <td>22</td>\n",
              "      <td>dsl_data/audio/speakers/2BqVo8kVB2Skwgyb/3acc7...</td>\n",
              "      <td>2BqVo8kVB2Skwgyb</td>\n",
              "      <td>increase</td>\n",
              "      <td>volume</td>\n",
              "      <td>advanced</td>\n",
              "      <td>English (United States)</td>\n",
              "      <td>English (United States)</td>\n",
              "      <td>female</td>\n",
              "      <td>22-40</td>\n",
              "    </tr>\n",
              "    <tr>\n",
              "      <th>26</th>\n",
              "      <td>26</td>\n",
              "      <td>dsl_data/audio/speakers/2BqVo8kVB2Skwgyb/5fa28...</td>\n",
              "      <td>2BqVo8kVB2Skwgyb</td>\n",
              "      <td>decrease</td>\n",
              "      <td>volume</td>\n",
              "      <td>advanced</td>\n",
              "      <td>English (United States)</td>\n",
              "      <td>English (United States)</td>\n",
              "      <td>female</td>\n",
              "      <td>22-40</td>\n",
              "    </tr>\n",
              "    <tr>\n",
              "      <th>27</th>\n",
              "      <td>27</td>\n",
              "      <td>dsl_data/audio/speakers/2BqVo8kVB2Skwgyb/623cb...</td>\n",
              "      <td>2BqVo8kVB2Skwgyb</td>\n",
              "      <td>decrease</td>\n",
              "      <td>volume</td>\n",
              "      <td>advanced</td>\n",
              "      <td>English (United States)</td>\n",
              "      <td>English (United States)</td>\n",
              "      <td>female</td>\n",
              "      <td>22-40</td>\n",
              "    </tr>\n",
              "    <tr>\n",
              "      <th>28</th>\n",
              "      <td>28</td>\n",
              "      <td>dsl_data/audio/speakers/2BqVo8kVB2Skwgyb/64d89...</td>\n",
              "      <td>2BqVo8kVB2Skwgyb</td>\n",
              "      <td>decrease</td>\n",
              "      <td>volume</td>\n",
              "      <td>advanced</td>\n",
              "      <td>English (United States)</td>\n",
              "      <td>English (United States)</td>\n",
              "      <td>female</td>\n",
              "      <td>22-40</td>\n",
              "    </tr>\n",
              "    <tr>\n",
              "      <th>29</th>\n",
              "      <td>29</td>\n",
              "      <td>dsl_data/audio/speakers/2BqVo8kVB2Skwgyb/69445...</td>\n",
              "      <td>2BqVo8kVB2Skwgyb</td>\n",
              "      <td>decrease</td>\n",
              "      <td>volume</td>\n",
              "      <td>advanced</td>\n",
              "      <td>English (United States)</td>\n",
              "      <td>English (United States)</td>\n",
              "      <td>female</td>\n",
              "      <td>22-40</td>\n",
              "    </tr>\n",
              "    <tr>\n",
              "      <th>30</th>\n",
              "      <td>30</td>\n",
              "      <td>dsl_data/audio/speakers/2BqVo8kVB2Skwgyb/6bfc4...</td>\n",
              "      <td>2BqVo8kVB2Skwgyb</td>\n",
              "      <td>decrease</td>\n",
              "      <td>volume</td>\n",
              "      <td>advanced</td>\n",
              "      <td>English (United States)</td>\n",
              "      <td>English (United States)</td>\n",
              "      <td>female</td>\n",
              "      <td>22-40</td>\n",
              "    </tr>\n",
              "    <tr>\n",
              "      <th>31</th>\n",
              "      <td>31</td>\n",
              "      <td>dsl_data/audio/speakers/2BqVo8kVB2Skwgyb/6ece8...</td>\n",
              "      <td>2BqVo8kVB2Skwgyb</td>\n",
              "      <td>decrease</td>\n",
              "      <td>volume</td>\n",
              "      <td>advanced</td>\n",
              "      <td>English (United States)</td>\n",
              "      <td>English (United States)</td>\n",
              "      <td>female</td>\n",
              "      <td>22-40</td>\n",
              "    </tr>\n",
              "    <tr>\n",
              "      <th>32</th>\n",
              "      <td>32</td>\n",
              "      <td>dsl_data/audio/speakers/2BqVo8kVB2Skwgyb/769cf...</td>\n",
              "      <td>2BqVo8kVB2Skwgyb</td>\n",
              "      <td>decrease</td>\n",
              "      <td>volume</td>\n",
              "      <td>advanced</td>\n",
              "      <td>English (United States)</td>\n",
              "      <td>English (United States)</td>\n",
              "      <td>female</td>\n",
              "      <td>22-40</td>\n",
              "    </tr>\n",
              "    <tr>\n",
              "      <th>33</th>\n",
              "      <td>33</td>\n",
              "      <td>dsl_data/audio/speakers/2BqVo8kVB2Skwgyb/78895...</td>\n",
              "      <td>2BqVo8kVB2Skwgyb</td>\n",
              "      <td>decrease</td>\n",
              "      <td>volume</td>\n",
              "      <td>advanced</td>\n",
              "      <td>English (United States)</td>\n",
              "      <td>English (United States)</td>\n",
              "      <td>female</td>\n",
              "      <td>22-40</td>\n",
              "    </tr>\n",
              "    <tr>\n",
              "      <th>34</th>\n",
              "      <td>34</td>\n",
              "      <td>dsl_data/audio/speakers/2BqVo8kVB2Skwgyb/7ad87...</td>\n",
              "      <td>2BqVo8kVB2Skwgyb</td>\n",
              "      <td>decrease</td>\n",
              "      <td>volume</td>\n",
              "      <td>advanced</td>\n",
              "      <td>English (United States)</td>\n",
              "      <td>English (United States)</td>\n",
              "      <td>female</td>\n",
              "      <td>22-40</td>\n",
              "    </tr>\n",
              "    <tr>\n",
              "      <th>35</th>\n",
              "      <td>35</td>\n",
              "      <td>dsl_data/audio/speakers/2BqVo8kVB2Skwgyb/7d5d7...</td>\n",
              "      <td>2BqVo8kVB2Skwgyb</td>\n",
              "      <td>decrease</td>\n",
              "      <td>volume</td>\n",
              "      <td>advanced</td>\n",
              "      <td>English (United States)</td>\n",
              "      <td>English (United States)</td>\n",
              "      <td>female</td>\n",
              "      <td>22-40</td>\n",
              "    </tr>\n",
              "    <tr>\n",
              "      <th>37</th>\n",
              "      <td>37</td>\n",
              "      <td>dsl_data/audio/speakers/2BqVo8kVB2Skwgyb/894c6...</td>\n",
              "      <td>2BqVo8kVB2Skwgyb</td>\n",
              "      <td>decrease</td>\n",
              "      <td>volume</td>\n",
              "      <td>advanced</td>\n",
              "      <td>English (United States)</td>\n",
              "      <td>English (United States)</td>\n",
              "      <td>female</td>\n",
              "      <td>22-40</td>\n",
              "    </tr>\n",
              "    <tr>\n",
              "      <th>38</th>\n",
              "      <td>38</td>\n",
              "      <td>dsl_data/audio/speakers/2BqVo8kVB2Skwgyb/8c300...</td>\n",
              "      <td>2BqVo8kVB2Skwgyb</td>\n",
              "      <td>increase</td>\n",
              "      <td>heat</td>\n",
              "      <td>advanced</td>\n",
              "      <td>English (United States)</td>\n",
              "      <td>English (United States)</td>\n",
              "      <td>female</td>\n",
              "      <td>22-40</td>\n",
              "    </tr>\n",
              "    <tr>\n",
              "      <th>39</th>\n",
              "      <td>39</td>\n",
              "      <td>dsl_data/audio/speakers/2BqVo8kVB2Skwgyb/8f0c4...</td>\n",
              "      <td>2BqVo8kVB2Skwgyb</td>\n",
              "      <td>increase</td>\n",
              "      <td>heat</td>\n",
              "      <td>advanced</td>\n",
              "      <td>English (United States)</td>\n",
              "      <td>English (United States)</td>\n",
              "      <td>female</td>\n",
              "      <td>22-40</td>\n",
              "    </tr>\n",
              "    <tr>\n",
              "      <th>40</th>\n",
              "      <td>40</td>\n",
              "      <td>dsl_data/audio/speakers/2BqVo8kVB2Skwgyb/96357...</td>\n",
              "      <td>2BqVo8kVB2Skwgyb</td>\n",
              "      <td>increase</td>\n",
              "      <td>heat</td>\n",
              "      <td>advanced</td>\n",
              "      <td>English (United States)</td>\n",
              "      <td>English (United States)</td>\n",
              "      <td>female</td>\n",
              "      <td>22-40</td>\n",
              "    </tr>\n",
              "    <tr>\n",
              "      <th>41</th>\n",
              "      <td>41</td>\n",
              "      <td>dsl_data/audio/speakers/2BqVo8kVB2Skwgyb/98c88...</td>\n",
              "      <td>2BqVo8kVB2Skwgyb</td>\n",
              "      <td>increase</td>\n",
              "      <td>heat</td>\n",
              "      <td>advanced</td>\n",
              "      <td>English (United States)</td>\n",
              "      <td>English (United States)</td>\n",
              "      <td>female</td>\n",
              "      <td>22-40</td>\n",
              "    </tr>\n",
              "    <tr>\n",
              "      <th>42</th>\n",
              "      <td>42</td>\n",
              "      <td>dsl_data/audio/speakers/2BqVo8kVB2Skwgyb/9ae5e...</td>\n",
              "      <td>2BqVo8kVB2Skwgyb</td>\n",
              "      <td>increase</td>\n",
              "      <td>heat</td>\n",
              "      <td>advanced</td>\n",
              "      <td>English (United States)</td>\n",
              "      <td>English (United States)</td>\n",
              "      <td>female</td>\n",
              "      <td>22-40</td>\n",
              "    </tr>\n",
              "    <tr>\n",
              "      <th>43</th>\n",
              "      <td>43</td>\n",
              "      <td>dsl_data/audio/speakers/2BqVo8kVB2Skwgyb/9da79...</td>\n",
              "      <td>2BqVo8kVB2Skwgyb</td>\n",
              "      <td>increase</td>\n",
              "      <td>heat</td>\n",
              "      <td>advanced</td>\n",
              "      <td>English (United States)</td>\n",
              "      <td>English (United States)</td>\n",
              "      <td>female</td>\n",
              "      <td>22-40</td>\n",
              "    </tr>\n",
              "  </tbody>\n",
              "</table>\n",
              "</div>\n",
              "      <button class=\"colab-df-convert\" onclick=\"convertToInteractive('df-fb5737fb-b6ad-475e-a8e0-911e56a32910')\"\n",
              "              title=\"Convert this dataframe to an interactive table.\"\n",
              "              style=\"display:none;\">\n",
              "        \n",
              "  <svg xmlns=\"http://www.w3.org/2000/svg\" height=\"24px\"viewBox=\"0 0 24 24\"\n",
              "       width=\"24px\">\n",
              "    <path d=\"M0 0h24v24H0V0z\" fill=\"none\"/>\n",
              "    <path d=\"M18.56 5.44l.94 2.06.94-2.06 2.06-.94-2.06-.94-.94-2.06-.94 2.06-2.06.94zm-11 1L8.5 8.5l.94-2.06 2.06-.94-2.06-.94L8.5 2.5l-.94 2.06-2.06.94zm10 10l.94 2.06.94-2.06 2.06-.94-2.06-.94-.94-2.06-.94 2.06-2.06.94z\"/><path d=\"M17.41 7.96l-1.37-1.37c-.4-.4-.92-.59-1.43-.59-.52 0-1.04.2-1.43.59L10.3 9.45l-7.72 7.72c-.78.78-.78 2.05 0 2.83L4 21.41c.39.39.9.59 1.41.59.51 0 1.02-.2 1.41-.59l7.78-7.78 2.81-2.81c.8-.78.8-2.07 0-2.86zM5.41 20L4 18.59l7.72-7.72 1.47 1.35L5.41 20z\"/>\n",
              "  </svg>\n",
              "      </button>\n",
              "      \n",
              "  <style>\n",
              "    .colab-df-container {\n",
              "      display:flex;\n",
              "      flex-wrap:wrap;\n",
              "      gap: 12px;\n",
              "    }\n",
              "\n",
              "    .colab-df-convert {\n",
              "      background-color: #E8F0FE;\n",
              "      border: none;\n",
              "      border-radius: 50%;\n",
              "      cursor: pointer;\n",
              "      display: none;\n",
              "      fill: #1967D2;\n",
              "      height: 32px;\n",
              "      padding: 0 0 0 0;\n",
              "      width: 32px;\n",
              "    }\n",
              "\n",
              "    .colab-df-convert:hover {\n",
              "      background-color: #E2EBFA;\n",
              "      box-shadow: 0px 1px 2px rgba(60, 64, 67, 0.3), 0px 1px 3px 1px rgba(60, 64, 67, 0.15);\n",
              "      fill: #174EA6;\n",
              "    }\n",
              "\n",
              "    [theme=dark] .colab-df-convert {\n",
              "      background-color: #3B4455;\n",
              "      fill: #D2E3FC;\n",
              "    }\n",
              "\n",
              "    [theme=dark] .colab-df-convert:hover {\n",
              "      background-color: #434B5C;\n",
              "      box-shadow: 0px 1px 3px 1px rgba(0, 0, 0, 0.15);\n",
              "      filter: drop-shadow(0px 1px 2px rgba(0, 0, 0, 0.3));\n",
              "      fill: #FFFFFF;\n",
              "    }\n",
              "  </style>\n",
              "\n",
              "      <script>\n",
              "        const buttonEl =\n",
              "          document.querySelector('#df-fb5737fb-b6ad-475e-a8e0-911e56a32910 button.colab-df-convert');\n",
              "        buttonEl.style.display =\n",
              "          google.colab.kernel.accessAllowed ? 'block' : 'none';\n",
              "\n",
              "        async function convertToInteractive(key) {\n",
              "          const element = document.querySelector('#df-fb5737fb-b6ad-475e-a8e0-911e56a32910');\n",
              "          const dataTable =\n",
              "            await google.colab.kernel.invokeFunction('convertToInteractive',\n",
              "                                                     [key], {});\n",
              "          if (!dataTable) return;\n",
              "\n",
              "          const docLinkHtml = 'Like what you see? Visit the ' +\n",
              "            '<a target=\"_blank\" href=https://colab.research.google.com/notebooks/data_table.ipynb>data table notebook</a>'\n",
              "            + ' to learn more about interactive tables.';\n",
              "          element.innerHTML = '';\n",
              "          dataTable['output_type'] = 'display_data';\n",
              "          await google.colab.output.renderOutput(dataTable, element);\n",
              "          const docLink = document.createElement('div');\n",
              "          docLink.innerHTML = docLinkHtml;\n",
              "          element.appendChild(docLink);\n",
              "        }\n",
              "      </script>\n",
              "    </div>\n",
              "  </div>\n",
              "  "
            ]
          },
          "metadata": {},
          "execution_count": 21
        }
      ],
      "source": [
        "metadata[:40]"
      ]
    },
    {
      "cell_type": "code",
      "execution_count": null,
      "metadata": {
        "id": "JJdhdIYKi5ri"
      },
      "outputs": [],
      "source": []
    },
    {
      "cell_type": "code",
      "execution_count": null,
      "metadata": {
        "id": "92uULmnriG2K"
      },
      "outputs": [],
      "source": [
        "def features_extractor(file):\n",
        "    audio, sample_rate = librosa.load(file_name, res_type='kaiser_fast')\n",
        "    audio = audio[:76670]\n",
        "    zero_padding = tf.zeros([76670] - tf.shape(audio), dtype=tf.float32)\n",
        "    audio = tf.concat([audio, zero_padding ],0)\n",
        "    audio = np.array(audio)\n",
        "    mfccs_features = librosa.feature.mfcc(y=audio, sr=sample_rate, n_mfcc=20)\n",
        "\n",
        "    return mfccs_features"
      ]
    },
    {
      "cell_type": "code",
      "execution_count": null,
      "metadata": {
        "id": "y_x_CtO8iG4v"
      },
      "outputs": [],
      "source": []
    },
    {
      "cell_type": "code",
      "execution_count": null,
      "metadata": {
        "colab": {
          "base_uri": "https://localhost:8080/"
        },
        "id": "dXgw3UUCs5Jc",
        "outputId": "ef7fc97a-b36c-4f0c-e7f7-0d1d21c79e5c"
      },
      "outputs": [
        {
          "name": "stdout",
          "output_type": "stream",
          "text": [
            "/content/drive/My Drive/DSL_Final_Project/dsl_data/audio/speakers/2BqVo8kVB2Skwgyb/269fc210-4474-11e9-a9a5-5dbec3b8816a.wav\n"
          ]
        }
      ],
      "source": [
        "    file_name = os.path.join('/content/drive/My Drive/DSL_Final_Project',\"dsl_data/audio/speakers/2BqVo8kVB2Skwgyb/269fc210-4474-11e9-a9a5-5dbec3b8816a.wav\")\n",
        "    print(file_name)\n"
      ]
    },
    {
      "cell_type": "code",
      "execution_count": null,
      "metadata": {
        "colab": {
          "base_uri": "https://localhost:8080/"
        },
        "id": "eAY_46I-jG5i",
        "outputId": "e4b7d130-8255-4392-eb0c-6be68b3000ae"
      },
      "outputs": [
        {
          "output_type": "stream",
          "name": "stderr",
          "text": [
            "9295it [06:39, 23.25it/s]\n"
          ]
        }
      ],
      "source": [
        "import numpy as np\n",
        "from tqdm import tqdm\n",
        "### Now we iterate through every audio file and extract features\n",
        "### using Mel-Frequency Cepstral Coefficients\n",
        "extracted_features=[]\n",
        "\n",
        "#remove this\n",
        "keeper = metadata[:50]\n",
        "\n",
        "for index_num,row in tqdm(metadata.iterrows()):\n",
        "    file_name = os.path.join('/content/drive/My Drive/DSL_Final_Project',str(row[\"path\"]))\n",
        "    final_class_labels=row[\"action\"] + row[\"object\"]\n",
        "    data = features_extractor(file_name)\n",
        "    extracted_features.append([data,final_class_labels])"
      ]
    },
    {
      "cell_type": "code",
      "execution_count": null,
      "metadata": {
        "colab": {
          "base_uri": "https://localhost:8080/",
          "height": 206
        },
        "id": "Id3wnB69jHAx",
        "outputId": "f36fde72-8096-4ac9-ea99-8a6627b65533"
      },
      "outputs": [
        {
          "output_type": "execute_result",
          "data": {
            "text/plain": [
              "                                             feature                class\n",
              "0  [[-729.049, -721.04285, -734.43567, -747.6961,...  change languagenone\n",
              "1  [[-775.2468, -773.01746, -749.923, -711.9694, ...        activatemusic\n",
              "2  [[-814.97595, -806.9605, -812.215, -800.7104, ...     deactivatelights\n",
              "3  [[-721.30536, -721.30536, -717.48987, -712.690...       increasevolume\n",
              "4  [[-772.1147, -776.286, -785.64465, -775.66644,...       increasevolume"
            ],
            "text/html": [
              "\n",
              "  <div id=\"df-3d925773-22f4-47ca-8fa1-06b3676d229d\">\n",
              "    <div class=\"colab-df-container\">\n",
              "      <div>\n",
              "<style scoped>\n",
              "    .dataframe tbody tr th:only-of-type {\n",
              "        vertical-align: middle;\n",
              "    }\n",
              "\n",
              "    .dataframe tbody tr th {\n",
              "        vertical-align: top;\n",
              "    }\n",
              "\n",
              "    .dataframe thead th {\n",
              "        text-align: right;\n",
              "    }\n",
              "</style>\n",
              "<table border=\"1\" class=\"dataframe\">\n",
              "  <thead>\n",
              "    <tr style=\"text-align: right;\">\n",
              "      <th></th>\n",
              "      <th>feature</th>\n",
              "      <th>class</th>\n",
              "    </tr>\n",
              "  </thead>\n",
              "  <tbody>\n",
              "    <tr>\n",
              "      <th>0</th>\n",
              "      <td>[[-729.049, -721.04285, -734.43567, -747.6961,...</td>\n",
              "      <td>change languagenone</td>\n",
              "    </tr>\n",
              "    <tr>\n",
              "      <th>1</th>\n",
              "      <td>[[-775.2468, -773.01746, -749.923, -711.9694, ...</td>\n",
              "      <td>activatemusic</td>\n",
              "    </tr>\n",
              "    <tr>\n",
              "      <th>2</th>\n",
              "      <td>[[-814.97595, -806.9605, -812.215, -800.7104, ...</td>\n",
              "      <td>deactivatelights</td>\n",
              "    </tr>\n",
              "    <tr>\n",
              "      <th>3</th>\n",
              "      <td>[[-721.30536, -721.30536, -717.48987, -712.690...</td>\n",
              "      <td>increasevolume</td>\n",
              "    </tr>\n",
              "    <tr>\n",
              "      <th>4</th>\n",
              "      <td>[[-772.1147, -776.286, -785.64465, -775.66644,...</td>\n",
              "      <td>increasevolume</td>\n",
              "    </tr>\n",
              "  </tbody>\n",
              "</table>\n",
              "</div>\n",
              "      <button class=\"colab-df-convert\" onclick=\"convertToInteractive('df-3d925773-22f4-47ca-8fa1-06b3676d229d')\"\n",
              "              title=\"Convert this dataframe to an interactive table.\"\n",
              "              style=\"display:none;\">\n",
              "        \n",
              "  <svg xmlns=\"http://www.w3.org/2000/svg\" height=\"24px\"viewBox=\"0 0 24 24\"\n",
              "       width=\"24px\">\n",
              "    <path d=\"M0 0h24v24H0V0z\" fill=\"none\"/>\n",
              "    <path d=\"M18.56 5.44l.94 2.06.94-2.06 2.06-.94-2.06-.94-.94-2.06-.94 2.06-2.06.94zm-11 1L8.5 8.5l.94-2.06 2.06-.94-2.06-.94L8.5 2.5l-.94 2.06-2.06.94zm10 10l.94 2.06.94-2.06 2.06-.94-2.06-.94-.94-2.06-.94 2.06-2.06.94z\"/><path d=\"M17.41 7.96l-1.37-1.37c-.4-.4-.92-.59-1.43-.59-.52 0-1.04.2-1.43.59L10.3 9.45l-7.72 7.72c-.78.78-.78 2.05 0 2.83L4 21.41c.39.39.9.59 1.41.59.51 0 1.02-.2 1.41-.59l7.78-7.78 2.81-2.81c.8-.78.8-2.07 0-2.86zM5.41 20L4 18.59l7.72-7.72 1.47 1.35L5.41 20z\"/>\n",
              "  </svg>\n",
              "      </button>\n",
              "      \n",
              "  <style>\n",
              "    .colab-df-container {\n",
              "      display:flex;\n",
              "      flex-wrap:wrap;\n",
              "      gap: 12px;\n",
              "    }\n",
              "\n",
              "    .colab-df-convert {\n",
              "      background-color: #E8F0FE;\n",
              "      border: none;\n",
              "      border-radius: 50%;\n",
              "      cursor: pointer;\n",
              "      display: none;\n",
              "      fill: #1967D2;\n",
              "      height: 32px;\n",
              "      padding: 0 0 0 0;\n",
              "      width: 32px;\n",
              "    }\n",
              "\n",
              "    .colab-df-convert:hover {\n",
              "      background-color: #E2EBFA;\n",
              "      box-shadow: 0px 1px 2px rgba(60, 64, 67, 0.3), 0px 1px 3px 1px rgba(60, 64, 67, 0.15);\n",
              "      fill: #174EA6;\n",
              "    }\n",
              "\n",
              "    [theme=dark] .colab-df-convert {\n",
              "      background-color: #3B4455;\n",
              "      fill: #D2E3FC;\n",
              "    }\n",
              "\n",
              "    [theme=dark] .colab-df-convert:hover {\n",
              "      background-color: #434B5C;\n",
              "      box-shadow: 0px 1px 3px 1px rgba(0, 0, 0, 0.15);\n",
              "      filter: drop-shadow(0px 1px 2px rgba(0, 0, 0, 0.3));\n",
              "      fill: #FFFFFF;\n",
              "    }\n",
              "  </style>\n",
              "\n",
              "      <script>\n",
              "        const buttonEl =\n",
              "          document.querySelector('#df-3d925773-22f4-47ca-8fa1-06b3676d229d button.colab-df-convert');\n",
              "        buttonEl.style.display =\n",
              "          google.colab.kernel.accessAllowed ? 'block' : 'none';\n",
              "\n",
              "        async function convertToInteractive(key) {\n",
              "          const element = document.querySelector('#df-3d925773-22f4-47ca-8fa1-06b3676d229d');\n",
              "          const dataTable =\n",
              "            await google.colab.kernel.invokeFunction('convertToInteractive',\n",
              "                                                     [key], {});\n",
              "          if (!dataTable) return;\n",
              "\n",
              "          const docLinkHtml = 'Like what you see? Visit the ' +\n",
              "            '<a target=\"_blank\" href=https://colab.research.google.com/notebooks/data_table.ipynb>data table notebook</a>'\n",
              "            + ' to learn more about interactive tables.';\n",
              "          element.innerHTML = '';\n",
              "          dataTable['output_type'] = 'display_data';\n",
              "          await google.colab.output.renderOutput(dataTable, element);\n",
              "          const docLink = document.createElement('div');\n",
              "          docLink.innerHTML = docLinkHtml;\n",
              "          element.appendChild(docLink);\n",
              "        }\n",
              "      </script>\n",
              "    </div>\n",
              "  </div>\n",
              "  "
            ]
          },
          "metadata": {},
          "execution_count": 32
        }
      ],
      "source": [
        "### converting extracted_features to Pandas dataframe\n",
        "extracted_features_df=pd.DataFrame(extracted_features,columns=['feature','class'])\n",
        "extracted_features_df.head()\n"
      ]
    },
    {
      "cell_type": "code",
      "execution_count": null,
      "metadata": {
        "colab": {
          "base_uri": "https://localhost:8080/",
          "height": 295
        },
        "id": "5XMPsWmvjHDp",
        "outputId": "1b19f0b7-d6f5-417a-d909-4f07777b28c5"
      },
      "outputs": [
        {
          "output_type": "display_data",
          "data": {
            "text/plain": [
              "<Figure size 432x288 with 1 Axes>"
            ],
            "image/png": "[encoded data removed]"
          },
          "metadata": {
            "needs_background": "light"
          }
        }
      ],
      "source": [
        "x = extracted_features_df[\"feature\"][5]\n",
        "import matplotlib.pyplot as plt\n",
        "\n",
        "# data to be plotted\n",
        "\n",
        "\n",
        "# plotting\n",
        "plt.title(\"Line graph\")\n",
        "plt.xlabel(\"X axis\")\n",
        "plt.ylabel(\"Y axis\")\n",
        "plt.plot(x, color =\"red\")\n",
        "plt.show()"
      ]
    },
    {
      "cell_type": "code",
      "execution_count": null,
      "metadata": {
        "colab": {
          "base_uri": "https://localhost:8080/"
        },
        "id": "v_7y62oYjHGa",
        "outputId": "292234a0-d54e-47f4-b08c-e13af9ebe1c5"
      },
      "outputs": [
        {
          "output_type": "execute_result",
          "data": {
            "text/plain": [
              "(20, 150)"
            ]
          },
          "metadata": {},
          "execution_count": 34
        }
      ],
      "source": [
        "extracted_features_df.iloc[100,0].shape"
      ]
    },
    {
      "cell_type": "code",
      "execution_count": null,
      "metadata": {
        "colab": {
          "base_uri": "https://localhost:8080/"
        },
        "id": "FBoUb7y9jHJC",
        "outputId": "6238946f-9ca6-40e7-b4e8-304add5ac156"
      },
      "outputs": [
        {
          "output_type": "execute_result",
          "data": {
            "text/plain": [
              "(9295, 2)"
            ]
          },
          "metadata": {},
          "execution_count": 35
        }
      ],
      "source": [
        "extracted_features_df.shape"
      ]
    },
    {
      "cell_type": "code",
      "execution_count": null,
      "metadata": {
        "id": "l5xbpWKcjHLh"
      },
      "outputs": [],
      "source": [
        "### Split the dataset into independent and dependent dataset\n",
        "X=np.array(extracted_features_df['feature'].tolist())\n",
        "y=np.array(extracted_features_df['class'].tolist())"
      ]
    },
    {
      "cell_type": "code",
      "execution_count": null,
      "metadata": {
        "colab": {
          "base_uri": "https://localhost:8080/"
        },
        "id": "fpsjmCzqjHPG",
        "outputId": "cedf98d5-0cde-467f-eaee-650b05a9c69a"
      },
      "outputs": [
        {
          "output_type": "execute_result",
          "data": {
            "text/plain": [
              "(9295, 40, 150)"
            ]
          },
          "metadata": {},
          "execution_count": 27
        }
      ],
      "source": [
        "X.shape"
      ]
    },
    {
      "cell_type": "code",
      "source": [
        "X.shape"
      ],
      "metadata": {
        "colab": {
          "base_uri": "https://localhost:8080/"
        },
        "id": "XlqpiriFZDhE",
        "outputId": "b08298db-684e-4ad5-c53a-d42de0039221"
      },
      "execution_count": null,
      "outputs": [
        {
          "output_type": "execute_result",
          "data": {
            "text/plain": [
              "(9295, 20, 150)"
            ]
          },
          "metadata": {},
          "execution_count": 37
        }
      ]
    },
    {
      "cell_type": "code",
      "execution_count": null,
      "metadata": {
        "id": "jrbK4zj6jVIB"
      },
      "outputs": [],
      "source": [
        "X = X.reshape(9295,20,150,1)\n"
      ]
    },
    {
      "cell_type": "code",
      "execution_count": null,
      "metadata": {
        "colab": {
          "base_uri": "https://localhost:8080/"
        },
        "id": "JDaiYUBHjVKq",
        "outputId": "d8a2709d-ff8c-40c9-e805-7c2afc1db128"
      },
      "outputs": [
        {
          "output_type": "execute_result",
          "data": {
            "text/plain": [
              "(9295,)"
            ]
          },
          "metadata": {},
          "execution_count": 39
        }
      ],
      "source": [
        "y.shape"
      ]
    },
    {
      "cell_type": "code",
      "execution_count": null,
      "metadata": {
        "id": "sPopK0xYjVNZ"
      },
      "outputs": [],
      "source": [
        "### Label Encoding\n",
        "###y=np.array(pd.get_dummies(y))\n",
        "### Label Encoder\n",
        "from tensorflow.keras.utils import to_categorical\n",
        "from sklearn.preprocessing import LabelEncoder\n",
        "labelencoder=LabelEncoder()\n",
        "y=to_categorical(labelencoder.fit_transform(y))"
      ]
    },
    {
      "cell_type": "code",
      "execution_count": null,
      "metadata": {
        "colab": {
          "base_uri": "https://localhost:8080/"
        },
        "id": "wruuJttBjVP6",
        "outputId": "224dbf6e-ad6a-4613-c19a-b1af534b7ff1"
      },
      "outputs": [
        {
          "output_type": "execute_result",
          "data": {
            "text/plain": [
              "array([[0., 1., 0., ..., 0., 0., 0.],\n",
              "       [1., 0., 0., ..., 0., 0., 0.],\n",
              "       [0., 0., 1., ..., 0., 0., 0.],\n",
              "       ...,\n",
              "       [0., 0., 1., ..., 0., 0., 0.],\n",
              "       [0., 0., 1., ..., 0., 0., 0.],\n",
              "       [0., 0., 0., ..., 0., 0., 1.]], dtype=float32)"
            ]
          },
          "metadata": {},
          "execution_count": 41
        }
      ],
      "source": [
        "y"
      ]
    },
    {
      "cell_type": "code",
      "execution_count": null,
      "metadata": {
        "colab": {
          "base_uri": "https://localhost:8080/"
        },
        "id": "BDerUBF_jVSy",
        "outputId": "6bc6ac2d-2b96-4808-cce2-2394b6ebe581"
      },
      "outputs": [
        {
          "output_type": "execute_result",
          "data": {
            "text/plain": [
              "(9295, 7)"
            ]
          },
          "metadata": {},
          "execution_count": 42
        }
      ],
      "source": [
        "y.shape"
      ]
    },
    {
      "cell_type": "code",
      "execution_count": null,
      "metadata": {
        "id": "lKrwxvUKjeD5"
      },
      "outputs": [],
      "source": [
        "### Train Test Split\n",
        "from sklearn.model_selection import train_test_split\n",
        "X_train,X_test,y_train,y_test=train_test_split(X,y,test_size=0.2, random_state=10, shuffle = True )"
      ]
    },
    {
      "cell_type": "code",
      "execution_count": null,
      "metadata": {
        "colab": {
          "base_uri": "https://localhost:8080/"
        },
        "id": "eJTWcp4_jeGg",
        "outputId": "07cbef7b-cac4-413b-fbd4-bac0b7f51794"
      },
      "outputs": [
        {
          "output_type": "execute_result",
          "data": {
            "text/plain": [
              "(7436, 20, 150, 1)"
            ]
          },
          "metadata": {},
          "execution_count": 44
        }
      ],
      "source": [
        "#X_train\n",
        "X_train.shape"
      ]
    },
    {
      "cell_type": "code",
      "execution_count": null,
      "metadata": {
        "colab": {
          "base_uri": "https://localhost:8080/"
        },
        "id": "8F6PY8RtjeJb",
        "outputId": "3913657f-140f-463d-afd2-de0eb10646b7"
      },
      "outputs": [
        {
          "output_type": "execute_result",
          "data": {
            "text/plain": [
              "(1859, 20, 150, 1)"
            ]
          },
          "metadata": {},
          "execution_count": 45
        }
      ],
      "source": [
        "X_test.shape"
      ]
    },
    {
      "cell_type": "code",
      "execution_count": null,
      "metadata": {
        "colab": {
          "base_uri": "https://localhost:8080/"
        },
        "id": "CjN_TNXLjeL6",
        "outputId": "c96ba9ad-a45a-4120-d885-61dabb17b909"
      },
      "outputs": [
        {
          "output_type": "execute_result",
          "data": {
            "text/plain": [
              "(7436, 7)"
            ]
          },
          "metadata": {},
          "execution_count": 46
        }
      ],
      "source": [
        "y_train.shape"
      ]
    },
    {
      "cell_type": "code",
      "execution_count": null,
      "metadata": {
        "id": "dbSg_azpjnM6"
      },
      "outputs": [],
      "source": [
        "import keras\n",
        "from keras.layers import Activation, Dense, Dropout, Conv2D,Flatten, MaxPooling2D\n",
        "from keras.models import Sequential\n",
        "from keras.layers import GlobalMaxPooling2D"
      ]
    },
    {
      "cell_type": "code",
      "execution_count": null,
      "metadata": {
        "id": "luqAuHMEjnUR"
      },
      "outputs": [],
      "source": [
        "model = Sequential()\n",
        "input_shape=(20, 150, 1)\n",
        "\n",
        "model.add(Conv2D(24, (2, 2), strides=(1, 1), input_shape=input_shape))\n",
        "model.add(MaxPooling2D((2, 2), strides=(2, 2)))\n",
        "model.add(Activation('relu'))\n",
        "\n",
        "model.add(Conv2D(48, (2, 2), padding=\"valid\"))\n",
        "model.add(MaxPooling2D((2, 2), strides=(4, 2)))\n",
        "model.add(Activation('relu'))\n",
        "\n",
        "model.add(Conv2D(64, (2, 2), padding=\"valid\"))\n",
        "model.add(Activation('relu'))\n",
        "\n",
        "model.add(GlobalMaxPooling2D())\n",
        "#model.add(Dropout(rate=0.5))\n",
        "\n",
        "model.add(Dense(64))\n",
        "model.add(Activation('relu'))\n",
        "model.add(Dropout(rate=0.2))\n",
        "\n",
        "model.add(Dense(16))\n",
        "model.add(Activation('relu'))\n",
        "model.add(Dropout(rate=0.2))\n",
        "\n",
        "model.add(Dense(7))\n",
        "model.add(Activation(\"softmax\"))"
      ]
    },
    {
      "cell_type": "code",
      "execution_count": null,
      "metadata": {
        "colab": {
          "base_uri": "https://localhost:8080/"
        },
        "id": "vyNxwIgDjrH5",
        "outputId": "e66a4b7b-52d7-4e8c-d326-956a47a9a1ce"
      },
      "outputs": [
        {
          "output_type": "stream",
          "name": "stdout",
          "text": [
            "Model: \"sequential_4\"\n",
            "_________________________________________________________________\n",
            " Layer (type)                Output Shape              Param #   \n",
            "=================================================================\n",
            " conv2d_12 (Conv2D)          (None, 19, 149, 24)       120       \n",
            "                                                                 \n",
            " max_pooling2d_8 (MaxPooling  (None, 9, 74, 24)        0         \n",
            " 2D)                                                             \n",
            "                                                                 \n",
            " activation_22 (Activation)  (None, 9, 74, 24)         0         \n",
            "                                                                 \n",
            " conv2d_13 (Conv2D)          (None, 8, 73, 48)         4656      \n",
            "                                                                 \n",
            " max_pooling2d_9 (MaxPooling  (None, 2, 36, 48)        0         \n",
            " 2D)                                                             \n",
            "                                                                 \n",
            " activation_23 (Activation)  (None, 2, 36, 48)         0         \n",
            "                                                                 \n",
            " conv2d_14 (Conv2D)          (None, 1, 35, 64)         12352     \n",
            "                                                                 \n",
            " activation_24 (Activation)  (None, 1, 35, 64)         0         \n",
            "                                                                 \n",
            " global_max_pooling2d_4 (Glo  (None, 64)               0         \n",
            " balMaxPooling2D)                                                \n",
            "                                                                 \n",
            " dense_10 (Dense)            (None, 64)                4160      \n",
            "                                                                 \n",
            " activation_25 (Activation)  (None, 64)                0         \n",
            "                                                                 \n",
            " dropout_6 (Dropout)         (None, 64)                0         \n",
            "                                                                 \n",
            " dense_11 (Dense)            (None, 16)                1040      \n",
            "                                                                 \n",
            " activation_26 (Activation)  (None, 16)                0         \n",
            "                                                                 \n",
            " dropout_7 (Dropout)         (None, 16)                0         \n",
            "                                                                 \n",
            " dense_12 (Dense)            (None, 7)                 119       \n",
            "                                                                 \n",
            " activation_27 (Activation)  (None, 7)                 0         \n",
            "                                                                 \n",
            "=================================================================\n",
            "Total params: 22,447\n",
            "Trainable params: 22,447\n",
            "Non-trainable params: 0\n",
            "_________________________________________________________________\n"
          ]
        }
      ],
      "source": [
        "model.summary()\n"
      ]
    },
    {
      "cell_type": "code",
      "execution_count": null,
      "metadata": {
        "id": "YoNlZjNcu21K"
      },
      "outputs": [],
      "source": [
        "from keras.callbacks import TensorBoard, ModelCheckpoint\n",
        "tensorboard = TensorBoard(log_dir='/content/drive/My Drive/DSL_Final_Project/Logs/logC24_C48-C64_D64_7_5_globalmax_remove_strie_ad fc16')\n",
        "\n",
        "# Define the checkpointer\n",
        "checkpointer = ModelCheckpoint(filepath='/content/drive/My Drive/DSL_Final_Project/bestModels/Conv2D_24_48_64_Dense_64_model_5_globalMax_remove_stride_ad fc16.h5',\n",
        "                               verbose=1, save_best_only=True)"
      ]
    },
    {
      "cell_type": "code",
      "execution_count": null,
      "metadata": {
        "colab": {
          "base_uri": "https://localhost:8080/"
        },
        "id": "zvoqXs43jrKq",
        "outputId": "19ae629b-3842-4555-e389-97420a36de9e"
      },
      "outputs": [
        {
          "output_type": "stream",
          "name": "stdout",
          "text": [
            "Epoch 1/100\n",
            "929/930 [============================>.] - ETA: 0s - loss: 0.5188 - accuracy: 0.1842\n",
            "Epoch 1: val_loss improved from inf to 0.38392, saving model to /content/drive/My Drive/DSL_Final_Project/bestModels/Conv2D_24_48_64_Dense_64_model_5_globalMax_remove_stride_ad fc16.h5\n",
            "930/930 [==============================] - 23s 24ms/step - loss: 0.5187 - accuracy: 0.1842 - val_loss: 0.3839 - val_accuracy: 0.3147\n",
            "Epoch 2/100\n",
            "927/930 [============================>.] - ETA: 0s - loss: 0.3924 - accuracy: 0.2727\n",
            "Epoch 2: val_loss improved from 0.38392 to 0.36604, saving model to /content/drive/My Drive/DSL_Final_Project/bestModels/Conv2D_24_48_64_Dense_64_model_5_globalMax_remove_stride_ad fc16.h5\n",
            "930/930 [==============================] - 19s 20ms/step - loss: 0.3925 - accuracy: 0.2722 - val_loss: 0.3660 - val_accuracy: 0.3421\n",
            "Epoch 3/100\n",
            "929/930 [============================>.] - ETA: 0s - loss: 0.3605 - accuracy: 0.3186\n",
            "Epoch 3: val_loss improved from 0.36604 to 0.30916, saving model to /content/drive/My Drive/DSL_Final_Project/bestModels/Conv2D_24_48_64_Dense_64_model_5_globalMax_remove_stride_ad fc16.h5\n",
            "930/930 [==============================] - 20s 21ms/step - loss: 0.3604 - accuracy: 0.3186 - val_loss: 0.3092 - val_accuracy: 0.4196\n",
            "Epoch 4/100\n",
            "929/930 [============================>.] - ETA: 0s - loss: 0.3208 - accuracy: 0.4010\n",
            "Epoch 4: val_loss improved from 0.30916 to 0.27460, saving model to /content/drive/My Drive/DSL_Final_Project/bestModels/Conv2D_24_48_64_Dense_64_model_5_globalMax_remove_stride_ad fc16.h5\n",
            "930/930 [==============================] - 20s 21ms/step - loss: 0.3208 - accuracy: 0.4010 - val_loss: 0.2746 - val_accuracy: 0.4766\n",
            "Epoch 5/100\n",
            "927/930 [============================>.] - ETA: 0s - loss: 0.2954 - accuracy: 0.4554\n",
            "Epoch 5: val_loss did not improve from 0.27460\n",
            "930/930 [==============================] - 20s 21ms/step - loss: 0.2954 - accuracy: 0.4554 - val_loss: 0.2803 - val_accuracy: 0.4669\n",
            "Epoch 6/100\n",
            "929/930 [============================>.] - ETA: 0s - loss: 0.2793 - accuracy: 0.4685\n",
            "Epoch 6: val_loss improved from 0.27460 to 0.26002, saving model to /content/drive/My Drive/DSL_Final_Project/bestModels/Conv2D_24_48_64_Dense_64_model_5_globalMax_remove_stride_ad fc16.h5\n",
            "930/930 [==============================] - 18s 20ms/step - loss: 0.2792 - accuracy: 0.4685 - val_loss: 0.2600 - val_accuracy: 0.5282\n",
            "Epoch 7/100\n",
            "930/930 [==============================] - ETA: 0s - loss: 0.2669 - accuracy: 0.4968\n",
            "Epoch 7: val_loss improved from 0.26002 to 0.25199, saving model to /content/drive/My Drive/DSL_Final_Project/bestModels/Conv2D_24_48_64_Dense_64_model_5_globalMax_remove_stride_ad fc16.h5\n",
            "930/930 [==============================] - 20s 21ms/step - loss: 0.2669 - accuracy: 0.4968 - val_loss: 0.2520 - val_accuracy: 0.5304\n",
            "Epoch 8/100\n",
            "929/930 [============================>.] - ETA: 0s - loss: 0.2578 - accuracy: 0.5168\n",
            "Epoch 8: val_loss improved from 0.25199 to 0.24767, saving model to /content/drive/My Drive/DSL_Final_Project/bestModels/Conv2D_24_48_64_Dense_64_model_5_globalMax_remove_stride_ad fc16.h5\n",
            "930/930 [==============================] - 20s 21ms/step - loss: 0.2578 - accuracy: 0.5168 - val_loss: 0.2477 - val_accuracy: 0.5621\n",
            "Epoch 9/100\n",
            "927/930 [============================>.] - ETA: 0s - loss: 0.2477 - accuracy: 0.5360\n",
            "Epoch 9: val_loss improved from 0.24767 to 0.24371, saving model to /content/drive/My Drive/DSL_Final_Project/bestModels/Conv2D_24_48_64_Dense_64_model_5_globalMax_remove_stride_ad fc16.h5\n",
            "930/930 [==============================] - 19s 21ms/step - loss: 0.2477 - accuracy: 0.5362 - val_loss: 0.2437 - val_accuracy: 0.5702\n",
            "Epoch 10/100\n",
            "929/930 [============================>.] - ETA: 0s - loss: 0.2348 - accuracy: 0.5768\n",
            "Epoch 10: val_loss improved from 0.24371 to 0.21844, saving model to /content/drive/My Drive/DSL_Final_Project/bestModels/Conv2D_24_48_64_Dense_64_model_5_globalMax_remove_stride_ad fc16.h5\n",
            "930/930 [==============================] - 20s 21ms/step - loss: 0.2348 - accuracy: 0.5769 - val_loss: 0.2184 - val_accuracy: 0.6369\n",
            "Epoch 11/100\n",
            "928/930 [============================>.] - ETA: 0s - loss: 0.2230 - accuracy: 0.6080\n",
            "Epoch 11: val_loss improved from 0.21844 to 0.21222, saving model to /content/drive/My Drive/DSL_Final_Project/bestModels/Conv2D_24_48_64_Dense_64_model_5_globalMax_remove_stride_ad fc16.h5\n",
            "930/930 [==============================] - 20s 21ms/step - loss: 0.2229 - accuracy: 0.6087 - val_loss: 0.2122 - val_accuracy: 0.6573\n",
            "Epoch 12/100\n",
            "927/930 [============================>.] - ETA: 0s - loss: 0.2095 - accuracy: 0.6419\n",
            "Epoch 12: val_loss improved from 0.21222 to 0.20803, saving model to /content/drive/My Drive/DSL_Final_Project/bestModels/Conv2D_24_48_64_Dense_64_model_5_globalMax_remove_stride_ad fc16.h5\n",
            "930/930 [==============================] - 20s 21ms/step - loss: 0.2095 - accuracy: 0.6416 - val_loss: 0.2080 - val_accuracy: 0.6557\n",
            "Epoch 13/100\n",
            "927/930 [============================>.] - ETA: 0s - loss: 0.2005 - accuracy: 0.6582\n",
            "Epoch 13: val_loss improved from 0.20803 to 0.19542, saving model to /content/drive/My Drive/DSL_Final_Project/bestModels/Conv2D_24_48_64_Dense_64_model_5_globalMax_remove_stride_ad fc16.h5\n",
            "930/930 [==============================] - 20s 21ms/step - loss: 0.2010 - accuracy: 0.6577 - val_loss: 0.1954 - val_accuracy: 0.6842\n",
            "Epoch 14/100\n",
            "927/930 [============================>.] - ETA: 0s - loss: 0.1933 - accuracy: 0.6830\n",
            "Epoch 14: val_loss did not improve from 0.19542\n",
            "930/930 [==============================] - 19s 21ms/step - loss: 0.1934 - accuracy: 0.6828 - val_loss: 0.2112 - val_accuracy: 0.6439\n",
            "Epoch 15/100\n",
            "929/930 [============================>.] - ETA: 0s - loss: 0.1856 - accuracy: 0.6973\n",
            "Epoch 15: val_loss improved from 0.19542 to 0.18966, saving model to /content/drive/My Drive/DSL_Final_Project/bestModels/Conv2D_24_48_64_Dense_64_model_5_globalMax_remove_stride_ad fc16.h5\n",
            "930/930 [==============================] - 19s 20ms/step - loss: 0.1856 - accuracy: 0.6973 - val_loss: 0.1897 - val_accuracy: 0.6971\n",
            "Epoch 16/100\n",
            "929/930 [============================>.] - ETA: 0s - loss: 0.1757 - accuracy: 0.7139\n",
            "Epoch 16: val_loss improved from 0.18966 to 0.17912, saving model to /content/drive/My Drive/DSL_Final_Project/bestModels/Conv2D_24_48_64_Dense_64_model_5_globalMax_remove_stride_ad fc16.h5\n",
            "930/930 [==============================] - 20s 21ms/step - loss: 0.1756 - accuracy: 0.7141 - val_loss: 0.1791 - val_accuracy: 0.7106\n",
            "Epoch 17/100\n",
            "930/930 [==============================] - ETA: 0s - loss: 0.1705 - accuracy: 0.7257\n",
            "Epoch 17: val_loss improved from 0.17912 to 0.17569, saving model to /content/drive/My Drive/DSL_Final_Project/bestModels/Conv2D_24_48_64_Dense_64_model_5_globalMax_remove_stride_ad fc16.h5\n",
            "930/930 [==============================] - 20s 21ms/step - loss: 0.1705 - accuracy: 0.7257 - val_loss: 0.1757 - val_accuracy: 0.7278\n",
            "Epoch 18/100\n",
            "929/930 [============================>.] - ETA: 0s - loss: 0.1554 - accuracy: 0.7551\n",
            "Epoch 18: val_loss improved from 0.17569 to 0.16054, saving model to /content/drive/My Drive/DSL_Final_Project/bestModels/Conv2D_24_48_64_Dense_64_model_5_globalMax_remove_stride_ad fc16.h5\n",
            "930/930 [==============================] - 20s 21ms/step - loss: 0.1554 - accuracy: 0.7551 - val_loss: 0.1605 - val_accuracy: 0.7466\n",
            "Epoch 19/100\n",
            "929/930 [============================>.] - ETA: 0s - loss: 0.1547 - accuracy: 0.7590\n",
            "Epoch 19: val_loss did not improve from 0.16054\n",
            "930/930 [==============================] - 18s 20ms/step - loss: 0.1546 - accuracy: 0.7591 - val_loss: 0.1677 - val_accuracy: 0.7316\n",
            "Epoch 20/100\n",
            "928/930 [============================>.] - ETA: 0s - loss: 0.1484 - accuracy: 0.7695\n",
            "Epoch 20: val_loss did not improve from 0.16054\n",
            "930/930 [==============================] - 19s 21ms/step - loss: 0.1484 - accuracy: 0.7694 - val_loss: 0.1683 - val_accuracy: 0.7434\n",
            "Epoch 21/100\n",
            "929/930 [============================>.] - ETA: 0s - loss: 0.1434 - accuracy: 0.7831\n",
            "Epoch 21: val_loss improved from 0.16054 to 0.16001, saving model to /content/drive/My Drive/DSL_Final_Project/bestModels/Conv2D_24_48_64_Dense_64_model_5_globalMax_remove_stride_ad fc16.h5\n",
            "930/930 [==============================] - 19s 20ms/step - loss: 0.1434 - accuracy: 0.7829 - val_loss: 0.1600 - val_accuracy: 0.7574\n",
            "Epoch 22/100\n",
            "929/930 [============================>.] - ETA: 0s - loss: 0.1367 - accuracy: 0.7937\n",
            "Epoch 22: val_loss did not improve from 0.16001\n",
            "930/930 [==============================] - 19s 21ms/step - loss: 0.1367 - accuracy: 0.7938 - val_loss: 0.1615 - val_accuracy: 0.7585\n",
            "Epoch 23/100\n",
            "928/930 [============================>.] - ETA: 0s - loss: 0.1346 - accuracy: 0.8019\n",
            "Epoch 23: val_loss did not improve from 0.16001\n",
            "930/930 [==============================] - 20s 21ms/step - loss: 0.1344 - accuracy: 0.8022 - val_loss: 0.1615 - val_accuracy: 0.7633\n",
            "Epoch 24/100\n",
            "928/930 [============================>.] - ETA: 0s - loss: 0.1301 - accuracy: 0.8144\n",
            "Epoch 24: val_loss improved from 0.16001 to 0.15899, saving model to /content/drive/My Drive/DSL_Final_Project/bestModels/Conv2D_24_48_64_Dense_64_model_5_globalMax_remove_stride_ad fc16.h5\n",
            "930/930 [==============================] - 20s 21ms/step - loss: 0.1300 - accuracy: 0.8144 - val_loss: 0.1590 - val_accuracy: 0.7660\n",
            "Epoch 25/100\n",
            "929/930 [============================>.] - ETA: 0s - loss: 0.1271 - accuracy: 0.8173\n",
            "Epoch 25: val_loss improved from 0.15899 to 0.15420, saving model to /content/drive/My Drive/DSL_Final_Project/bestModels/Conv2D_24_48_64_Dense_64_model_5_globalMax_remove_stride_ad fc16.h5\n",
            "930/930 [==============================] - 20s 21ms/step - loss: 0.1270 - accuracy: 0.8174 - val_loss: 0.1542 - val_accuracy: 0.7832\n",
            "Epoch 26/100\n",
            "928/930 [============================>.] - ETA: 0s - loss: 0.1192 - accuracy: 0.8296\n",
            "Epoch 26: val_loss improved from 0.15420 to 0.15399, saving model to /content/drive/My Drive/DSL_Final_Project/bestModels/Conv2D_24_48_64_Dense_64_model_5_globalMax_remove_stride_ad fc16.h5\n",
            "930/930 [==============================] - 20s 21ms/step - loss: 0.1192 - accuracy: 0.8296 - val_loss: 0.1540 - val_accuracy: 0.7929\n",
            "Epoch 27/100\n",
            "928/930 [============================>.] - ETA: 0s - loss: 0.1180 - accuracy: 0.8311\n",
            "Epoch 27: val_loss improved from 0.15399 to 0.13910, saving model to /content/drive/My Drive/DSL_Final_Project/bestModels/Conv2D_24_48_64_Dense_64_model_5_globalMax_remove_stride_ad fc16.h5\n",
            "930/930 [==============================] - 20s 22ms/step - loss: 0.1179 - accuracy: 0.8312 - val_loss: 0.1391 - val_accuracy: 0.7838\n",
            "Epoch 28/100\n",
            "929/930 [============================>.] - ETA: 0s - loss: 0.1134 - accuracy: 0.8427\n",
            "Epoch 28: val_loss did not improve from 0.13910\n",
            "930/930 [==============================] - 19s 20ms/step - loss: 0.1134 - accuracy: 0.8428 - val_loss: 0.1453 - val_accuracy: 0.8004\n",
            "Epoch 29/100\n",
            "929/930 [============================>.] - ETA: 0s - loss: 0.1127 - accuracy: 0.8418\n",
            "Epoch 29: val_loss did not improve from 0.13910\n",
            "930/930 [==============================] - 20s 21ms/step - loss: 0.1126 - accuracy: 0.8419 - val_loss: 0.1433 - val_accuracy: 0.7945\n",
            "Epoch 30/100\n",
            "927/930 [============================>.] - ETA: 0s - loss: 0.1074 - accuracy: 0.8495\n",
            "Epoch 30: val_loss did not improve from 0.13910\n",
            "930/930 [==============================] - 20s 22ms/step - loss: 0.1075 - accuracy: 0.8491 - val_loss: 0.1455 - val_accuracy: 0.8085\n",
            "Epoch 31/100\n",
            "927/930 [============================>.] - ETA: 0s - loss: 0.1049 - accuracy: 0.8545\n",
            "Epoch 31: val_loss did not improve from 0.13910\n",
            "930/930 [==============================] - 19s 20ms/step - loss: 0.1049 - accuracy: 0.8544 - val_loss: 0.1458 - val_accuracy: 0.7929\n",
            "Epoch 32/100\n",
            "929/930 [============================>.] - ETA: 0s - loss: 0.1022 - accuracy: 0.8566\n",
            "Epoch 32: val_loss did not improve from 0.13910\n",
            "930/930 [==============================] - 20s 21ms/step - loss: 0.1023 - accuracy: 0.8565 - val_loss: 0.1419 - val_accuracy: 0.8020\n",
            "Epoch 33/100\n",
            "927/930 [============================>.] - ETA: 0s - loss: 0.1014 - accuracy: 0.8583\n",
            "Epoch 33: val_loss did not improve from 0.13910\n",
            "930/930 [==============================] - 18s 20ms/step - loss: 0.1012 - accuracy: 0.8587 - val_loss: 0.1541 - val_accuracy: 0.8020\n",
            "Epoch 34/100\n",
            "928/930 [============================>.] - ETA: 0s - loss: 0.0961 - accuracy: 0.8706\n",
            "Epoch 34: val_loss did not improve from 0.13910\n",
            "930/930 [==============================] - 20s 22ms/step - loss: 0.0963 - accuracy: 0.8705 - val_loss: 0.1624 - val_accuracy: 0.7881\n",
            "Epoch 35/100\n",
            "928/930 [============================>.] - ETA: 0s - loss: 0.0954 - accuracy: 0.8680\n",
            "Epoch 35: val_loss did not improve from 0.13910\n",
            "930/930 [==============================] - 20s 22ms/step - loss: 0.0955 - accuracy: 0.8678 - val_loss: 0.1556 - val_accuracy: 0.7951\n",
            "Epoch 36/100\n",
            "929/930 [============================>.] - ETA: 0s - loss: 0.0934 - accuracy: 0.8719\n",
            "Epoch 36: val_loss did not improve from 0.13910\n",
            "930/930 [==============================] - 20s 21ms/step - loss: 0.0934 - accuracy: 0.8718 - val_loss: 0.1490 - val_accuracy: 0.8107\n",
            "Epoch 37/100\n",
            "930/930 [==============================] - ETA: 0s - loss: 0.0893 - accuracy: 0.8745\n",
            "Epoch 37: val_loss did not improve from 0.13910\n",
            "930/930 [==============================] - 19s 20ms/step - loss: 0.0893 - accuracy: 0.8745 - val_loss: 0.1538 - val_accuracy: 0.7881\n",
            "Epoch 38/100\n",
            "927/930 [============================>.] - ETA: 0s - loss: 0.0931 - accuracy: 0.8762\n",
            "Epoch 38: val_loss did not improve from 0.13910\n",
            "930/930 [==============================] - 20s 21ms/step - loss: 0.0929 - accuracy: 0.8764 - val_loss: 0.1541 - val_accuracy: 0.7994\n",
            "Epoch 39/100\n",
            "928/930 [============================>.] - ETA: 0s - loss: 0.0875 - accuracy: 0.8809\n",
            "Epoch 39: val_loss did not improve from 0.13910\n",
            "930/930 [==============================] - 20s 21ms/step - loss: 0.0875 - accuracy: 0.8810 - val_loss: 0.1486 - val_accuracy: 0.8128\n",
            "Epoch 40/100\n",
            "928/930 [============================>.] - ETA: 0s - loss: 0.0892 - accuracy: 0.8816\n",
            "Epoch 40: val_loss did not improve from 0.13910\n",
            "930/930 [==============================] - 19s 20ms/step - loss: 0.0892 - accuracy: 0.8817 - val_loss: 0.1492 - val_accuracy: 0.8031\n",
            "Epoch 41/100\n",
            "930/930 [==============================] - ETA: 0s - loss: 0.0833 - accuracy: 0.8888\n",
            "Epoch 41: val_loss did not improve from 0.13910\n",
            "930/930 [==============================] - 20s 21ms/step - loss: 0.0833 - accuracy: 0.8888 - val_loss: 0.1509 - val_accuracy: 0.8117\n",
            "Epoch 42/100\n",
            "927/930 [============================>.] - ETA: 0s - loss: 0.0821 - accuracy: 0.8915\n",
            "Epoch 42: val_loss did not improve from 0.13910\n",
            "930/930 [==============================] - 20s 22ms/step - loss: 0.0822 - accuracy: 0.8912 - val_loss: 0.1449 - val_accuracy: 0.8300\n",
            "Epoch 43/100\n",
            "927/930 [============================>.] - ETA: 0s - loss: 0.0818 - accuracy: 0.8933\n",
            "Epoch 43: val_loss did not improve from 0.13910\n",
            "930/930 [==============================] - 20s 21ms/step - loss: 0.0817 - accuracy: 0.8934 - val_loss: 0.1487 - val_accuracy: 0.8063\n",
            "Epoch 44/100\n",
            "929/930 [============================>.] - ETA: 0s - loss: 0.0870 - accuracy: 0.8922\n",
            "Epoch 44: val_loss improved from 0.13910 to 0.13685, saving model to /content/drive/My Drive/DSL_Final_Project/bestModels/Conv2D_24_48_64_Dense_64_model_5_globalMax_remove_stride_ad fc16.h5\n",
            "930/930 [==============================] - 20s 21ms/step - loss: 0.0869 - accuracy: 0.8923 - val_loss: 0.1369 - val_accuracy: 0.8268\n",
            "Epoch 45/100\n",
            "929/930 [============================>.] - ETA: 0s - loss: 0.0782 - accuracy: 0.8983\n",
            "Epoch 45: val_loss did not improve from 0.13685\n",
            "930/930 [==============================] - 20s 21ms/step - loss: 0.0782 - accuracy: 0.8983 - val_loss: 0.1432 - val_accuracy: 0.8252\n",
            "Epoch 46/100\n",
            "929/930 [============================>.] - ETA: 0s - loss: 0.0746 - accuracy: 0.8990\n",
            "Epoch 46: val_loss did not improve from 0.13685\n",
            "930/930 [==============================] - 20s 21ms/step - loss: 0.0746 - accuracy: 0.8987 - val_loss: 0.1420 - val_accuracy: 0.8343\n",
            "Epoch 47/100\n",
            "928/930 [============================>.] - ETA: 0s - loss: 0.0783 - accuracy: 0.8944\n",
            "Epoch 47: val_loss did not improve from 0.13685\n",
            "930/930 [==============================] - 19s 20ms/step - loss: 0.0782 - accuracy: 0.8946 - val_loss: 0.1519 - val_accuracy: 0.8203\n",
            "Epoch 48/100\n",
            "928/930 [============================>.] - ETA: 0s - loss: 0.0722 - accuracy: 0.9096\n",
            "Epoch 48: val_loss did not improve from 0.13685\n",
            "930/930 [==============================] - 20s 21ms/step - loss: 0.0722 - accuracy: 0.9096 - val_loss: 0.1521 - val_accuracy: 0.8101\n",
            "Epoch 49/100\n",
            "929/930 [============================>.] - ETA: 0s - loss: 0.0765 - accuracy: 0.9038\n",
            "Epoch 49: val_loss did not improve from 0.13685\n",
            "930/930 [==============================] - 19s 20ms/step - loss: 0.0765 - accuracy: 0.9038 - val_loss: 0.1510 - val_accuracy: 0.8063\n",
            "Epoch 50/100\n",
            "929/930 [============================>.] - ETA: 0s - loss: 0.0739 - accuracy: 0.9023\n",
            "Epoch 50: val_loss did not improve from 0.13685\n",
            "930/930 [==============================] - 19s 20ms/step - loss: 0.0738 - accuracy: 0.9024 - val_loss: 0.1481 - val_accuracy: 0.8295\n",
            "Epoch 51/100\n",
            "929/930 [============================>.] - ETA: 0s - loss: 0.0724 - accuracy: 0.9024\n",
            "Epoch 51: val_loss improved from 0.13685 to 0.12909, saving model to /content/drive/My Drive/DSL_Final_Project/bestModels/Conv2D_24_48_64_Dense_64_model_5_globalMax_remove_stride_ad fc16.h5\n",
            "930/930 [==============================] - 20s 21ms/step - loss: 0.0724 - accuracy: 0.9025 - val_loss: 0.1291 - val_accuracy: 0.8435\n",
            "Epoch 52/100\n",
            "929/930 [============================>.] - ETA: 0s - loss: 0.0771 - accuracy: 0.9011\n",
            "Epoch 52: val_loss did not improve from 0.12909\n",
            "930/930 [==============================] - 20s 21ms/step - loss: 0.0770 - accuracy: 0.9012 - val_loss: 0.1338 - val_accuracy: 0.8306\n",
            "Epoch 53/100\n",
            "929/930 [============================>.] - ETA: 0s - loss: 0.0682 - accuracy: 0.9100\n",
            "Epoch 53: val_loss did not improve from 0.12909\n",
            "930/930 [==============================] - 20s 21ms/step - loss: 0.0682 - accuracy: 0.9100 - val_loss: 0.1474 - val_accuracy: 0.8289\n",
            "Epoch 54/100\n",
            "929/930 [============================>.] - ETA: 0s - loss: 0.0677 - accuracy: 0.9107\n",
            "Epoch 54: val_loss did not improve from 0.12909\n",
            "930/930 [==============================] - 20s 21ms/step - loss: 0.0677 - accuracy: 0.9106 - val_loss: 0.1405 - val_accuracy: 0.8359\n",
            "Epoch 55/100\n",
            "929/930 [============================>.] - ETA: 0s - loss: 0.0643 - accuracy: 0.9164\n",
            "Epoch 55: val_loss did not improve from 0.12909\n",
            "930/930 [==============================] - 19s 20ms/step - loss: 0.0643 - accuracy: 0.9164 - val_loss: 0.1464 - val_accuracy: 0.8435\n",
            "Epoch 56/100\n",
            "928/930 [============================>.] - ETA: 0s - loss: 0.0719 - accuracy: 0.9080\n",
            "Epoch 56: val_loss did not improve from 0.12909\n",
            "930/930 [==============================] - 20s 21ms/step - loss: 0.0718 - accuracy: 0.9081 - val_loss: 0.1359 - val_accuracy: 0.8375\n",
            "Epoch 57/100\n",
            "927/930 [============================>.] - ETA: 0s - loss: 0.0689 - accuracy: 0.9114\n",
            "Epoch 57: val_loss did not improve from 0.12909\n",
            "930/930 [==============================] - 20s 21ms/step - loss: 0.0687 - accuracy: 0.9115 - val_loss: 0.1439 - val_accuracy: 0.8289\n",
            "Epoch 58/100\n",
            "929/930 [============================>.] - ETA: 0s - loss: 0.0657 - accuracy: 0.9138\n",
            "Epoch 58: val_loss did not improve from 0.12909\n",
            "930/930 [==============================] - 20s 21ms/step - loss: 0.0657 - accuracy: 0.9138 - val_loss: 0.1543 - val_accuracy: 0.8198\n",
            "Epoch 59/100\n",
            "927/930 [============================>.] - ETA: 0s - loss: 0.0598 - accuracy: 0.9198\n",
            "Epoch 59: val_loss did not improve from 0.12909\n",
            "930/930 [==============================] - 20s 21ms/step - loss: 0.0598 - accuracy: 0.9198 - val_loss: 0.1643 - val_accuracy: 0.8214\n",
            "Epoch 60/100\n",
            "928/930 [============================>.] - ETA: 0s - loss: 0.0653 - accuracy: 0.9168\n",
            "Epoch 60: val_loss did not improve from 0.12909\n",
            "930/930 [==============================] - 20s 21ms/step - loss: 0.0653 - accuracy: 0.9168 - val_loss: 0.1397 - val_accuracy: 0.8435\n",
            "Epoch 61/100\n",
            "927/930 [============================>.] - ETA: 0s - loss: 0.0630 - accuracy: 0.9239\n",
            "Epoch 61: val_loss did not improve from 0.12909\n",
            "930/930 [==============================] - 20s 22ms/step - loss: 0.0631 - accuracy: 0.9240 - val_loss: 0.1632 - val_accuracy: 0.8214\n",
            "Epoch 62/100\n",
            "927/930 [============================>.] - ETA: 0s - loss: 0.0697 - accuracy: 0.9188\n",
            "Epoch 62: val_loss did not improve from 0.12909\n",
            "930/930 [==============================] - 20s 21ms/step - loss: 0.0695 - accuracy: 0.9189 - val_loss: 0.1663 - val_accuracy: 0.8133\n",
            "Epoch 63/100\n",
            "928/930 [============================>.] - ETA: 0s - loss: 0.0581 - accuracy: 0.9289\n",
            "Epoch 63: val_loss did not improve from 0.12909\n",
            "930/930 [==============================] - 20s 21ms/step - loss: 0.0581 - accuracy: 0.9289 - val_loss: 0.1896 - val_accuracy: 0.8042\n",
            "Epoch 64/100\n",
            "929/930 [============================>.] - ETA: 0s - loss: 0.0639 - accuracy: 0.9221\n",
            "Epoch 64: val_loss did not improve from 0.12909\n",
            "930/930 [==============================] - 20s 21ms/step - loss: 0.0639 - accuracy: 0.9221 - val_loss: 0.1619 - val_accuracy: 0.8273\n",
            "Epoch 65/100\n",
            "929/930 [============================>.] - ETA: 0s - loss: 0.0548 - accuracy: 0.9303\n",
            "Epoch 65: val_loss did not improve from 0.12909\n",
            "930/930 [==============================] - 19s 20ms/step - loss: 0.0548 - accuracy: 0.9303 - val_loss: 0.1573 - val_accuracy: 0.8322\n",
            "Epoch 66/100\n",
            "929/930 [============================>.] - ETA: 0s - loss: 0.0597 - accuracy: 0.9226\n",
            "Epoch 66: val_loss did not improve from 0.12909\n",
            "930/930 [==============================] - 19s 20ms/step - loss: 0.0597 - accuracy: 0.9227 - val_loss: 0.1684 - val_accuracy: 0.8230\n",
            "Epoch 67/100\n",
            "930/930 [==============================] - ETA: 0s - loss: 0.0585 - accuracy: 0.9256\n",
            "Epoch 67: val_loss did not improve from 0.12909\n",
            "930/930 [==============================] - 20s 22ms/step - loss: 0.0585 - accuracy: 0.9256 - val_loss: 0.1624 - val_accuracy: 0.8176\n",
            "Epoch 68/100\n",
            "929/930 [============================>.] - ETA: 0s - loss: 0.0580 - accuracy: 0.9291\n",
            "Epoch 68: val_loss did not improve from 0.12909\n",
            "930/930 [==============================] - 20s 21ms/step - loss: 0.0580 - accuracy: 0.9290 - val_loss: 0.1540 - val_accuracy: 0.8327\n",
            "Epoch 69/100\n",
            "928/930 [============================>.] - ETA: 0s - loss: 0.0546 - accuracy: 0.9351\n",
            "Epoch 69: val_loss did not improve from 0.12909\n",
            "930/930 [==============================] - 20s 21ms/step - loss: 0.0545 - accuracy: 0.9350 - val_loss: 0.1943 - val_accuracy: 0.7945\n",
            "Epoch 70/100\n",
            "929/930 [============================>.] - ETA: 0s - loss: 0.0588 - accuracy: 0.9244\n",
            "Epoch 70: val_loss did not improve from 0.12909\n",
            "930/930 [==============================] - 20s 22ms/step - loss: 0.0588 - accuracy: 0.9243 - val_loss: 0.1520 - val_accuracy: 0.8429\n",
            "Epoch 71/100\n",
            "929/930 [============================>.] - ETA: 0s - loss: 0.0588 - accuracy: 0.9290\n",
            "Epoch 71: val_loss did not improve from 0.12909\n",
            "930/930 [==============================] - 19s 20ms/step - loss: 0.0587 - accuracy: 0.9290 - val_loss: 0.1567 - val_accuracy: 0.8300\n",
            "Epoch 72/100\n",
            "928/930 [============================>.] - ETA: 0s - loss: 0.0546 - accuracy: 0.9363\n",
            "Epoch 72: val_loss did not improve from 0.12909\n",
            "930/930 [==============================] - 20s 22ms/step - loss: 0.0546 - accuracy: 0.9363 - val_loss: 0.1696 - val_accuracy: 0.8236\n",
            "Epoch 73/100\n",
            "929/930 [============================>.] - ETA: 0s - loss: 0.0538 - accuracy: 0.9307\n",
            "Epoch 73: val_loss did not improve from 0.12909\n",
            "930/930 [==============================] - 19s 21ms/step - loss: 0.0538 - accuracy: 0.9306 - val_loss: 0.1559 - val_accuracy: 0.8381\n",
            "Epoch 74/100\n",
            "929/930 [============================>.] - ETA: 0s - loss: 0.0542 - accuracy: 0.9373\n",
            "Epoch 74: val_loss did not improve from 0.12909\n",
            "930/930 [==============================] - 20s 22ms/step - loss: 0.0542 - accuracy: 0.9373 - val_loss: 0.1515 - val_accuracy: 0.8419\n",
            "Epoch 75/100\n",
            "929/930 [============================>.] - ETA: 0s - loss: 0.0583 - accuracy: 0.9334\n",
            "Epoch 75: val_loss did not improve from 0.12909\n",
            "930/930 [==============================] - 20s 22ms/step - loss: 0.0582 - accuracy: 0.9334 - val_loss: 0.1655 - val_accuracy: 0.8419\n",
            "Epoch 76/100\n",
            "929/930 [============================>.] - ETA: 0s - loss: 0.0541 - accuracy: 0.9361\n",
            "Epoch 76: val_loss did not improve from 0.12909\n",
            "930/930 [==============================] - 19s 20ms/step - loss: 0.0541 - accuracy: 0.9360 - val_loss: 0.1582 - val_accuracy: 0.8456\n",
            "Epoch 77/100\n",
            "927/930 [============================>.] - ETA: 0s - loss: 0.0516 - accuracy: 0.9393\n",
            "Epoch 77: val_loss did not improve from 0.12909\n",
            "930/930 [==============================] - 20s 22ms/step - loss: 0.0517 - accuracy: 0.9392 - val_loss: 0.1702 - val_accuracy: 0.8306\n",
            "Epoch 78/100\n",
            "928/930 [============================>.] - ETA: 0s - loss: 0.0506 - accuracy: 0.9372\n",
            "Epoch 78: val_loss did not improve from 0.12909\n",
            "930/930 [==============================] - 20s 22ms/step - loss: 0.0506 - accuracy: 0.9372 - val_loss: 0.1692 - val_accuracy: 0.8289\n",
            "Epoch 79/100\n",
            "929/930 [============================>.] - ETA: 0s - loss: 0.0522 - accuracy: 0.9388\n",
            "Epoch 79: val_loss did not improve from 0.12909\n",
            "930/930 [==============================] - 20s 22ms/step - loss: 0.0522 - accuracy: 0.9388 - val_loss: 0.1576 - val_accuracy: 0.8370\n",
            "Epoch 80/100\n",
            "930/930 [==============================] - ETA: 0s - loss: 0.0530 - accuracy: 0.9380\n",
            "Epoch 80: val_loss did not improve from 0.12909\n",
            "930/930 [==============================] - 20s 22ms/step - loss: 0.0530 - accuracy: 0.9380 - val_loss: 0.1524 - val_accuracy: 0.8451\n",
            "Epoch 81/100\n",
            "927/930 [============================>.] - ETA: 0s - loss: 0.0453 - accuracy: 0.9458\n",
            "Epoch 81: val_loss did not improve from 0.12909\n",
            "930/930 [==============================] - 19s 21ms/step - loss: 0.0453 - accuracy: 0.9457 - val_loss: 0.1859 - val_accuracy: 0.8311\n",
            "Epoch 82/100\n",
            "929/930 [============================>.] - ETA: 0s - loss: 0.0525 - accuracy: 0.9378\n",
            "Epoch 82: val_loss did not improve from 0.12909\n",
            "930/930 [==============================] - 20s 22ms/step - loss: 0.0524 - accuracy: 0.9379 - val_loss: 0.1799 - val_accuracy: 0.8300\n",
            "Epoch 83/100\n",
            "929/930 [============================>.] - ETA: 0s - loss: 0.0475 - accuracy: 0.9446\n",
            "Epoch 83: val_loss did not improve from 0.12909\n",
            "930/930 [==============================] - 19s 20ms/step - loss: 0.0475 - accuracy: 0.9446 - val_loss: 0.2264 - val_accuracy: 0.8101\n",
            "Epoch 84/100\n",
            "928/930 [============================>.] - ETA: 0s - loss: 0.0497 - accuracy: 0.9418\n",
            "Epoch 84: val_loss did not improve from 0.12909\n",
            "930/930 [==============================] - 20s 22ms/step - loss: 0.0497 - accuracy: 0.9419 - val_loss: 0.1749 - val_accuracy: 0.8370\n",
            "Epoch 85/100\n",
            "928/930 [============================>.] - ETA: 0s - loss: 0.0520 - accuracy: 0.9403\n",
            "Epoch 85: val_loss did not improve from 0.12909\n",
            "930/930 [==============================] - 21s 23ms/step - loss: 0.0520 - accuracy: 0.9403 - val_loss: 0.1689 - val_accuracy: 0.8289\n",
            "Epoch 86/100\n",
            "929/930 [============================>.] - ETA: 0s - loss: 0.0455 - accuracy: 0.9477\n",
            "Epoch 86: val_loss did not improve from 0.12909\n",
            "930/930 [==============================] - 20s 22ms/step - loss: 0.0454 - accuracy: 0.9477 - val_loss: 0.1734 - val_accuracy: 0.8279\n",
            "Epoch 87/100\n",
            "930/930 [==============================] - ETA: 0s - loss: 0.0457 - accuracy: 0.9473\n",
            "Epoch 87: val_loss did not improve from 0.12909\n",
            "930/930 [==============================] - 20s 22ms/step - loss: 0.0457 - accuracy: 0.9473 - val_loss: 0.1731 - val_accuracy: 0.8332\n",
            "Epoch 88/100\n",
            "928/930 [============================>.] - ETA: 0s - loss: 0.0513 - accuracy: 0.9386\n",
            "Epoch 88: val_loss did not improve from 0.12909\n",
            "930/930 [==============================] - 20s 22ms/step - loss: 0.0513 - accuracy: 0.9387 - val_loss: 0.1618 - val_accuracy: 0.8419\n",
            "Epoch 89/100\n",
            "929/930 [============================>.] - ETA: 0s - loss: 0.0408 - accuracy: 0.9516\n",
            "Epoch 89: val_loss did not improve from 0.12909\n",
            "930/930 [==============================] - 20s 22ms/step - loss: 0.0408 - accuracy: 0.9515 - val_loss: 0.1775 - val_accuracy: 0.8435\n",
            "Epoch 90/100\n",
            "929/930 [============================>.] - ETA: 0s - loss: 0.0537 - accuracy: 0.9396\n",
            "Epoch 90: val_loss did not improve from 0.12909\n",
            "930/930 [==============================] - 20s 22ms/step - loss: 0.0536 - accuracy: 0.9396 - val_loss: 0.1779 - val_accuracy: 0.8359\n",
            "Epoch 91/100\n",
            "927/930 [============================>.] - ETA: 0s - loss: 0.0465 - accuracy: 0.9454\n",
            "Epoch 91: val_loss did not improve from 0.12909\n",
            "930/930 [==============================] - 20s 21ms/step - loss: 0.0464 - accuracy: 0.9455 - val_loss: 0.1984 - val_accuracy: 0.8268\n",
            "Epoch 92/100\n",
            "927/930 [============================>.] - ETA: 0s - loss: 0.0412 - accuracy: 0.9508\n",
            "Epoch 92: val_loss did not improve from 0.12909\n",
            "930/930 [==============================] - 20s 22ms/step - loss: 0.0413 - accuracy: 0.9505 - val_loss: 0.2137 - val_accuracy: 0.8230\n",
            "Epoch 93/100\n",
            "928/930 [============================>.] - ETA: 0s - loss: 0.0434 - accuracy: 0.9476\n",
            "Epoch 93: val_loss did not improve from 0.12909\n",
            "930/930 [==============================] - 20s 22ms/step - loss: 0.0434 - accuracy: 0.9477 - val_loss: 0.1852 - val_accuracy: 0.8322\n",
            "Epoch 94/100\n",
            "927/930 [============================>.] - ETA: 0s - loss: 0.0496 - accuracy: 0.9422\n",
            "Epoch 94: val_loss did not improve from 0.12909\n",
            "930/930 [==============================] - 20s 22ms/step - loss: 0.0496 - accuracy: 0.9420 - val_loss: 0.1632 - val_accuracy: 0.8467\n",
            "Epoch 95/100\n",
            "927/930 [============================>.] - ETA: 0s - loss: 0.0485 - accuracy: 0.9488\n",
            "Epoch 95: val_loss did not improve from 0.12909\n",
            "930/930 [==============================] - 20s 22ms/step - loss: 0.0485 - accuracy: 0.9486 - val_loss: 0.1855 - val_accuracy: 0.8445\n",
            "Epoch 96/100\n",
            "929/930 [============================>.] - ETA: 0s - loss: 0.0458 - accuracy: 0.9491\n",
            "Epoch 96: val_loss did not improve from 0.12909\n",
            "930/930 [==============================] - 19s 21ms/step - loss: 0.0458 - accuracy: 0.9492 - val_loss: 0.1844 - val_accuracy: 0.8343\n",
            "Epoch 97/100\n",
            "928/930 [============================>.] - ETA: 0s - loss: 0.0404 - accuracy: 0.9520\n",
            "Epoch 97: val_loss did not improve from 0.12909\n",
            "930/930 [==============================] - 20s 22ms/step - loss: 0.0404 - accuracy: 0.9521 - val_loss: 0.1692 - val_accuracy: 0.8386\n",
            "Epoch 98/100\n",
            "927/930 [============================>.] - ETA: 0s - loss: 0.0471 - accuracy: 0.9471\n",
            "Epoch 98: val_loss did not improve from 0.12909\n",
            "930/930 [==============================] - 20s 22ms/step - loss: 0.0471 - accuracy: 0.9470 - val_loss: 0.1685 - val_accuracy: 0.8435\n",
            "Epoch 99/100\n",
            "930/930 [==============================] - ETA: 0s - loss: 0.0396 - accuracy: 0.9543\n",
            "Epoch 99: val_loss did not improve from 0.12909\n",
            "930/930 [==============================] - 20s 22ms/step - loss: 0.0396 - accuracy: 0.9543 - val_loss: 0.1920 - val_accuracy: 0.8440\n",
            "Epoch 100/100\n",
            "930/930 [==============================] - ETA: 0s - loss: 0.0487 - accuracy: 0.9465\n",
            "Epoch 100: val_loss did not improve from 0.12909\n",
            "930/930 [==============================] - 20s 22ms/step - loss: 0.0487 - accuracy: 0.9465 - val_loss: 0.1728 - val_accuracy: 0.8386\n",
            "59/59 [==============================] - 1s 20ms/step - loss: 0.1728 - accuracy: 0.8386\n",
            "Test loss: 0.17275258898735046\n",
            "Test accuracy: 0.8386229276657104\n"
          ]
        }
      ],
      "source": [
        "model.compile(\n",
        "\toptimizer=\"Adam\",\n",
        "\tloss=\"binary_crossentropy\",\n",
        "\tmetrics=['accuracy'])\n",
        "\n",
        "history = model.fit(\n",
        "\tx=X_train,\n",
        "\ty=y_train,\n",
        "    epochs=100,\n",
        "    batch_size=8,\n",
        "    validation_data= (X_test, y_test),\n",
        "    callbacks=[tensorboard, checkpointer])\n",
        "\n",
        "score = model.evaluate(\n",
        "\tx=X_test,\n",
        "\ty=y_test)\n",
        "\n",
        "print('Test loss:', score[0])\n",
        "print('Test accuracy:', score[1])\n",
        "\n",
        "# Save the model\n",
        "model.save('/content/drive/My Drive/DSL_Final_Project/savedModels/Conv2D_32_48_64_Dense_64_4model_gloablamax_remove_stride_ad fc16.h5')"
      ]
    },
    {
      "cell_type": "code",
      "execution_count": null,
      "metadata": {
        "colab": {
          "base_uri": "https://localhost:8080/",
          "height": 590
        },
        "id": "WEg-K9sSj1va",
        "outputId": "bfd0839a-0bee-48d2-e317-41ff2cbfbe7b"
      },
      "outputs": [
        {
          "output_type": "stream",
          "name": "stdout",
          "text": [
            "dict_keys(['loss', 'accuracy', 'val_loss', 'val_accuracy'])\n"
          ]
        },
        {
          "output_type": "display_data",
          "data": {
            "text/plain": [
              "<Figure size 432x288 with 1 Axes>"
            ],
            "image/png": "[encoded data removed]"
          },
          "metadata": {
            "needs_background": "light"
          }
        },
        {
          "output_type": "display_data",
          "data": {
            "text/plain": [
              "<Figure size 432x288 with 1 Axes>"
            ],
            "image/png": "[encoded data removed]"
          },
          "metadata": {
            "needs_background": "light"
          }
        }
      ],
      "source": [
        "# list all data in history\n",
        "print(history.history.keys())\n",
        "# summarize history for accuracy\n",
        "plt.plot(history.history['accuracy'])\n",
        "plt.plot(history.history['val_accuracy'])\n",
        "plt.title('model accuracy')\n",
        "plt.ylabel('accuracy')\n",
        "plt.xlabel('epoch')\n",
        "plt.legend(['train', 'test'], loc='upper left')\n",
        "plt.show()\n",
        "# summarize history for loss\n",
        "plt.plot(history.history['loss'])\n",
        "plt.plot(history.history['val_loss'])\n",
        "plt.title('model loss')\n",
        "plt.ylabel('loss')\n",
        "plt.xlabel('epoch')\n",
        "plt.legend(['train', 'test'], loc='upper left')\n",
        "plt.show()"
      ]
    },
    {
      "cell_type": "code",
      "source": [
        "# remove this later\n",
        "def predict(name):\n",
        "    b, fs = librosa.core.load(name)\n",
        "    ps = librosa.feature.melspectrogram(b, sr=fs)\n",
        "    S_DB = librosa.power_to_db(ps, ref=np.max)\n",
        "    test = S_DB.reshape(1,128,217,1)\n",
        "    return model.predict(test)"
      ],
      "metadata": {
        "id": "RMyueTsn_ZSF"
      },
      "execution_count": null,
      "outputs": []
    },
    {
      "cell_type": "code",
      "source": [
        "file_path = '/content/drive/My Drive/DSL_Final_Project/evaluation.csv'\n",
        "evaluation = pd.read_csv(file_path)\n",
        "evaluation.head()"
      ],
      "metadata": {
        "colab": {
          "base_uri": "https://localhost:8080/",
          "height": 250
        },
        "id": "n45nq5FH6wzx",
        "outputId": "f82531cf-dfde-4df0-dbbc-b61390fa9187"
      },
      "execution_count": null,
      "outputs": [
        {
          "output_type": "execute_result",
          "data": {
            "text/plain": [
              "   Id                                               path          speakerId  \\\n",
              "0   0  dsl_data/audio/speakers/NgQEvO2x7Vh3xy2xz/f53c...  NgQEvO2x7Vh3xy2xz   \n",
              "1   1  dsl_data/audio/speakers/k5bqyxx2lzIbrlg9/1d5f8...   k5bqyxx2lzIbrlg9   \n",
              "2   2  dsl_data/audio/speakers/7B4XmNppyrCK977p/1c0d5...   7B4XmNppyrCK977p   \n",
              "3   3  dsl_data/audio/speakers/k5bqyxx2lzIbrlg9/275c3...   k5bqyxx2lzIbrlg9   \n",
              "4   4  dsl_data/audio/speakers/V4ZbwLm9G5irobWn/b7c7a...   V4ZbwLm9G5irobWn   \n",
              "\n",
              "  Self-reported fluency level     First Language spoken  \\\n",
              "0                       native  English (United States)   \n",
              "1                       native  English (United States)   \n",
              "2                       native  English (United States)   \n",
              "3                       native  English (United States)   \n",
              "4                       native  English (United States)   \n",
              "\n",
              "  Current language used for work/school  gender ageRange  \n",
              "0               English (United States)    male    22-40  \n",
              "1               English (United States)    male    22-40  \n",
              "2               English (United States)    male    41-65  \n",
              "3               English (United States)    male    22-40  \n",
              "4               English (United States)  female    41-65  "
            ],
            "text/html": [
              "\n",
              "  <div id=\"df-06d4b520-d948-4af7-87b3-1e68a005f06b\">\n",
              "    <div class=\"colab-df-container\">\n",
              "      <div>\n",
              "<style scoped>\n",
              "    .dataframe tbody tr th:only-of-type {\n",
              "        vertical-align: middle;\n",
              "    }\n",
              "\n",
              "    .dataframe tbody tr th {\n",
              "        vertical-align: top;\n",
              "    }\n",
              "\n",
              "    .dataframe thead th {\n",
              "        text-align: right;\n",
              "    }\n",
              "</style>\n",
              "<table border=\"1\" class=\"dataframe\">\n",
              "  <thead>\n",
              "    <tr style=\"text-align: right;\">\n",
              "      <th></th>\n",
              "      <th>Id</th>\n",
              "      <th>path</th>\n",
              "      <th>speakerId</th>\n",
              "      <th>Self-reported fluency level</th>\n",
              "      <th>First Language spoken</th>\n",
              "      <th>Current language used for work/school</th>\n",
              "      <th>gender</th>\n",
              "      <th>ageRange</th>\n",
              "    </tr>\n",
              "  </thead>\n",
              "  <tbody>\n",
              "    <tr>\n",
              "      <th>0</th>\n",
              "      <td>0</td>\n",
              "      <td>dsl_data/audio/speakers/NgQEvO2x7Vh3xy2xz/f53c...</td>\n",
              "      <td>NgQEvO2x7Vh3xy2xz</td>\n",
              "      <td>native</td>\n",
              "      <td>English (United States)</td>\n",
              "      <td>English (United States)</td>\n",
              "      <td>male</td>\n",
              "      <td>22-40</td>\n",
              "    </tr>\n",
              "    <tr>\n",
              "      <th>1</th>\n",
              "      <td>1</td>\n",
              "      <td>dsl_data/audio/speakers/k5bqyxx2lzIbrlg9/1d5f8...</td>\n",
              "      <td>k5bqyxx2lzIbrlg9</td>\n",
              "      <td>native</td>\n",
              "      <td>English (United States)</td>\n",
              "      <td>English (United States)</td>\n",
              "      <td>male</td>\n",
              "      <td>22-40</td>\n",
              "    </tr>\n",
              "    <tr>\n",
              "      <th>2</th>\n",
              "      <td>2</td>\n",
              "      <td>dsl_data/audio/speakers/7B4XmNppyrCK977p/1c0d5...</td>\n",
              "      <td>7B4XmNppyrCK977p</td>\n",
              "      <td>native</td>\n",
              "      <td>English (United States)</td>\n",
              "      <td>English (United States)</td>\n",
              "      <td>male</td>\n",
              "      <td>41-65</td>\n",
              "    </tr>\n",
              "    <tr>\n",
              "      <th>3</th>\n",
              "      <td>3</td>\n",
              "      <td>dsl_data/audio/speakers/k5bqyxx2lzIbrlg9/275c3...</td>\n",
              "      <td>k5bqyxx2lzIbrlg9</td>\n",
              "      <td>native</td>\n",
              "      <td>English (United States)</td>\n",
              "      <td>English (United States)</td>\n",
              "      <td>male</td>\n",
              "      <td>22-40</td>\n",
              "    </tr>\n",
              "    <tr>\n",
              "      <th>4</th>\n",
              "      <td>4</td>\n",
              "      <td>dsl_data/audio/speakers/V4ZbwLm9G5irobWn/b7c7a...</td>\n",
              "      <td>V4ZbwLm9G5irobWn</td>\n",
              "      <td>native</td>\n",
              "      <td>English (United States)</td>\n",
              "      <td>English (United States)</td>\n",
              "      <td>female</td>\n",
              "      <td>41-65</td>\n",
              "    </tr>\n",
              "  </tbody>\n",
              "</table>\n",
              "</div>\n",
              "      <button class=\"colab-df-convert\" onclick=\"convertToInteractive('df-06d4b520-d948-4af7-87b3-1e68a005f06b')\"\n",
              "              title=\"Convert this dataframe to an interactive table.\"\n",
              "              style=\"display:none;\">\n",
              "        \n",
              "  <svg xmlns=\"http://www.w3.org/2000/svg\" height=\"24px\"viewBox=\"0 0 24 24\"\n",
              "       width=\"24px\">\n",
              "    <path d=\"M0 0h24v24H0V0z\" fill=\"none\"/>\n",
              "    <path d=\"M18.56 5.44l.94 2.06.94-2.06 2.06-.94-2.06-.94-.94-2.06-.94 2.06-2.06.94zm-11 1L8.5 8.5l.94-2.06 2.06-.94-2.06-.94L8.5 2.5l-.94 2.06-2.06.94zm10 10l.94 2.06.94-2.06 2.06-.94-2.06-.94-.94-2.06-.94 2.06-2.06.94z\"/><path d=\"M17.41 7.96l-1.37-1.37c-.4-.4-.92-.59-1.43-.59-.52 0-1.04.2-1.43.59L10.3 9.45l-7.72 7.72c-.78.78-.78 2.05 0 2.83L4 21.41c.39.39.9.59 1.41.59.51 0 1.02-.2 1.41-.59l7.78-7.78 2.81-2.81c.8-.78.8-2.07 0-2.86zM5.41 20L4 18.59l7.72-7.72 1.47 1.35L5.41 20z\"/>\n",
              "  </svg>\n",
              "      </button>\n",
              "      \n",
              "  <style>\n",
              "    .colab-df-container {\n",
              "      display:flex;\n",
              "      flex-wrap:wrap;\n",
              "      gap: 12px;\n",
              "    }\n",
              "\n",
              "    .colab-df-convert {\n",
              "      background-color: #E8F0FE;\n",
              "      border: none;\n",
              "      border-radius: 50%;\n",
              "      cursor: pointer;\n",
              "      display: none;\n",
              "      fill: #1967D2;\n",
              "      height: 32px;\n",
              "      padding: 0 0 0 0;\n",
              "      width: 32px;\n",
              "    }\n",
              "\n",
              "    .colab-df-convert:hover {\n",
              "      background-color: #E2EBFA;\n",
              "      box-shadow: 0px 1px 2px rgba(60, 64, 67, 0.3), 0px 1px 3px 1px rgba(60, 64, 67, 0.15);\n",
              "      fill: #174EA6;\n",
              "    }\n",
              "\n",
              "    [theme=dark] .colab-df-convert {\n",
              "      background-color: #3B4455;\n",
              "      fill: #D2E3FC;\n",
              "    }\n",
              "\n",
              "    [theme=dark] .colab-df-convert:hover {\n",
              "      background-color: #434B5C;\n",
              "      box-shadow: 0px 1px 3px 1px rgba(0, 0, 0, 0.15);\n",
              "      filter: drop-shadow(0px 1px 2px rgba(0, 0, 0, 0.3));\n",
              "      fill: #FFFFFF;\n",
              "    }\n",
              "  </style>\n",
              "\n",
              "      <script>\n",
              "        const buttonEl =\n",
              "          document.querySelector('#df-06d4b520-d948-4af7-87b3-1e68a005f06b button.colab-df-convert');\n",
              "        buttonEl.style.display =\n",
              "          google.colab.kernel.accessAllowed ? 'block' : 'none';\n",
              "\n",
              "        async function convertToInteractive(key) {\n",
              "          const element = document.querySelector('#df-06d4b520-d948-4af7-87b3-1e68a005f06b');\n",
              "          const dataTable =\n",
              "            await google.colab.kernel.invokeFunction('convertToInteractive',\n",
              "                                                     [key], {});\n",
              "          if (!dataTable) return;\n",
              "\n",
              "          const docLinkHtml = 'Like what you see? Visit the ' +\n",
              "            '<a target=\"_blank\" href=https://colab.research.google.com/notebooks/data_table.ipynb>data table notebook</a>'\n",
              "            + ' to learn more about interactive tables.';\n",
              "          element.innerHTML = '';\n",
              "          dataTable['output_type'] = 'display_data';\n",
              "          await google.colab.output.renderOutput(dataTable, element);\n",
              "          const docLink = document.createElement('div');\n",
              "          docLink.innerHTML = docLinkHtml;\n",
              "          element.appendChild(docLink);\n",
              "        }\n",
              "      </script>\n",
              "    </div>\n",
              "  </div>\n",
              "  "
            ]
          },
          "metadata": {},
          "execution_count": 96
        }
      ]
    },
    {
      "cell_type": "code",
      "execution_count": null,
      "metadata": {
        "id": "uoMZ-C_bj2gS"
      },
      "outputs": [],
      "source": [
        "def features_extractor(file):\n",
        "    audio, sample_rate = librosa.load(file_name, res_type='kaiser_fast')\n",
        "    audio = audio[:76670]\n",
        "    zero_padding = tf.zeros([76670] - tf.shape(audio), dtype=tf.float32)\n",
        "    audio = tf.concat([audio, zero_padding ],0)\n",
        "    audio = np.array(audio)\n",
        "    mfccs_features = librosa.feature.mfcc(y=audio, sr=sample_rate, n_mfcc=20)\n",
        "\n",
        "    return mfccs_features"
      ]
    },
    {
      "cell_type": "code",
      "execution_count": null,
      "metadata": {
        "id": "e1Hw_n8mj8FS",
        "colab": {
          "base_uri": "https://localhost:8080/"
        },
        "outputId": "9a40713d-b7ff-4f22-ee20-dc9cfc8611cd"
      },
      "outputs": [
        {
          "output_type": "stream",
          "name": "stderr",
          "text": [
            "1455it [01:06, 21.78it/s]\n"
          ]
        }
      ],
      "source": [
        "import numpy as np\n",
        "from tqdm import tqdm\n",
        "### Now we iterate through every audio file and extract features\n",
        "### using Mel-Frequency Cepstral Coefficients\n",
        "extracted_features=[]\n",
        "\n",
        "for index_num,row in tqdm(evaluation.iterrows()):\n",
        "    file_name = os.path.join('/content/drive/My Drive/DSL_Final_Project',str(row[\"path\"]))\n",
        "    data=features_extractor(file_name)\n",
        "    extracted_features.append([data])\n"
      ]
    },
    {
      "cell_type": "code",
      "execution_count": null,
      "metadata": {
        "id": "oTuRfXl8j9oZ",
        "colab": {
          "base_uri": "https://localhost:8080/",
          "height": 206
        },
        "outputId": "82dd4822-6da4-4802-df33-3d8a9d15d2de"
      },
      "outputs": [
        {
          "output_type": "execute_result",
          "data": {
            "text/plain": [
              "                                             feature\n",
              "0  [[-617.2023, -617.2023, -617.2023, -617.2023, ...\n",
              "1  [[-549.2558, -528.61554, -531.20276, -543.3042...\n",
              "2  [[-701.62256, -701.41895, -701.2874, -701.6225...\n",
              "3  [[-603.5141, -571.7804, -526.16187, -506.65253...\n",
              "4  [[-567.13184, -505.84366, -481.97388, -484.483..."
            ],
            "text/html": [
              "\n",
              "  <div id=\"df-39ee4254-b931-44a7-b8fe-60de60054a94\">\n",
              "    <div class=\"colab-df-container\">\n",
              "      <div>\n",
              "<style scoped>\n",
              "    .dataframe tbody tr th:only-of-type {\n",
              "        vertical-align: middle;\n",
              "    }\n",
              "\n",
              "    .dataframe tbody tr th {\n",
              "        vertical-align: top;\n",
              "    }\n",
              "\n",
              "    .dataframe thead th {\n",
              "        text-align: right;\n",
              "    }\n",
              "</style>\n",
              "<table border=\"1\" class=\"dataframe\">\n",
              "  <thead>\n",
              "    <tr style=\"text-align: right;\">\n",
              "      <th></th>\n",
              "      <th>feature</th>\n",
              "    </tr>\n",
              "  </thead>\n",
              "  <tbody>\n",
              "    <tr>\n",
              "      <th>0</th>\n",
              "      <td>[[-617.2023, -617.2023, -617.2023, -617.2023, ...</td>\n",
              "    </tr>\n",
              "    <tr>\n",
              "      <th>1</th>\n",
              "      <td>[[-549.2558, -528.61554, -531.20276, -543.3042...</td>\n",
              "    </tr>\n",
              "    <tr>\n",
              "      <th>2</th>\n",
              "      <td>[[-701.62256, -701.41895, -701.2874, -701.6225...</td>\n",
              "    </tr>\n",
              "    <tr>\n",
              "      <th>3</th>\n",
              "      <td>[[-603.5141, -571.7804, -526.16187, -506.65253...</td>\n",
              "    </tr>\n",
              "    <tr>\n",
              "      <th>4</th>\n",
              "      <td>[[-567.13184, -505.84366, -481.97388, -484.483...</td>\n",
              "    </tr>\n",
              "  </tbody>\n",
              "</table>\n",
              "</div>\n",
              "      <button class=\"colab-df-convert\" onclick=\"convertToInteractive('df-39ee4254-b931-44a7-b8fe-60de60054a94')\"\n",
              "              title=\"Convert this dataframe to an interactive table.\"\n",
              "              style=\"display:none;\">\n",
              "        \n",
              "  <svg xmlns=\"http://www.w3.org/2000/svg\" height=\"24px\"viewBox=\"0 0 24 24\"\n",
              "       width=\"24px\">\n",
              "    <path d=\"M0 0h24v24H0V0z\" fill=\"none\"/>\n",
              "    <path d=\"M18.56 5.44l.94 2.06.94-2.06 2.06-.94-2.06-.94-.94-2.06-.94 2.06-2.06.94zm-11 1L8.5 8.5l.94-2.06 2.06-.94-2.06-.94L8.5 2.5l-.94 2.06-2.06.94zm10 10l.94 2.06.94-2.06 2.06-.94-2.06-.94-.94-2.06-.94 2.06-2.06.94z\"/><path d=\"M17.41 7.96l-1.37-1.37c-.4-.4-.92-.59-1.43-.59-.52 0-1.04.2-1.43.59L10.3 9.45l-7.72 7.72c-.78.78-.78 2.05 0 2.83L4 21.41c.39.39.9.59 1.41.59.51 0 1.02-.2 1.41-.59l7.78-7.78 2.81-2.81c.8-.78.8-2.07 0-2.86zM5.41 20L4 18.59l7.72-7.72 1.47 1.35L5.41 20z\"/>\n",
              "  </svg>\n",
              "      </button>\n",
              "      \n",
              "  <style>\n",
              "    .colab-df-container {\n",
              "      display:flex;\n",
              "      flex-wrap:wrap;\n",
              "      gap: 12px;\n",
              "    }\n",
              "\n",
              "    .colab-df-convert {\n",
              "      background-color: #E8F0FE;\n",
              "      border: none;\n",
              "      border-radius: 50%;\n",
              "      cursor: pointer;\n",
              "      display: none;\n",
              "      fill: #1967D2;\n",
              "      height: 32px;\n",
              "      padding: 0 0 0 0;\n",
              "      width: 32px;\n",
              "    }\n",
              "\n",
              "    .colab-df-convert:hover {\n",
              "      background-color: #E2EBFA;\n",
              "      box-shadow: 0px 1px 2px rgba(60, 64, 67, 0.3), 0px 1px 3px 1px rgba(60, 64, 67, 0.15);\n",
              "      fill: #174EA6;\n",
              "    }\n",
              "\n",
              "    [theme=dark] .colab-df-convert {\n",
              "      background-color: #3B4455;\n",
              "      fill: #D2E3FC;\n",
              "    }\n",
              "\n",
              "    [theme=dark] .colab-df-convert:hover {\n",
              "      background-color: #434B5C;\n",
              "      box-shadow: 0px 1px 3px 1px rgba(0, 0, 0, 0.15);\n",
              "      filter: drop-shadow(0px 1px 2px rgba(0, 0, 0, 0.3));\n",
              "      fill: #FFFFFF;\n",
              "    }\n",
              "  </style>\n",
              "\n",
              "      <script>\n",
              "        const buttonEl =\n",
              "          document.querySelector('#df-39ee4254-b931-44a7-b8fe-60de60054a94 button.colab-df-convert');\n",
              "        buttonEl.style.display =\n",
              "          google.colab.kernel.accessAllowed ? 'block' : 'none';\n",
              "\n",
              "        async function convertToInteractive(key) {\n",
              "          const element = document.querySelector('#df-39ee4254-b931-44a7-b8fe-60de60054a94');\n",
              "          const dataTable =\n",
              "            await google.colab.kernel.invokeFunction('convertToInteractive',\n",
              "                                                     [key], {});\n",
              "          if (!dataTable) return;\n",
              "\n",
              "          const docLinkHtml = 'Like what you see? Visit the ' +\n",
              "            '<a target=\"_blank\" href=https://colab.research.google.com/notebooks/data_table.ipynb>data table notebook</a>'\n",
              "            + ' to learn more about interactive tables.';\n",
              "          element.innerHTML = '';\n",
              "          dataTable['output_type'] = 'display_data';\n",
              "          await google.colab.output.renderOutput(dataTable, element);\n",
              "          const docLink = document.createElement('div');\n",
              "          docLink.innerHTML = docLinkHtml;\n",
              "          element.appendChild(docLink);\n",
              "        }\n",
              "      </script>\n",
              "    </div>\n",
              "  </div>\n",
              "  "
            ]
          },
          "metadata": {},
          "execution_count": 99
        }
      ],
      "source": [
        "extracted_features_df=pd.DataFrame(extracted_features,columns=['feature'])\n",
        "extracted_features_df.head()\n"
      ]
    },
    {
      "cell_type": "code",
      "source": [
        "X=np.array(extracted_features_df['feature'].tolist())\n"
      ],
      "metadata": {
        "id": "c7kvQumWChzV"
      },
      "execution_count": null,
      "outputs": []
    },
    {
      "cell_type": "code",
      "source": [
        "X.shape"
      ],
      "metadata": {
        "colab": {
          "base_uri": "https://localhost:8080/"
        },
        "id": "fdqNIvLBClEE",
        "outputId": "ed07e624-e863-4d1f-bbd3-db26885b49d8"
      },
      "execution_count": null,
      "outputs": [
        {
          "output_type": "execute_result",
          "data": {
            "text/plain": [
              "(1455, 20, 150)"
            ]
          },
          "metadata": {},
          "execution_count": 101
        }
      ]
    },
    {
      "cell_type": "code",
      "source": [
        "X = X.reshape(1455,20,150,1)"
      ],
      "metadata": {
        "id": "7qD7B1_KCr8s"
      },
      "execution_count": null,
      "outputs": []
    },
    {
      "cell_type": "code",
      "source": [
        "predictions = model.predict(X)"
      ],
      "metadata": {
        "colab": {
          "base_uri": "https://localhost:8080/"
        },
        "id": "HGlpBzniCvVc",
        "outputId": "c43528cd-053a-41f9-d32f-98d87dd93228"
      },
      "execution_count": null,
      "outputs": [
        {
          "output_type": "stream",
          "name": "stdout",
          "text": [
            "46/46 [==============================] - 1s 19ms/step\n"
          ]
        }
      ]
    },
    {
      "cell_type": "code",
      "source": [
        "predictions = np.argmax(predictions, axis=-1)\n",
        "predictions[:25]"
      ],
      "metadata": {
        "colab": {
          "base_uri": "https://localhost:8080/"
        },
        "id": "1SjbDfebILoc",
        "outputId": "5f4dc26a-41bf-4670-ce45-6653bf384bd1"
      },
      "execution_count": null,
      "outputs": [
        {
          "output_type": "execute_result",
          "data": {
            "text/plain": [
              "array([4, 5, 5, 2, 4, 0, 6, 2, 3, 2, 5, 3, 2, 4, 6, 4, 1, 3, 4, 2, 1, 4,\n",
              "       6, 4, 4])"
            ]
          },
          "metadata": {},
          "execution_count": 104
        }
      ]
    },
    {
      "cell_type": "code",
      "source": [
        "\n",
        "predicted_classes = labelencoder.inverse_transform(predictions)\n"
      ],
      "metadata": {
        "id": "MkzwAtvCE3xP"
      },
      "execution_count": null,
      "outputs": []
    },
    {
      "cell_type": "code",
      "source": [
        "predicted_classes"
      ],
      "metadata": {
        "colab": {
          "base_uri": "https://localhost:8080/"
        },
        "id": "8TlBnmptJhvD",
        "outputId": "4d0e44ca-6e73-4fc6-b37b-8d7721d2d6c2"
      },
      "execution_count": null,
      "outputs": [
        {
          "output_type": "execute_result",
          "data": {
            "text/plain": [
              "array(['decreasevolume', 'increaseheat', 'increaseheat', ...,\n",
              "       'increaseheat', 'decreaseheat', 'activatemusic'], dtype='<U19')"
            ]
          },
          "metadata": {},
          "execution_count": 106
        }
      ]
    },
    {
      "cell_type": "code",
      "source": [
        " id = np.arange(0, len(predicted_classes)-1)"
      ],
      "metadata": {
        "id": "9zbYrjZ9MBXj"
      },
      "execution_count": null,
      "outputs": []
    },
    {
      "cell_type": "code",
      "source": [
        "finalEval= pd.DataFrame(predicted_classes)\n"
      ],
      "metadata": {
        "id": "vR8fF3NTK7yd"
      },
      "execution_count": null,
      "outputs": []
    },
    {
      "cell_type": "code",
      "source": [
        "df = pd.DataFrame([x for x in range(len(predicted_classes))], columns=['Id'])\n",
        "df.head()"
      ],
      "metadata": {
        "colab": {
          "base_uri": "https://localhost:8080/",
          "height": 206
        },
        "id": "ej0zRAwRMOeB",
        "outputId": "fac2f0f6-492c-4937-f0e3-f63a12349321"
      },
      "execution_count": null,
      "outputs": [
        {
          "output_type": "execute_result",
          "data": {
            "text/plain": [
              "   Id\n",
              "0   0\n",
              "1   1\n",
              "2   2\n",
              "3   3\n",
              "4   4"
            ],
            "text/html": [
              "\n",
              "  <div id=\"df-f3e983fa-50ca-4325-8539-659de3bc502e\">\n",
              "    <div class=\"colab-df-container\">\n",
              "      <div>\n",
              "<style scoped>\n",
              "    .dataframe tbody tr th:only-of-type {\n",
              "        vertical-align: middle;\n",
              "    }\n",
              "\n",
              "    .dataframe tbody tr th {\n",
              "        vertical-align: top;\n",
              "    }\n",
              "\n",
              "    .dataframe thead th {\n",
              "        text-align: right;\n",
              "    }\n",
              "</style>\n",
              "<table border=\"1\" class=\"dataframe\">\n",
              "  <thead>\n",
              "    <tr style=\"text-align: right;\">\n",
              "      <th></th>\n",
              "      <th>Id</th>\n",
              "    </tr>\n",
              "  </thead>\n",
              "  <tbody>\n",
              "    <tr>\n",
              "      <th>0</th>\n",
              "      <td>0</td>\n",
              "    </tr>\n",
              "    <tr>\n",
              "      <th>1</th>\n",
              "      <td>1</td>\n",
              "    </tr>\n",
              "    <tr>\n",
              "      <th>2</th>\n",
              "      <td>2</td>\n",
              "    </tr>\n",
              "    <tr>\n",
              "      <th>3</th>\n",
              "      <td>3</td>\n",
              "    </tr>\n",
              "    <tr>\n",
              "      <th>4</th>\n",
              "      <td>4</td>\n",
              "    </tr>\n",
              "  </tbody>\n",
              "</table>\n",
              "</div>\n",
              "      <button class=\"colab-df-convert\" onclick=\"convertToInteractive('df-f3e983fa-50ca-4325-8539-659de3bc502e')\"\n",
              "              title=\"Convert this dataframe to an interactive table.\"\n",
              "              style=\"display:none;\">\n",
              "        \n",
              "  <svg xmlns=\"http://www.w3.org/2000/svg\" height=\"24px\"viewBox=\"0 0 24 24\"\n",
              "       width=\"24px\">\n",
              "    <path d=\"M0 0h24v24H0V0z\" fill=\"none\"/>\n",
              "    <path d=\"M18.56 5.44l.94 2.06.94-2.06 2.06-.94-2.06-.94-.94-2.06-.94 2.06-2.06.94zm-11 1L8.5 8.5l.94-2.06 2.06-.94-2.06-.94L8.5 2.5l-.94 2.06-2.06.94zm10 10l.94 2.06.94-2.06 2.06-.94-2.06-.94-.94-2.06-.94 2.06-2.06.94z\"/><path d=\"M17.41 7.96l-1.37-1.37c-.4-.4-.92-.59-1.43-.59-.52 0-1.04.2-1.43.59L10.3 9.45l-7.72 7.72c-.78.78-.78 2.05 0 2.83L4 21.41c.39.39.9.59 1.41.59.51 0 1.02-.2 1.41-.59l7.78-7.78 2.81-2.81c.8-.78.8-2.07 0-2.86zM5.41 20L4 18.59l7.72-7.72 1.47 1.35L5.41 20z\"/>\n",
              "  </svg>\n",
              "      </button>\n",
              "      \n",
              "  <style>\n",
              "    .colab-df-container {\n",
              "      display:flex;\n",
              "      flex-wrap:wrap;\n",
              "      gap: 12px;\n",
              "    }\n",
              "\n",
              "    .colab-df-convert {\n",
              "      background-color: #E8F0FE;\n",
              "      border: none;\n",
              "      border-radius: 50%;\n",
              "      cursor: pointer;\n",
              "      display: none;\n",
              "      fill: #1967D2;\n",
              "      height: 32px;\n",
              "      padding: 0 0 0 0;\n",
              "      width: 32px;\n",
              "    }\n",
              "\n",
              "    .colab-df-convert:hover {\n",
              "      background-color: #E2EBFA;\n",
              "      box-shadow: 0px 1px 2px rgba(60, 64, 67, 0.3), 0px 1px 3px 1px rgba(60, 64, 67, 0.15);\n",
              "      fill: #174EA6;\n",
              "    }\n",
              "\n",
              "    [theme=dark] .colab-df-convert {\n",
              "      background-color: #3B4455;\n",
              "      fill: #D2E3FC;\n",
              "    }\n",
              "\n",
              "    [theme=dark] .colab-df-convert:hover {\n",
              "      background-color: #434B5C;\n",
              "      box-shadow: 0px 1px 3px 1px rgba(0, 0, 0, 0.15);\n",
              "      filter: drop-shadow(0px 1px 2px rgba(0, 0, 0, 0.3));\n",
              "      fill: #FFFFFF;\n",
              "    }\n",
              "  </style>\n",
              "\n",
              "      <script>\n",
              "        const buttonEl =\n",
              "          document.querySelector('#df-f3e983fa-50ca-4325-8539-659de3bc502e button.colab-df-convert');\n",
              "        buttonEl.style.display =\n",
              "          google.colab.kernel.accessAllowed ? 'block' : 'none';\n",
              "\n",
              "        async function convertToInteractive(key) {\n",
              "          const element = document.querySelector('#df-f3e983fa-50ca-4325-8539-659de3bc502e');\n",
              "          const dataTable =\n",
              "            await google.colab.kernel.invokeFunction('convertToInteractive',\n",
              "                                                     [key], {});\n",
              "          if (!dataTable) return;\n",
              "\n",
              "          const docLinkHtml = 'Like what you see? Visit the ' +\n",
              "            '<a target=\"_blank\" href=https://colab.research.google.com/notebooks/data_table.ipynb>data table notebook</a>'\n",
              "            + ' to learn more about interactive tables.';\n",
              "          element.innerHTML = '';\n",
              "          dataTable['output_type'] = 'display_data';\n",
              "          await google.colab.output.renderOutput(dataTable, element);\n",
              "          const docLink = document.createElement('div');\n",
              "          docLink.innerHTML = docLinkHtml;\n",
              "          element.appendChild(docLink);\n",
              "        }\n",
              "      </script>\n",
              "    </div>\n",
              "  </div>\n",
              "  "
            ]
          },
          "metadata": {},
          "execution_count": 109
        }
      ]
    },
    {
      "cell_type": "code",
      "source": [
        "df['Predicted'] = predicted_classes\n",
        "df.head()"
      ],
      "metadata": {
        "colab": {
          "base_uri": "https://localhost:8080/",
          "height": 206
        },
        "id": "HOjKLYwpMcL8",
        "outputId": "b8cfc352-e4a3-4a4c-96c8-f83871857556"
      },
      "execution_count": null,
      "outputs": [
        {
          "output_type": "execute_result",
          "data": {
            "text/plain": [
              "   Id         Predicted\n",
              "0   0    decreasevolume\n",
              "1   1      increaseheat\n",
              "2   2      increaseheat\n",
              "3   3  deactivatelights\n",
              "4   4    decreasevolume"
            ],
            "text/html": [
              "\n",
              "  <div id=\"df-a0bdada2-826c-4f38-9e11-f067d602c2af\">\n",
              "    <div class=\"colab-df-container\">\n",
              "      <div>\n",
              "<style scoped>\n",
              "    .dataframe tbody tr th:only-of-type {\n",
              "        vertical-align: middle;\n",
              "    }\n",
              "\n",
              "    .dataframe tbody tr th {\n",
              "        vertical-align: top;\n",
              "    }\n",
              "\n",
              "    .dataframe thead th {\n",
              "        text-align: right;\n",
              "    }\n",
              "</style>\n",
              "<table border=\"1\" class=\"dataframe\">\n",
              "  <thead>\n",
              "    <tr style=\"text-align: right;\">\n",
              "      <th></th>\n",
              "      <th>Id</th>\n",
              "      <th>Predicted</th>\n",
              "    </tr>\n",
              "  </thead>\n",
              "  <tbody>\n",
              "    <tr>\n",
              "      <th>0</th>\n",
              "      <td>0</td>\n",
              "      <td>decreasevolume</td>\n",
              "    </tr>\n",
              "    <tr>\n",
              "      <th>1</th>\n",
              "      <td>1</td>\n",
              "      <td>increaseheat</td>\n",
              "    </tr>\n",
              "    <tr>\n",
              "      <th>2</th>\n",
              "      <td>2</td>\n",
              "      <td>increaseheat</td>\n",
              "    </tr>\n",
              "    <tr>\n",
              "      <th>3</th>\n",
              "      <td>3</td>\n",
              "      <td>deactivatelights</td>\n",
              "    </tr>\n",
              "    <tr>\n",
              "      <th>4</th>\n",
              "      <td>4</td>\n",
              "      <td>decreasevolume</td>\n",
              "    </tr>\n",
              "  </tbody>\n",
              "</table>\n",
              "</div>\n",
              "      <button class=\"colab-df-convert\" onclick=\"convertToInteractive('df-a0bdada2-826c-4f38-9e11-f067d602c2af')\"\n",
              "              title=\"Convert this dataframe to an interactive table.\"\n",
              "              style=\"display:none;\">\n",
              "        \n",
              "  <svg xmlns=\"http://www.w3.org/2000/svg\" height=\"24px\"viewBox=\"0 0 24 24\"\n",
              "       width=\"24px\">\n",
              "    <path d=\"M0 0h24v24H0V0z\" fill=\"none\"/>\n",
              "    <path d=\"M18.56 5.44l.94 2.06.94-2.06 2.06-.94-2.06-.94-.94-2.06-.94 2.06-2.06.94zm-11 1L8.5 8.5l.94-2.06 2.06-.94-2.06-.94L8.5 2.5l-.94 2.06-2.06.94zm10 10l.94 2.06.94-2.06 2.06-.94-2.06-.94-.94-2.06-.94 2.06-2.06.94z\"/><path d=\"M17.41 7.96l-1.37-1.37c-.4-.4-.92-.59-1.43-.59-.52 0-1.04.2-1.43.59L10.3 9.45l-7.72 7.72c-.78.78-.78 2.05 0 2.83L4 21.41c.39.39.9.59 1.41.59.51 0 1.02-.2 1.41-.59l7.78-7.78 2.81-2.81c.8-.78.8-2.07 0-2.86zM5.41 20L4 18.59l7.72-7.72 1.47 1.35L5.41 20z\"/>\n",
              "  </svg>\n",
              "      </button>\n",
              "      \n",
              "  <style>\n",
              "    .colab-df-container {\n",
              "      display:flex;\n",
              "      flex-wrap:wrap;\n",
              "      gap: 12px;\n",
              "    }\n",
              "\n",
              "    .colab-df-convert {\n",
              "      background-color: #E8F0FE;\n",
              "      border: none;\n",
              "      border-radius: 50%;\n",
              "      cursor: pointer;\n",
              "      display: none;\n",
              "      fill: #1967D2;\n",
              "      height: 32px;\n",
              "      padding: 0 0 0 0;\n",
              "      width: 32px;\n",
              "    }\n",
              "\n",
              "    .colab-df-convert:hover {\n",
              "      background-color: #E2EBFA;\n",
              "      box-shadow: 0px 1px 2px rgba(60, 64, 67, 0.3), 0px 1px 3px 1px rgba(60, 64, 67, 0.15);\n",
              "      fill: #174EA6;\n",
              "    }\n",
              "\n",
              "    [theme=dark] .colab-df-convert {\n",
              "      background-color: #3B4455;\n",
              "      fill: #D2E3FC;\n",
              "    }\n",
              "\n",
              "    [theme=dark] .colab-df-convert:hover {\n",
              "      background-color: #434B5C;\n",
              "      box-shadow: 0px 1px 3px 1px rgba(0, 0, 0, 0.15);\n",
              "      filter: drop-shadow(0px 1px 2px rgba(0, 0, 0, 0.3));\n",
              "      fill: #FFFFFF;\n",
              "    }\n",
              "  </style>\n",
              "\n",
              "      <script>\n",
              "        const buttonEl =\n",
              "          document.querySelector('#df-a0bdada2-826c-4f38-9e11-f067d602c2af button.colab-df-convert');\n",
              "        buttonEl.style.display =\n",
              "          google.colab.kernel.accessAllowed ? 'block' : 'none';\n",
              "\n",
              "        async function convertToInteractive(key) {\n",
              "          const element = document.querySelector('#df-a0bdada2-826c-4f38-9e11-f067d602c2af');\n",
              "          const dataTable =\n",
              "            await google.colab.kernel.invokeFunction('convertToInteractive',\n",
              "                                                     [key], {});\n",
              "          if (!dataTable) return;\n",
              "\n",
              "          const docLinkHtml = 'Like what you see? Visit the ' +\n",
              "            '<a target=\"_blank\" href=https://colab.research.google.com/notebooks/data_table.ipynb>data table notebook</a>'\n",
              "            + ' to learn more about interactive tables.';\n",
              "          element.innerHTML = '';\n",
              "          dataTable['output_type'] = 'display_data';\n",
              "          await google.colab.output.renderOutput(dataTable, element);\n",
              "          const docLink = document.createElement('div');\n",
              "          docLink.innerHTML = docLinkHtml;\n",
              "          element.appendChild(docLink);\n",
              "        }\n",
              "      </script>\n",
              "    </div>\n",
              "  </div>\n",
              "  "
            ]
          },
          "metadata": {},
          "execution_count": 110
        }
      ]
    },
    {
      "cell_type": "code",
      "source": [
        "df.to_csv('final.csv', index=False)"
      ],
      "metadata": {
        "id": "JjYgUAxR-6ox"
      },
      "execution_count": null,
      "outputs": []
    }
  ],
  "metadata": {
    "accelerator": "GPU",
    "colab": {
      "provenance": []
    },
    "gpuClass": "standard",
    "kernelspec": {
      "display_name": "Python 3",
      "name": "python3"
    },
    "language_info": {
      "name": "python"
    }
  },
  "nbformat": 4,
  "nbformat_minor": 0
}