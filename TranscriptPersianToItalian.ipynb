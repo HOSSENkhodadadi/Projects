{
  "nbformat": 4,
  "nbformat_minor": 0,
  "metadata": {
    "colab": {
      "provenance": [],
      "authorship_tag": "ABX9TyMoPv+Wn0yKz70iJORES/Wb",
      "include_colab_link": true
    },
    "kernelspec": {
      "name": "python3",
      "display_name": "Python 3"
    },
    "language_info": {
      "name": "python"
    }
  },
  "cells": [
    {
      "cell_type": "markdown",
      "metadata": {
        "id": "view-in-github",
        "colab_type": "text"
      },
      "source": [
        "<a href=\"https://colab.research.google.com/github/HOSSENkhodadadi/Projects/blob/main/TranscriptPersianToItalian.ipynb\" target=\"_parent\"><img src=\"https://colab.research.google.com/assets/colab-badge.svg\" alt=\"Open In Colab\"/></a>"
      ]
    },
    {
      "cell_type": "code",
      "execution_count": null,
      "metadata": {
        "id": "u23gnf0-XuLM"
      },
      "outputs": [],
      "source": [
        "# This is the Persian to Italian GPA convertor"
      ]
    },
    {
      "cell_type": "code",
      "source": [
        "import pandas as pd\n",
        "df = pd.read_excel('rawTranscriptScores.xlsx' )"
      ],
      "metadata": {
        "colab": {
          "base_uri": "https://localhost:8080/",
          "height": 0
        },
        "id": "wDAR69gqRMIN",
        "outputId": "c215a573-fb6b-4c13-a05e-2a0f947e2406"
      },
      "execution_count": 64,
      "outputs": [
        {
          "output_type": "execute_result",
          "data": {
            "text/plain": [
              "(59, 2)"
            ]
          },
          "metadata": {},
          "execution_count": 64
        }
      ]
    },
    {
      "cell_type": "code",
      "source": [
        "\n",
        "\n",
        "def add_US(row):\n",
        "    if row[\"Persian_Grade\"] >= 17:\n",
        "      return 4\n",
        "    elif row[\"Persian_Grade\"] <= 16.99 and row[\"Persian_Grade\"] >= 14:\n",
        "      return 3\n",
        "    elif row[\"Persian_Grade\"] <= 13.99 and row[\"Persian_Grade\"] >= 12:\n",
        "      return 2\n",
        "    elif row[\"Persian_Grade\"] <= 11.99 and row[\"Persian_Grade\"] >= 10:\n",
        "      return 1\n",
        "df['US_Grade'] = df.apply(add_US, axis=1)\n",
        "\n",
        "\n",
        "def add_Italian(row):\n",
        "    if row[\"Persian_Grade\"] >= 17:\n",
        "      return 30\n",
        "    elif row[\"Persian_Grade\"] <= 16.99 and row[\"Persian_Grade\"] >= 14:\n",
        "      return 28\n",
        "    elif row[\"Persian_Grade\"] <= 13.99 and row[\"Persian_Grade\"] >= 12:\n",
        "      return 25\n",
        "    elif row[\"Persian_Grade\"] <= 11.99 and row[\"Persian_Grade\"] >= 10:\n",
        "      return 20\n",
        "df['Italian_Grade'] = df.apply(add_Italian, axis=1)\n",
        "\n"
      ],
      "metadata": {
        "id": "UDU1CeDVa_Vd"
      },
      "execution_count": 88,
      "outputs": []
    },
    {
      "cell_type": "code",
      "source": [
        "print(df[:59])\n"
      ],
      "metadata": {
        "colab": {
          "base_uri": "https://localhost:8080/",
          "height": 0
        },
        "id": "O6E_8Gp1bL0F",
        "outputId": "f1cabc8d-ac57-48bc-d857-e1eca71d5dc1"
      },
      "execution_count": 101,
      "outputs": [
        {
          "output_type": "stream",
          "name": "stdout",
          "text": [
            "    Persian_Grade  Weight  US_Grade  Italian_Grade  sumItalian\n",
            "0           20.00     3.0       4.0           30.0        90.0\n",
            "1           13.00     3.0       2.0           25.0        75.0\n",
            "2           20.00     3.0       4.0           30.0        90.0\n",
            "3           20.00     2.0       4.0           30.0        60.0\n",
            "4           20.00     1.0       4.0           30.0        30.0\n",
            "5           19.90     3.0       4.0           30.0        90.0\n",
            "6           15.50     1.0       3.0           28.0        28.0\n",
            "7           18.20     3.0       4.0           30.0        90.0\n",
            "8           17.50     3.0       4.0           30.0        90.0\n",
            "9           19.50     1.0       4.0           30.0        30.0\n",
            "10          19.25     3.0       4.0           30.0        90.0\n",
            "11          18.50     3.0       4.0           30.0        90.0\n",
            "12          20.00     3.0       4.0           30.0        90.0\n",
            "13          19.00     2.0       4.0           30.0        60.0\n",
            "14          16.50     1.0       3.0           28.0        28.0\n",
            "15          18.50     1.0       4.0           30.0        30.0\n",
            "16          17.50     1.0       4.0           30.0        30.0\n",
            "17          12.50     3.0       2.0           25.0        75.0\n",
            "18          15.20     2.0       3.0           28.0        56.0\n",
            "19          12.75     3.0       2.0           25.0        75.0\n",
            "20          19.00     2.0       4.0           30.0        60.0\n",
            "21          14.20     3.0       3.0           28.0        84.0\n",
            "22          17.75     3.0       4.0           30.0        90.0\n",
            "23          11.40     3.0       1.0           20.0        60.0\n",
            "24          12.50     3.0       2.0           25.0        75.0\n",
            "25          20.00     1.0       4.0           30.0        30.0\n",
            "26          19.28     3.0       4.0           30.0        90.0\n",
            "27          19.00     2.0       4.0           30.0        60.0\n",
            "28          15.00     1.0       3.0           28.0        28.0\n",
            "29          11.50     3.0       1.0           20.0        60.0\n",
            "30          16.00     2.0       3.0           28.0        56.0\n",
            "31          17.02     3.0       4.0           30.0        90.0\n",
            "32          13.20     3.0       2.0           25.0        75.0\n",
            "33          19.50     3.0       4.0           30.0        90.0\n",
            "34          16.00     3.0       3.0           28.0        84.0\n",
            "35          15.50     3.0       3.0           28.0        84.0\n",
            "36          18.25     3.0       4.0           30.0        90.0\n",
            "37          20.00     1.0       4.0           30.0        30.0\n",
            "38          19.75     3.0       4.0           30.0        90.0\n",
            "39          20.00     2.0       4.0           30.0        60.0\n",
            "40          16.00     3.0       3.0           28.0        84.0\n",
            "41          19.60     3.0       4.0           30.0        90.0\n",
            "42          19.50     3.0       4.0           30.0        90.0\n",
            "43          19.00     3.0       4.0           30.0        90.0\n",
            "44          16.50     3.0       3.0           28.0        84.0\n",
            "45          18.07     3.0       4.0           30.0        90.0\n",
            "46          20.00     2.0       4.0           30.0        60.0\n",
            "47          20.00     2.0       4.0           30.0        60.0\n",
            "48          16.25     1.0       3.0           28.0        28.0\n",
            "49          12.00     1.0       2.0           25.0        25.0\n",
            "50          18.75     1.0       4.0           30.0        30.0\n",
            "51          15.00     3.0       3.0           28.0        84.0\n",
            "52          15.75     3.0       3.0           28.0        84.0\n",
            "53          17.25     3.0       4.0           30.0        90.0\n",
            "54          19.33     1.0       4.0           30.0        30.0\n",
            "55          16.75     1.0       3.0           28.0        28.0\n",
            "56          19.00     3.0       4.0           30.0        90.0\n",
            "57          20.00     3.0       4.0           30.0        90.0\n",
            "58          17.00     3.0       4.0           30.0        90.0\n"
          ]
        }
      ]
    },
    {
      "cell_type": "code",
      "source": [
        "GPA_out_of_Thirty = (df[\"Italian_Grade\"]*df[\"Weight\"]).sum()/df['Weight'].sum()\n",
        "\n",
        "print(f\"GPA_out_of_Thirty is: {GPA_out_of_Thirty} \\n\")\n",
        "\n",
        "avgofHundredTen = GPA_out_of_Thirty*(11/3)\n",
        "\n",
        "print(f\"GPA_out_of_Hundred is: {avgofHundredTen} \\n\")\n"
      ],
      "metadata": {
        "colab": {
          "base_uri": "https://localhost:8080/",
          "height": 0
        },
        "id": "_8MYEn0ivBdf",
        "outputId": "e0fdcd4d-97f9-4fbb-bcb5-349d0112c33e"
      },
      "execution_count": 103,
      "outputs": [
        {
          "output_type": "stream",
          "name": "stdout",
          "text": [
            "GPA_out_of_Thirty is: 28.571428571428573 \n",
            "\n",
            "GPA_out_of_Hundred is: 104.76190476190476 \n",
            "\n"
          ]
        }
      ]
    }
  ]
}