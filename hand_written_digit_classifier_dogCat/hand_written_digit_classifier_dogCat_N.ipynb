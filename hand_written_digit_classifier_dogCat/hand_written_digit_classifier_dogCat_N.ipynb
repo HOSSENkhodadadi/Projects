{
  "nbformat": 4,
  "nbformat_minor": 0,
  "metadata": {
    "colab": {
      "provenance": [],
      "authorship_tag": "ABX9TyNiFjf6sN/eNLR0mefWYO4L",
      "include_colab_link": true
    },
    "kernelspec": {
      "name": "python3",
      "display_name": "Python 3"
    },
    "language_info": {
      "name": "python"
    }
  },
  "cells": [
    {
      "cell_type": "markdown",
      "metadata": {
        "id": "view-in-github",
        "colab_type": "text"
      },
      "source": [
        "<a href=\"https://colab.research.google.com/github/HOSSENkhodadadi/Projects/blob/main/hand_written_digit_classifier_dogCat/hand_written_digit_classifier_dogCat_N.ipynb\" target=\"_parent\"><img src=\"https://colab.research.google.com/assets/colab-badge.svg\" alt=\"Open In Colab\"/></a>"
      ]
    },
    {
      "cell_type": "code",
      "metadata": {
        "colab": {
          "base_uri": "https://localhost:8080/",
          "height": 174
        },
        "id": "xrOaCRWl1JYk",
        "outputId": "e349d551-dcaf-410e-bd7a-6fa87a5016b4"
      },
      "source": [
        "import tensorflow as tf\n",
        "mnist = tf.keras.datasets.mnist  #28*28 images of hand-written digits 0-9\n",
        "(x_train, y_train),(x_test,y_test) = mnist.load_data()\n",
        "x_train = tf.keras.utils.normalize(x_train,axis=1)\n",
        "x_test = tf.keras.utils.normalize(x_test,axis=1)\n",
        "\n",
        "model = tf.keras.models.Sequential()\n",
        "model.add(tf.keras.layers.Flatten())\n",
        "model.add(tf.keras.layers.Dense(128, activation = tf.nn.relu))\n",
        "model.add(tf.keras.layers.Dense(128, activation = tf.nn.relu))\n",
        "model.add(tf.keras.layers.Dense(10, activation = tf.nn.softmax))\n",
        "model.compile(optimizer ='adam',\n",
        "              loss ='sparse_categorical_crossentropy' ,\n",
        "              metrics = ['accuracy']\n",
        "              )\n",
        "model.fit(x_train, y_train,epochs =3)\n",
        "'''\n",
        "import matplotlib.pyplot as plt\n",
        "plt.imshow(x_train[0], cmap = plt.cm.binary)\n",
        "\n",
        "#plt.show()\n",
        "'''"
      ],
      "execution_count": null,
      "outputs": [
        {
          "output_type": "stream",
          "name": "stdout",
          "text": [
            "Downloading data from https://storage.googleapis.com/tensorflow/tf-keras-datasets/mnist.npz\n",
            "11490434/11490434 [==============================] - 0s 0us/step\n",
            "Epoch 1/3\n",
            "1875/1875 [==============================] - 13s 6ms/step - loss: 0.2645 - accuracy: 0.9239\n",
            "Epoch 2/3\n",
            "1875/1875 [==============================] - 9s 5ms/step - loss: 0.1095 - accuracy: 0.9663\n",
            "Epoch 3/3\n",
            "1875/1875 [==============================] - 6s 3ms/step - loss: 0.0744 - accuracy: 0.9773\n"
          ]
        },
        {
          "output_type": "execute_result",
          "data": {
            "text/plain": [
              "'\\nimport matplotlib.pyplot as plt\\nplt.imshow(x_train[0], cmap = plt.cm.binary)\\n\\n#plt.show()\\n'"
            ],
            "application/vnd.google.colaboratory.intrinsic+json": {
              "type": "string"
            }
          },
          "metadata": {},
          "execution_count": 1
        }
      ]
    },
    {
      "cell_type": "code",
      "metadata": {
        "colab": {
          "base_uri": "https://localhost:8080/"
        },
        "id": "u_h2jhurjjwG",
        "outputId": "8c5a65e0-ed41-4dee-d572-45ae5a492160"
      },
      "source": [
        "val_loss, val_acc = model.evaluate(x_test, y_test)\n",
        "print (val_loss, val_acc)"
      ],
      "execution_count": null,
      "outputs": [
        {
          "output_type": "stream",
          "name": "stdout",
          "text": [
            "313/313 [==============================] - 1s 2ms/step - loss: 0.1007 - accuracy: 0.9706\n",
            "0.10073710978031158 0.9706000089645386\n"
          ]
        }
      ]
    },
    {
      "cell_type": "markdown",
      "metadata": {
        "id": "XOAgIqhG1yPt"
      },
      "source": []
    },
    {
      "cell_type": "code",
      "metadata": {
        "id": "6j15QlR210IX",
        "colab": {
          "base_uri": "https://localhost:8080/"
        },
        "outputId": "97a82b60-b05e-4a96-8a0d-f41d6fab750a"
      },
      "source": [
        "model.save('epic_num_reader.model')\n",
        "new_model = tf.keras.models.load_model('epic_num_reader.model')\n",
        "predictions = new_model.predict([x_test])\n",
        "print(predictions)"
      ],
      "execution_count": null,
      "outputs": [
        {
          "output_type": "stream",
          "name": "stdout",
          "text": [
            "313/313 [==============================] - 1s 2ms/step\n",
            "[[8.4841517e-10 8.2548425e-08 2.7633772e-05 ... 9.9994129e-01\n",
            "  7.5570554e-09 1.2232815e-07]\n",
            " [9.7133213e-12 1.5400863e-05 9.9998099e-01 ... 1.3892801e-10\n",
            "  4.6014272e-09 5.7418222e-14]\n",
            " [1.0228512e-06 9.9961740e-01 1.3341845e-04 ... 9.3391376e-05\n",
            "  5.7056619e-05 9.9153647e-07]\n",
            " ...\n",
            " [4.6673076e-08 2.4108949e-06 1.8105463e-06 ... 1.8105362e-04\n",
            "  2.1442280e-05 7.2561513e-04]\n",
            " [2.8314967e-06 3.2649932e-06 1.3084744e-05 ... 2.7335484e-06\n",
            "  4.7339690e-03 4.1609901e-08]\n",
            " [8.4535117e-08 1.4732363e-07 4.4222052e-06 ... 2.9844911e-11\n",
            "  1.6277694e-08 4.6061241e-12]]\n"
          ]
        }
      ]
    },
    {
      "cell_type": "code",
      "metadata": {
        "colab": {
          "base_uri": "https://localhost:8080/"
        },
        "id": "qY_NuS9Jk-Xu",
        "outputId": "8045a791-cb7c-45a3-f4d3-41ab687657ef"
      },
      "source": [
        "import numpy as np\n",
        "import matplotlib.pyplot as plt\n",
        "print (np.argmax(predictions[99]))"
      ],
      "execution_count": null,
      "outputs": [
        {
          "output_type": "stream",
          "name": "stdout",
          "text": [
            "9\n"
          ]
        }
      ]
    },
    {
      "cell_type": "code",
      "metadata": {
        "colab": {
          "base_uri": "https://localhost:8080/",
          "height": 265
        },
        "id": "TPoPPXxklUZK",
        "outputId": "6ced1be2-3afa-4075-dfdd-af1500301280"
      },
      "source": [
        "plt.imshow(x_test[99])\n",
        "plt.show()"
      ],
      "execution_count": null,
      "outputs": [
        {
          "output_type": "display_data",
          "data": {
            "text/plain": [
              "<Figure size 432x288 with 1 Axes>"
            ],
            "image/png": "[encoded data removed]"
          },
          "metadata": {
            "needs_background": "light"
          }
        }
      ]
    },
    {
      "cell_type": "markdown",
      "metadata": {
        "id": "GHDGSJHo3xtt"
      },
      "source": [
        "second project\n",
        "loading outside dataset"
      ]
    },
    {
      "cell_type": "code",
      "metadata": {
        "id": "JvrHbtcH30xv"
      },
      "source": [
        "import numpy as np\n",
        "import matplotlib.pyplot as plt\n",
        "import os\n",
        "import cv2"
      ],
      "execution_count": null,
      "outputs": []
    },
    {
      "cell_type": "code",
      "metadata": {
        "id": "AavPkXOY72Tr",
        "colab": {
          "base_uri": "https://localhost:8080/",
          "height": 130
        },
        "outputId": "a9f47e9e-d999-4bc7-dfc2-2b9a46a32832"
      },
      "source": [
        "DATADIR = \"\"\n",
        "CATEGORIES = [\"Dog\",\"Cat\"]\n",
        "for category in CATEGORIES:\n",
        "    path = os.path.join(DATDIR, category)\n",
        "    for img in os.listdir(path)\n",
        "      img_array= cv2.imread(os.path.join(path,img), cv2.IMREAD_GRAYSCALE )\n",
        "      plt.imshow(img_array, cmap = \"gray\")\n",
        "      plt.show()\n",
        "      break\n",
        "    break"
      ],
      "execution_count": null,
      "outputs": [
        {
          "output_type": "error",
          "ename": "SyntaxError",
          "evalue": "ignored",
          "traceback": [
            "\u001b[0;36m  File \u001b[0;32m\"<ipython-input-14-7af3c719498a>\"\u001b[0;36m, line \u001b[0;32m5\u001b[0m\n\u001b[0;31m    for img in os.listdir(path)\u001b[0m\n\u001b[0m                               ^\u001b[0m\n\u001b[0;31mSyntaxError\u001b[0m\u001b[0;31m:\u001b[0m invalid syntax\n"
          ]
        }
      ]
    },
    {
      "cell_type": "code",
      "metadata": {
        "id": "5H6TeK7EBAZl"
      },
      "source": [],
      "execution_count": null,
      "outputs": []
    },
    {
      "cell_type": "markdown",
      "metadata": {
        "id": "ugM2k4SD_2F3"
      },
      "source": []
    }
  ]
}